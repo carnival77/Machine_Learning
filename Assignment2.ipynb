{
  "nbformat": 4,
  "nbformat_minor": 0,
  "metadata": {
    "colab": {
      "name": "Assignment2.ipynb",
      "provenance": [],
      "collapsed_sections": [],
      "mount_file_id": "1C8HbUzGNeRnD5AQO-Bil9HPx40n3dTrW",
      "authorship_tag": "ABX9TyMxceDhRiUHQLoynlHN0opf",
      "include_colab_link": true
    },
    "kernelspec": {
      "name": "python3",
      "display_name": "Python 3"
    }
  },
  "cells": [
    {
      "cell_type": "markdown",
      "metadata": {
        "id": "view-in-github",
        "colab_type": "text"
      },
      "source": [
        "<a href=\"https://colab.research.google.com/github/carnival77/Machine_Learning/blob/master/Assignment2.ipynb\" target=\"_parent\"><img src=\"https://colab.research.google.com/assets/colab-badge.svg\" alt=\"Open In Colab\"/></a>"
      ]
    },
    {
      "cell_type": "markdown",
      "metadata": {
        "id": "4QY2-0_-KING",
        "colab_type": "text"
      },
      "source": [
        "#**1.Input Data**"
      ]
    },
    {
      "cell_type": "code",
      "metadata": {
        "id": "eSKPcuq3LspB",
        "colab_type": "code",
        "outputId": "0cefd46a-e3ff-441c-81b3-b9bb7ab7dffc",
        "colab": {
          "base_uri": "https://localhost:8080/",
          "height": 248
        }
      },
      "source": [
        "!pip install tensorflow==1.4\n",
        "import matplotlib.pyplot as plt\n",
        "import numpy as np\n",
        "import tensorflow as tf"
      ],
      "execution_count": 23,
      "outputs": [
        {
          "output_type": "stream",
          "text": [
            "Requirement already satisfied: tensorflow==1.4 in /usr/local/lib/python3.6/dist-packages (1.4.0)\n",
            "Requirement already satisfied: numpy>=1.12.1 in /usr/local/lib/python3.6/dist-packages (from tensorflow==1.4) (1.18.2)\n",
            "Requirement already satisfied: tensorflow-tensorboard<0.5.0,>=0.4.0rc1 in /usr/local/lib/python3.6/dist-packages (from tensorflow==1.4) (0.4.0)\n",
            "Requirement already satisfied: enum34>=1.1.6 in /usr/local/lib/python3.6/dist-packages (from tensorflow==1.4) (1.1.10)\n",
            "Requirement already satisfied: wheel>=0.26 in /usr/local/lib/python3.6/dist-packages (from tensorflow==1.4) (0.34.2)\n",
            "Requirement already satisfied: protobuf>=3.3.0 in /usr/local/lib/python3.6/dist-packages (from tensorflow==1.4) (3.10.0)\n",
            "Requirement already satisfied: six>=1.10.0 in /usr/local/lib/python3.6/dist-packages (from tensorflow==1.4) (1.12.0)\n",
            "Requirement already satisfied: html5lib==0.9999999 in /usr/local/lib/python3.6/dist-packages (from tensorflow-tensorboard<0.5.0,>=0.4.0rc1->tensorflow==1.4) (0.9999999)\n",
            "Requirement already satisfied: markdown>=2.6.8 in /usr/local/lib/python3.6/dist-packages (from tensorflow-tensorboard<0.5.0,>=0.4.0rc1->tensorflow==1.4) (3.2.1)\n",
            "Requirement already satisfied: werkzeug>=0.11.10 in /usr/local/lib/python3.6/dist-packages (from tensorflow-tensorboard<0.5.0,>=0.4.0rc1->tensorflow==1.4) (1.0.0)\n",
            "Requirement already satisfied: bleach==1.5.0 in /usr/local/lib/python3.6/dist-packages (from tensorflow-tensorboard<0.5.0,>=0.4.0rc1->tensorflow==1.4) (1.5.0)\n",
            "Requirement already satisfied: setuptools in /usr/local/lib/python3.6/dist-packages (from protobuf>=3.3.0->tensorflow==1.4) (46.0.0)\n"
          ],
          "name": "stdout"
        }
      ]
    },
    {
      "cell_type": "markdown",
      "metadata": {
        "id": "jXCn7gOMaVv2",
        "colab_type": "text"
      },
      "source": [
        "#(1)\n",
        "m = 1000, a = 0.1, b = 0.4, σ = 0.03.\n",
        "\n",
        "y=y^​+n -> y​=ax+b+n where n ~ N(0,0.03^2) \n",
        "\n",
        "1000개의 실수 [x,y] 데이터 생성\n",
        "그 후 xi_arr, yi_arr 배열에 각각 저장.\n"
      ]
    },
    {
      "cell_type": "code",
      "metadata": {
        "id": "GMe1PVUDZeyl",
        "colab_type": "code",
        "colab": {}
      },
      "source": [
        "num_points = 1000\n",
        "vertors = []\n",
        "for i in range(num_points):\n",
        "  xi= np.random.normal(0.0,0.5) # random x value\n",
        "  y_hat = xi*0.1 + 0.4 # y_hat = 0.1*xi + 0.4\n",
        "  yi= y_hat + np.random.normal(0.0, 0.03) # y=y^​+n -> y^​=ax+b+n where n ~ N(0,0.03^2)\n",
        "  vertors.append([xi,yi]) # 1000개의 [x,y] 데이터 생성.\n",
        "xi_arr = [v[0] for v in vertors]\n",
        "yi_arr = [v[1] for v in vertors]\n",
        "  "
      ],
      "execution_count": 0,
      "outputs": []
    },
    {
      "cell_type": "markdown",
      "metadata": {
        "id": "q9VGPQVlRlKm",
        "colab_type": "text"
      },
      "source": [
        "#(2)\n",
        "straight line of linear function y_hat = 0.1*xi + 0.4 \n",
        "and data_set points"
      ]
    },
    {
      "cell_type": "code",
      "metadata": {
        "id": "hqLfooSZClNw",
        "colab_type": "code",
        "outputId": "4b46e581-88c4-4115-d22c-1c20e83c8f47",
        "colab": {
          "base_uri": "https://localhost:8080/",
          "height": 265
        }
      },
      "source": [
        "plt.plot(xi_arr,yi_arr,\"ko\",label = \"Data points\")\n",
        "a_val = np.arange(-1.5,1.5,0.2)\n",
        "y=[0.1*x +0.4 for x in a_val]\n",
        "plt.plot(a_val,y,label=\"linear function\")\n",
        "plt.legend()\n",
        "plt.show()"
      ],
      "execution_count": 25,
      "outputs": [
        {
          "output_type": "display_data",
          "data": {
            "image/png": "[encoded data removed]",
            "text/plain": [
              "<Figure size 432x288 with 1 Axes>"
            ]
          },
          "metadata": {
            "tags": []
          }
        }
      ]
    },
    {
      "cell_type": "markdown",
      "metadata": {
        "id": "3aFZ1isaTKr2",
        "colab_type": "text"
      },
      "source": [
        "#**2. Output results**"
      ]
    },
    {
      "cell_type": "markdown",
      "metadata": {
        "id": "ohVaVw4CY-66",
        "colab_type": "text"
      },
      "source": [
        "W : random values\n",
        "\n",
        "b : 0\n",
        "\n",
        "MSE -> gap"
      ]
    },
    {
      "cell_type": "code",
      "metadata": {
        "id": "F69FXmsdTQaa",
        "colab_type": "code",
        "colab": {}
      },
      "source": [
        "W = tf.Variable(tf.random_uniform([1],-1.0,1.0))\n",
        "b=tf.Variable(tf.zeros([1]))\n",
        "y=xi_arr*W+b\n",
        "gap = tf.reduce_mean(tf.square(y-yi_arr))"
      ],
      "execution_count": 0,
      "outputs": []
    },
    {
      "cell_type": "markdown",
      "metadata": {
        "id": "iYnq1XFmcRlw",
        "colab_type": "text"
      },
      "source": [
        "Minimize gap using Gradient Descent \n",
        "\n",
        "Set learning rate with 0.5"
      ]
    },
    {
      "cell_type": "code",
      "metadata": {
        "id": "JtM4nswtY6z_",
        "colab_type": "code",
        "colab": {}
      },
      "source": [
        "optimizer = tf.train.GradientDescentOptimizer(0.5)\n",
        "train = optimizer.minimize(gap)\n",
        "init = tf.global_variables_initializer()\n",
        "sess = tf.Session()\n",
        "sess.run(init)"
      ],
      "execution_count": 0,
      "outputs": []
    },
    {
      "cell_type": "markdown",
      "metadata": {
        "id": "CZ0Iy_cJfTlC",
        "colab_type": "text"
      },
      "source": [
        "15회 반복"
      ]
    },
    {
      "cell_type": "code",
      "metadata": {
        "id": "8veBmyb_cwZQ",
        "colab_type": "code",
        "colab": {
          "base_uri": "https://localhost:8080/",
          "height": 265
        },
        "outputId": "06cb10e5-8787-4af4-b489-4c9e3fc68f25"
      },
      "source": [
        "for step in range(15):\n",
        "  sess.run(train)\n",
        "plt.plot(xi_arr,yi_arr,'ko',label=\"data points\")\n",
        "plt.plot(xi_arr,sess.run(W)*xi_arr + sess.run(b),color=\"red\",label=\"optimized linear graph\")\n",
        "plt.legend()\n",
        "plt.show()"
      ],
      "execution_count": 32,
      "outputs": [
        {
          "output_type": "display_data",
          "data": {
            "image/png": "[encoded data removed]",
            "text/plain": [
              "<Figure size 432x288 with 1 Axes>"
            ]
          },
          "metadata": {
            "tags": []
          }
        }
      ]
    }
  ]
}