{
  "nbformat": 4,
  "nbformat_minor": 0,
  "metadata": {
    "colab": {
      "name": "Assignment2.ipynb",
      "provenance": [],
      "toc_visible": true,
      "mount_file_id": "1C8HbUzGNeRnD5AQO-Bil9HPx40n3dTrW",
      "authorship_tag": "ABX9TyPDXroeLHZZ7J22mVTV2aai",
      "include_colab_link": true
    },
    "kernelspec": {
      "name": "python3",
      "display_name": "Python 3"
    }
  },
  "cells": [
    {
      "cell_type": "markdown",
      "metadata": {
        "id": "view-in-github",
        "colab_type": "text"
      },
      "source": [
        "<a href=\"https://colab.research.google.com/github/carnival77/Machine_Learning/blob/master/Assignment2.ipynb\" target=\"_parent\"><img src=\"https://colab.research.google.com/assets/colab-badge.svg\" alt=\"Open In Colab\"/></a>"
      ]
    },
    {
      "cell_type": "code",
      "metadata": {
        "id": "uU7F_tWcDnJN",
        "colab_type": "code",
        "colab": {
          "base_uri": "https://localhost:8080/",
          "height": 52
        },
        "outputId": "4218dc4e-85e7-4909-b059-86a019588603"
      },
      "source": [
        ""
      ],
      "execution_count": 5,
      "outputs": [
        {
          "output_type": "stream",
          "text": [
            "cat: '/content/drive/My Drive/Colab': No such file or directory\n",
            "cat: Notebooks/practice/hello.txt: No such file or directory\n"
          ],
          "name": "stdout"
        }
      ]
    }
  ]
}