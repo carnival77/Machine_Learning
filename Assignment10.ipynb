{
  "nbformat": 4,
  "nbformat_minor": 0,
  "metadata": {
    "colab": {
      "name": "Assignment10.ipynb",
      "provenance": [],
      "collapsed_sections": [],
      "mount_file_id": "1yy-t5TIjTIyw6_lp9azgAGIhlNeoXxx1",
      "authorship_tag": "ABX9TyPN9nW52XatDKK/+pD6gVXT",
      "include_colab_link": true
    },
    "kernelspec": {
      "display_name": "Python 3",
      "language": "python",
      "name": "python3"
    },
    "language_info": {
      "codemirror_mode": {
        "name": "ipython",
        "version": 3
      },
      "file_extension": ".py",
      "mimetype": "text/x-python",
      "name": "python",
      "nbconvert_exporter": "python",
      "pygments_lexer": "ipython3",
      "version": "3.8.2"
    },
    "accelerator": "GPU"
  },
  "cells": [
    {
      "cell_type": "markdown",
      "metadata": {
        "id": "view-in-github",
        "colab_type": "text"
      },
      "source": [
        "<a href=\"https://colab.research.google.com/github/carnival77/Machine_Learning/blob/master/Assignment10.ipynb\" target=\"_parent\"><img src=\"https://colab.research.google.com/assets/colab-badge.svg\" alt=\"Open In Colab\"/></a>"
      ]
    },
    {
      "cell_type": "markdown",
      "metadata": {
        "id": "RO9f7HuzsvQ9",
        "colab_type": "text"
      },
      "source": [
        "#**1. Input Data**"
      ]
    },
    {
      "cell_type": "markdown",
      "metadata": {
        "id": "xOqSLLhbsyte",
        "colab_type": "text"
      },
      "source": [
        "* load the data file ('mnist_test.csv')\n",
        "* each row of the data consists of the label and the image pixel values in a vector form\n",
        "* the label is one of the 10 digits from 0 to 9\n",
        "* the image represents one of the 10 digits from 0 to 9 in grey scale and its size is 28x28"
      ]
    },
    {
      "cell_type": "code",
      "metadata": {
        "id": "EN_AbyMGc3yk",
        "colab_type": "code",
        "colab": {}
      },
      "source": [
        "import numpy as np\n",
        "import matplotlib.pyplot as plt\n",
        "import csv\n",
        "\n",
        "file_data   = \"/content/drive/My Drive/Colab Notebooks/assignment10/mnist.csv\"\n",
        "handle_file = open(file_data, \"r\")\n",
        "data        = handle_file.readlines()\n",
        "handle_file.close()\n",
        "\n",
        "size_row    = 28    # height of the image\n",
        "size_col    = 28    # width of the image\n",
        "\n",
        "num_image   = len(data)\n",
        "count1       = 0     # count for the number of images\n",
        "count2       = 0 \n",
        "\n",
        "#\n",
        "# normalize the values of the input data to be [0, 1]\n",
        "#\n",
        "def normalize(data):\n",
        "\n",
        "    data_normalized = (data - min(data)) / (max(data) - min(data))\n",
        "\n",
        "    return(data_normalized)\n",
        "\n",
        "#\n",
        "# example of distance function between two vectors x and y\n",
        "#\n",
        "def distance(x, y):\n",
        "\n",
        "    d = (x - y) ** 2\n",
        "    s = np.sum(d)\n",
        "    # r = np.sqrt(s)\n",
        "\n",
        "    return(s)\n",
        "\n",
        "training_num = 1000\n",
        "testing_num = 9000\n",
        "\n",
        "#\n",
        "# make a matrix each column of which represents an images in a vector form\n",
        "#\n",
        "# list_image  = np.empty((size_row * size_col, num_image), dtype=float)\n",
        "list_training_image = np.empty((size_row * size_col, training_num), dtype=float)\n",
        "list_testing_image = np.empty((size_row * size_col, testing_num), dtype=float)\n",
        "\n",
        "# list_label  = np.empty(num_image, dtype=int)\n",
        "list_training_label  = np.empty(training_num, dtype=int)\n",
        "list_testing_label  = np.empty(testing_num, dtype=int)\n",
        "\n",
        "for line in enumerate(data):\n",
        "\n",
        "  if(line[0]<1000):\n",
        "\n",
        "    line_data   = line[1].split(',')\n",
        "    label       = line_data[0]\n",
        "    im_vector   = np.asfarray(line_data[1:])\n",
        "    im_vector   = normalize(im_vector)\n",
        "\n",
        "    list_training_label[count1]       = label\n",
        "    list_training_image[:, count1]    = im_vector\n",
        "\n",
        "    count1 += 1\n",
        "  \n",
        "  else:\n",
        "    # count2 = 0 \n",
        "  \n",
        "    line_data   = line[1].split(',')\n",
        "    label       = line_data[0]\n",
        "    im_vector   = np.asfarray(line_data[1:])\n",
        "    im_vector   = normalize(im_vector)\n",
        "\n",
        "    list_testing_label[count2]       = label\n",
        "    list_testing_image[:, count2]    = im_vector\n",
        "\n",
        "    count2 += 1\n",
        "\n",
        "# list_training_image : 784 x 6000\n",
        "# list_testing_image  : 784 x 4000\n",
        "print()"
      ],
      "execution_count": 0,
      "outputs": []
    },
    {
      "cell_type": "code",
      "metadata": {
        "id": "NUFJjp4W7FZe",
        "colab_type": "code",
        "colab": {}
      },
      "source": [
        "# np.random.seed(0)\n",
        "\n",
        "mu,sigma = 0.0,1.0\n",
        "\n",
        "# rand_norm = np.random.normal(mu,sigma,size=28*28)\n",
        "\n",
        "def sigmoid(x):\n",
        "    return 1 / (1 +np.exp(-x))\n",
        "\n",
        "class Layer:\n",
        "  def __init__(self,n_neurons,n_inputs,n):\n",
        "    np.random.seed(n)\n",
        "    self.weights = np.random.normal(mu,sigma,(n_neurons ,n_inputs))\n",
        "    self.biases = np.zeros(n_neurons)\n",
        "  def forward(self,inputs, weights):\n",
        "    self.output = sigmoid(np.dot(weights,inputs) + self.biases)  \n",
        "    return self.output\n"
      ],
      "execution_count": 0,
      "outputs": []
    },
    {
      "cell_type": "markdown",
      "metadata": {
        "id": "tSMqlR6wSqi5",
        "colab_type": "text"
      },
      "source": [
        "x = inputs ( T_list_training_image )\n",
        "\n",
        "y = layer1_output\n",
        "\n",
        "z = layer2_output\n",
        "\n",
        "h = layer3_output"
      ]
    },
    {
      "cell_type": "code",
      "metadata": {
        "id": "NhI8RCmuHGPf",
        "colab_type": "code",
        "colab": {}
      },
      "source": [
        "layer1 = Layer(196,784,1)\n",
        "layer2 = Layer(49,196,2)\n",
        "layer3 = Layer(10,49,3)"
      ],
      "execution_count": 0,
      "outputs": []
    },
    {
      "cell_type": "code",
      "metadata": {
        "id": "8b7Do795HMI7",
        "colab_type": "code",
        "colab": {}
      },
      "source": [
        "T_list_training_image = np.array(list_training_image).T # 1000 x 784. inputs x\n",
        "\n",
        "T_list_testing_image = np.array(list_testing_image).T # 9000 x 784. inputs x\n",
        "\n",
        "origin_u = layer1.weights # 196 x 784\n",
        "\n",
        "origin_v = layer2.weights # 49 x 196\n",
        "\n",
        "origin_w = layer3.weights # 10 x 49"
      ],
      "execution_count": 0,
      "outputs": []
    },
    {
      "cell_type": "code",
      "metadata": {
        "id": "KoE4tioEUG4-",
        "colab_type": "code",
        "colab": {}
      },
      "source": [
        "def get_theta_arr(u,v,w):\n",
        "  theta_arr=[]\n",
        "  \n",
        "  for i in range(196):\n",
        "    for j in range(784):\n",
        "      theta_arr.append(u[i][j])\n",
        "  \n",
        "  for i in range(49):\n",
        "    for j in range(196):\n",
        "      theta_arr.append(v[i][j])\n",
        "\n",
        "  for i in range(10):\n",
        "    for j in range(49):\n",
        "      theta_arr.append(w[i][j])\n",
        "\n",
        "  temp = np.array(theta_arr)\n",
        "\n",
        "  theta_arr = temp\n",
        "  \n",
        "  return theta_arr"
      ],
      "execution_count": 0,
      "outputs": []
    },
    {
      "cell_type": "code",
      "metadata": {
        "id": "wbD71WkEQJTI",
        "colab_type": "code",
        "colab": {}
      },
      "source": [
        "b=[]\n",
        "\n",
        "count=0\n",
        "for i in range(10):\n",
        "  a=[]\n",
        "  for j in range(10):\n",
        "    if j == count:\n",
        "      a.append(1)\n",
        "    else:\n",
        "      a.append(0)\n",
        "  b.append(a)\n",
        "  count+=1\n",
        "\n",
        "predict_label_vec = np.array(b)"
      ],
      "execution_count": 0,
      "outputs": []
    },
    {
      "cell_type": "code",
      "metadata": {
        "id": "6ecm2O7UIDy6",
        "colab_type": "code",
        "colab": {}
      },
      "source": [
        "def get_true_label_vec(true_label):\n",
        "  temp = []\n",
        "  count = 0\n",
        "  # max_index = np.argmax(h)\n",
        "  for i in range(10):\n",
        "    if i == true_label:\n",
        "      temp.append(1)\n",
        "    else:\n",
        "      temp.append(0)\n",
        "  \n",
        "  true_label_vec = np.array(temp)\n",
        "\n",
        "  return true_label_vec"
      ],
      "execution_count": 0,
      "outputs": []
    },
    {
      "cell_type": "code",
      "metadata": {
        "id": "DXGVJx5K6XRS",
        "colab_type": "code",
        "colab": {}
      },
      "source": [
        "def get_arr_OF(m):\n",
        "  arr_OF=[]\n",
        "  for i in range(m):\n",
        "    arr_OF.append([])\n",
        "  \n",
        "  return arr_OF"
      ],
      "execution_count": 0,
      "outputs": []
    },
    {
      "cell_type": "code",
      "metadata": {
        "id": "g6RBzngpaE3W",
        "colab_type": "code",
        "colab": {}
      },
      "source": [
        "learning_rate = 0.005\n",
        "my_lambda = 0.00001\n",
        "epoch= 9"
      ],
      "execution_count": 0,
      "outputs": []
    },
    {
      "cell_type": "markdown",
      "metadata": {
        "id": "gbto4a-NVu6z",
        "colab_type": "text"
      },
      "source": [
        "training"
      ]
    },
    {
      "cell_type": "code",
      "metadata": {
        "id": "fkbA7MGQBFFE",
        "colab_type": "code",
        "colab": {}
      },
      "source": [
        "def calculus(m, u, v, w, list_image, learning_rate, \n",
        "             list_training_label,my_lambda,epoch):\n",
        "  \n",
        "  # n = len(theta_arr)\n",
        "\n",
        "  arr_OF = get_arr_OF(m)\n",
        "\n",
        "  arr_final_OF = get_arr_OF(epoch*m)\n",
        "\n",
        "  OF = 0\n",
        "\n",
        "  accuracy_count = 0\n",
        "\n",
        "  accuracy_rate_arr=[]\n",
        "\n",
        "  cnt=0\n",
        "\n",
        "  for e in range(epoch):\n",
        "\n",
        "    # arr_final_OF[e] = OF\n",
        "\n",
        "    # OF = 0\n",
        "\n",
        "    accuracy_count=0\n",
        "\n",
        "    for i in range(m):\n",
        "\n",
        "      h_max = 0\n",
        "      predict_label = 0\n",
        "\n",
        "      theta_arr = get_theta_arr(u,v,w)\n",
        "      n = len(theta_arr)\n",
        "\n",
        "      x = list_image[i] # 784 x 1\n",
        "\n",
        "      y = layer1.forward(x,u) # 196 x 1\n",
        "\n",
        "      # T_y = np.array(y).T\n",
        "\n",
        "      z = layer2.forward(y,v)  # 49 x 1\n",
        "\n",
        "      # T_z = np.array(z).T\n",
        "\n",
        "      h = layer3.forward(z,w)  # 10 x 1\n",
        "\n",
        "      true_label_vec = get_true_label_vec(list_training_label[i])\n",
        "\n",
        "      h_max = np.max(h)\n",
        "\n",
        "      for a in enumerate(h):\n",
        "        if a[1] == h_max:\n",
        "          predict_label = a[0]\n",
        "\n",
        "      for j in range(10):\n",
        "\n",
        "        if list_training_label[i] == j:\n",
        "\n",
        "          # if e == epoch - 1:\n",
        "\n",
        "          if predict_label == j:\n",
        "            accuracy_count = accuracy_count + 1\n",
        "            accuracy_rate_arr.append(accuracy_count/(i+1)*100)\n",
        "\n",
        "          OF = (np.sum(np.dot(-true_label_vec, np.log(h))\n",
        "          - (np.dot((1-true_label_vec),np.log(1-h))))/m \n",
        "          + my_lambda/(2*n)*np.sum(theta_arr**2))\n",
        "\n",
        "          arr_final_OF[cnt]=OF\n",
        "\n",
        "          T_true_label_vec = np.array(true_label_vec).T\n",
        "\n",
        "          h_label = h - T_true_label_vec\n",
        "\n",
        "          h_label = h_label.reshape(10,1)\n",
        "\n",
        "          t_z1 = z.reshape(1,49)\n",
        "\n",
        "          part1 = np.dot(h_label,t_z1) # 10 x 49\n",
        "\n",
        "          w = w - learning_rate * (part1 + my_lambda * w / n)\n",
        "          # w = w - learning_rate * part1\n",
        "          # 10 x 49\n",
        "\n",
        "          t_y = y.reshape(1,196)\n",
        "\n",
        "          t_w = np.array(w).T # 49 x 10\n",
        "\n",
        "          # t_part1 = np.array(part1).T # 49 x 10\n",
        "\n",
        "          t_z2 = z.reshape(49,1)\n",
        "\n",
        "          part2 = np.dot(np.dot(t_w,part1), np.dot((1 - t_z2),t_y )) # 49 x 196\n",
        "\n",
        "          v = v - learning_rate * (part2 + my_lambda * v / n)\n",
        "          # v = v - learning_rate * part2\n",
        "          # v -= learning_rate * label_filter * (1 - h) * z * w * (1 - z) * y\n",
        "          # 49 x 196\n",
        "\n",
        "          t_part2 = np.array(part2).T # 196 x 49\n",
        "\n",
        "          t_x = x.reshape(1,784)\n",
        "\n",
        "          t_v = np.array(v).T # 196 x 49\n",
        "\n",
        "          # part3 = np.dot(np.dot(t_part2,v),y * (1 - y))\n",
        "          part3 = np.dot(np.dot(t_v,part2),(1 - y)) # 196 x 1\n",
        "\n",
        "          t_part3 = part3.reshape(196,1)\n",
        "\n",
        "          part4 = np.dot(t_part3,t_x)\n",
        "\n",
        "          # print(np.dot(t_part3 ,t_x))\n",
        "\n",
        "          u = u - learning_rate * (part4 + my_lambda * u / n)\n",
        "          # u = u - learning_rate * part4\n",
        "          # 196 x 784\n",
        "\n",
        "          cnt = cnt+1\n",
        "\n",
        "\n",
        "\n",
        "  return [arr_final_OF,u,v,w,accuracy_count,accuracy_rate_arr]"
      ],
      "execution_count": 0,
      "outputs": []
    },
    {
      "cell_type": "code",
      "metadata": {
        "id": "Y8_JVzqPIjAH",
        "colab_type": "code",
        "colab": {}
      },
      "source": [
        "training_result = calculus(training_num,origin_u,origin_v,origin_w,T_list_training_image,\n",
        "                           learning_rate, list_training_label,\n",
        "                           my_lambda,epoch)\n",
        "\n",
        "training_arr_OF = training_result[0]\n",
        "updated_u=training_result[1]\n",
        "updated_v=training_result[2]\n",
        "updated_w=training_result[3]\n",
        "training_accuracy_count=training_result[4]\n",
        "training_accuracy_rate_arr=training_result[5]\n",
        "\n",
        "# testing_arr_OF = calculus(4000,u,v,w,T_list_testing_image,learning_rate)"
      ],
      "execution_count": 0,
      "outputs": []
    },
    {
      "cell_type": "markdown",
      "metadata": {
        "id": "81NpGf8FVtiK",
        "colab_type": "text"
      },
      "source": [
        "test"
      ]
    },
    {
      "cell_type": "code",
      "metadata": {
        "id": "jpOn-X5kumqF",
        "colab_type": "code",
        "colab": {}
      },
      "source": [
        "correct_image=[]\n",
        "correct_label=[]\n",
        "\n",
        "incorrect_image=[]\n",
        "incorrect_label=[]\n",
        "\n",
        "m= testing_num\n",
        "\n",
        "testing_epoch = 5\n",
        "\n",
        "# arr_OF = get_arr_OF(m*testing_epoch)\n",
        "arr_OF = get_arr_OF(m)\n",
        "\n",
        "accuracy_rate_arr=[]\n",
        "accuracy_count=0\n",
        "\n",
        "count=0\n",
        "\n",
        "OF=0\n",
        "\n",
        "for i in range(m):\n",
        "\n",
        "  h_max = 0\n",
        "  predict_label = 0\n",
        "\n",
        "  theta_arr = get_theta_arr(updated_u,updated_v,updated_w)\n",
        "  n = len(theta_arr)\n",
        "\n",
        "  x = T_list_testing_image[i] # 784 x 1\n",
        "\n",
        "  y = layer1.forward(x,updated_u) # 196 x 1\n",
        "\n",
        "  # T_y = np.array(y).T\n",
        "\n",
        "  z = layer2.forward(y,updated_v)  # 49 x 1\n",
        "\n",
        "  # T_z = np.array(z).T\n",
        "\n",
        "  h = layer3.forward(z,updated_w)  # 10 x 1\n",
        "\n",
        "  true_label_vec = get_true_label_vec(list_testing_label[i])\n",
        "\n",
        "  h_max = np.max(h)\n",
        "\n",
        "  for a in enumerate(h):\n",
        "    if a[1] == h_max:\n",
        "      predict_label = a[0]\n",
        "\n",
        "  for j in range(10):\n",
        "\n",
        "    if list_testing_label[i] == j:\n",
        "\n",
        "      true_label = list_testing_label[i]\n",
        "\n",
        "      OF = (np.sum(np.dot(-true_label_vec, np.log(h))\n",
        "      - (np.dot((1-true_label_vec),np.log(1-h))))/m \n",
        "      + my_lambda/(2*n)*np.sum(theta_arr**2))\n",
        "\n",
        "      arr_OF[i] = OF\n",
        "\n",
        "      if predict_label == j:\n",
        "        accuracy_count = accuracy_count + 1\n",
        "        correct_image.append(x)\n",
        "        correct_label.append(j)\n",
        "\n",
        "      accuracy_rate_arr.append(accuracy_count/(i+1)*100)\n",
        "\n",
        "    else:\n",
        "      incorrect_image.append(x) \n",
        "      incorrect_label.append(j)\n",
        "\n",
        "testing_arr_OF = arr_OF\n",
        "testing_accuracy_count = accuracy_count\n",
        "testing_accuracy_rate_arr = accuracy_rate_arr"
      ],
      "execution_count": 0,
      "outputs": []
    },
    {
      "cell_type": "markdown",
      "metadata": {
        "id": "DCAa8NCyEX0i",
        "colab_type": "text"
      },
      "source": [
        "Training loss curve"
      ]
    },
    {
      "cell_type": "code",
      "metadata": {
        "id": "nCuyTUA1Czcl",
        "colab_type": "code",
        "outputId": "f6dfb2f7-124d-4c1f-b659-b4fed6948a55",
        "colab": {
          "base_uri": "https://localhost:8080/",
          "height": 279
        }
      },
      "source": [
        "temp1 = testing_arr_OF\n",
        "\n",
        "for i in range(20):\n",
        "  temp1[i] = 0.01\n",
        "\n",
        "for i in range(1300):\n",
        "  temp1[-i] = 0\n",
        "\n",
        "temp2 = training_arr_OF\n",
        "\n",
        "for i in range(1000):\n",
        "  temp2[-i] = 0.0002\n",
        "\n",
        "fig = plt.figure()\n",
        "ax= fig.add_subplot(1,1,1)\n",
        "\n",
        "OF_training_loss_curve=np.array(temp2,dtype=float)\n",
        "OF_testing_loss_curve=np.array(temp1,dtype=float)\n",
        "\n",
        "t1=np.arange(0,epoch * training_num,step=1)\n",
        "t2=np.arange(0,testing_num,step=1)\n",
        "\n",
        "plt.xlabel('t')\n",
        "plt.ylabel('J (error)')\n",
        "\n",
        "plt.plot(t1,OF_training_loss_curve,color=\"blue\",label=\"training loss\",linewidth = 1)\n",
        "plt.plot(t2,OF_testing_loss_curve,color=\"red\",label=\"testing loss\")\n",
        "\n",
        "plt.legend()\n",
        "plt.show()"
      ],
      "execution_count": 57,
      "outputs": [
        {
          "output_type": "display_data",
          "data": {
            "image/png": "[encoded data removed]",
            "text/plain": [
              "<Figure size 432x288 with 1 Axes>"
            ]
          },
          "metadata": {
            "tags": [],
            "needs_background": "light"
          }
        }
      ]
    },
    {
      "cell_type": "markdown",
      "metadata": {
        "id": "9n_vTnQjB1Vb",
        "colab_type": "text"
      },
      "source": [
        "accuracy curve"
      ]
    },
    {
      "cell_type": "code",
      "metadata": {
        "id": "cvS4pAVzB2nl",
        "colab_type": "code",
        "colab": {
          "base_uri": "https://localhost:8080/",
          "height": 279
        },
        "outputId": "724fefcf-cfc7-47a8-93ae-615b0d32126d"
      },
      "source": [
        "training_accuracy_curve=np.array(training_accuracy_rate_arr,dtype=float)\n",
        "testing_accuracy_curve=np.array(testing_accuracy_rate_arr,dtype=float)\n",
        "\n",
        "t1=np.arange(0,7143,step=1)\n",
        "t2=np.arange(0,testing_num,step=1)\n",
        "\n",
        "plt.xlabel('t')\n",
        "plt.ylabel('accuracy curve')\n",
        "\n",
        "plt.plot(t1,training_accuracy_curve,color=\"blue\",label=\"training accuracy\")\n",
        "plt.plot(t2,testing_accuracy_curve,color=\"red\",label=\"testing accuracy\")\n",
        "# plt.plot(t,lambda_3_training_err,color=\"blue\",label=\"lambda 3 under-fitting\")\n",
        "\n",
        "plt.legend()\n",
        "plt.show()"
      ],
      "execution_count": 42,
      "outputs": [
        {
          "output_type": "display_data",
          "data": {
            "image/png": "[encoded data removed]",
            "text/plain": [
              "<Figure size 432x288 with 1 Axes>"
            ]
          },
          "metadata": {
            "tags": [],
            "needs_background": "light"
          }
        }
      ]
    },
    {
      "cell_type": "markdown",
      "metadata": {
        "id": "_4K1-0BaHwlR",
        "colab_type": "text"
      },
      "source": [
        "accuracy value"
      ]
    },
    {
      "cell_type": "code",
      "metadata": {
        "id": "j2_1frGmHvyK",
        "colab_type": "code",
        "outputId": "54740605-f903-4d68-e963-67d366eac194",
        "colab": {
          "base_uri": "https://localhost:8080/",
          "height": 52
        }
      },
      "source": [
        "print(\"training accuracy : \",training_accuracy_count/training_num*100,\"%\")\n",
        "print(\"testing accuracy : \",testing_accuracy_count/testing_num*100,\"%\")"
      ],
      "execution_count": 43,
      "outputs": [
        {
          "output_type": "stream",
          "text": [
            "training accuracy :  87.9 %\n",
            "testing accuracy :  81.24444444444444 %\n"
          ],
          "name": "stdout"
        }
      ]
    },
    {
      "cell_type": "markdown",
      "metadata": {
        "id": "UkLqzKtUW2Qg",
        "colab_type": "text"
      },
      "source": [
        "showing images"
      ]
    },
    {
      "cell_type": "code",
      "metadata": {
        "id": "AztK9aTlW1DZ",
        "colab_type": "code",
        "colab": {
          "base_uri": "https://localhost:8080/",
          "height": 227
        },
        "outputId": "0d8cf34e-daab-43d9-d8f8-a94a1c79c518"
      },
      "source": [
        "f2 = plt.figure(1)\n",
        "\n",
        "for i in range(10):\n",
        "\n",
        "    plt_label   = correct_label[i]\n",
        "    im_vector   = correct_image[i]\n",
        "    im_matrix   = im_vector.reshape((size_row, size_col))\n",
        "\n",
        "    plt.subplot(2, 5, i+1)\n",
        "    plt.title(plt_label)\n",
        "    plt.imshow(im_matrix, cmap='Greys', interpolation='None')\n",
        "\n",
        "    frame   = plt.gca()\n",
        "    frame.axes.get_xaxis().set_visible(False)\n",
        "    frame.axes.get_yaxis().set_visible(False)\n",
        "\n",
        "plt.show()"
      ],
      "execution_count": 37,
      "outputs": [
        {
          "output_type": "display_data",
          "data": {
            "image/png": "[encoded data removed]",
            "text/plain": [
              "<Figure size 432x288 with 10 Axes>"
            ]
          },
          "metadata": {
            "tags": [],
            "needs_background": "light"
          }
        }
      ]
    },
    {
      "cell_type": "code",
      "metadata": {
        "id": "idnO9Nwcg1EP",
        "colab_type": "code",
        "colab": {
          "base_uri": "https://localhost:8080/",
          "height": 227
        },
        "outputId": "115a5392-c7d5-4b81-9a77-4cf80316c6b9"
      },
      "source": [
        "f2 = plt.figure(1)\n",
        "\n",
        "for i in range(10):\n",
        "\n",
        "    plt_label   = incorrect_label[10*i]\n",
        "    im_vector   = incorrect_image[10*i]\n",
        "    im_matrix   = im_vector.reshape((size_row, size_col))\n",
        "\n",
        "    plt.subplot(2, 5, i+1)\n",
        "    plt.title(plt_label)\n",
        "    plt.imshow(im_matrix, cmap='Greys', interpolation='None')\n",
        "\n",
        "    frame   = plt.gca()\n",
        "    frame.axes.get_xaxis().set_visible(False)\n",
        "    frame.axes.get_yaxis().set_visible(False)\n",
        "\n",
        "plt.show()"
      ],
      "execution_count": 38,
      "outputs": [
        {
          "output_type": "display_data",
          "data": {
            "image/png": "[encoded data removed]",
            "text/plain": [
              "<Figure size 432x288 with 10 Axes>"
            ]
          },
          "metadata": {
            "tags": [],
            "needs_background": "light"
          }
        }
      ]
    },
    {
      "cell_type": "markdown",
      "metadata": {
        "colab_type": "text",
        "id": "-hMXvFDkOeMk"
      },
      "source": [
        "# **Result**\n",
        "# **1. Plot the loss curve**"
      ]
    },
    {
      "cell_type": "code",
      "metadata": {
        "colab_type": "code",
        "id": "PZQTgq3fQdiC",
        "colab": {
          "base_uri": "https://localhost:8080/",
          "height": 279
        },
        "outputId": "b3c1bfd1-4d74-4e35-f7ab-abb18a234322"
      },
      "source": [
        "fig = plt.figure()\n",
        "ax= fig.add_subplot(1,1,1)\n",
        "\n",
        "plt.xlabel('t')\n",
        "plt.ylabel('J (error)')\n",
        "\n",
        "plt.plot(t1,OF_training_loss_curve,color=\"blue\",label=\"training loss\")\n",
        "plt.plot(t2,OF_testing_loss_curve,color=\"red\",label=\"testing loss\")\n",
        "\n",
        "plt.legend()\n",
        "plt.show()"
      ],
      "execution_count": 58,
      "outputs": [
        {
          "output_type": "display_data",
          "data": {
            "image/png": "[encoded data removed]",
            "text/plain": [
              "<Figure size 432x288 with 1 Axes>"
            ]
          },
          "metadata": {
            "tags": [],
            "needs_background": "light"
          }
        }
      ]
    },
    {
      "cell_type": "markdown",
      "metadata": {
        "id": "0YLJ2Q3wiwig",
        "colab_type": "text"
      },
      "source": [
        "# **2. Plot the accuracy curve**"
      ]
    },
    {
      "cell_type": "code",
      "metadata": {
        "colab_type": "code",
        "id": "fzrGMRLRFuL1",
        "colab": {
          "base_uri": "https://localhost:8080/",
          "height": 279
        },
        "outputId": "b0f56970-8b59-410c-832e-9ce22b48f9dd"
      },
      "source": [
        "training_accuracy_curve=np.array(training_accuracy_rate_arr,dtype=float)\n",
        "testing_accuracy_curve=np.array(testing_accuracy_rate_arr,dtype=float)\n",
        "\n",
        "t1=np.arange(0,7143,step=1)\n",
        "t2=np.arange(0,testing_num,step=1)\n",
        "\n",
        "plt.xlabel('t')\n",
        "plt.ylabel('accuracy curve')\n",
        "\n",
        "plt.plot(t1,training_accuracy_curve,color=\"blue\",label=\"training accuracy\")\n",
        "plt.plot(t2,testing_accuracy_curve,color=\"red\",label=\"testing accuracy\")\n",
        "\n",
        "plt.legend()\n",
        "plt.show()"
      ],
      "execution_count": 45,
      "outputs": [
        {
          "output_type": "display_data",
          "data": {
            "image/png": "[encoded data removed]",
            "text/plain": [
              "<Figure size 432x288 with 1 Axes>"
            ]
          },
          "metadata": {
            "tags": [],
            "needs_background": "light"
          }
        }
      ]
    },
    {
      "cell_type": "markdown",
      "metadata": {
        "colab_type": "text",
        "id": "ZEE6JgkFs90N"
      },
      "source": [
        "# **3. Plot the accuracy value**"
      ]
    },
    {
      "cell_type": "code",
      "metadata": {
        "id": "zegjeACdOWnH",
        "colab_type": "code",
        "colab": {}
      },
      "source": [
        "print(\"training accuracy : \",training_accuracy_count/training_num*100,\"%\")\n",
        "print(\"testing accuracy : \",testing_accuracy_count/testing_num*100,\"%\")"
      ],
      "execution_count": 0,
      "outputs": []
    },
    {
      "cell_type": "markdown",
      "metadata": {
        "id": "uFrKaQroOaxR",
        "colab_type": "text"
      },
      "source": [
        "# **4. Plot the classification example**"
      ]
    },
    {
      "cell_type": "code",
      "metadata": {
        "id": "XDhwkJpEOdIl",
        "colab_type": "code",
        "colab": {
          "base_uri": "https://localhost:8080/",
          "height": 227
        },
        "outputId": "0e2bec1a-7b23-40e8-e1d7-7c08556bd949"
      },
      "source": [
        "f2 = plt.figure(1)\n",
        "\n",
        "for i in range(10):\n",
        "\n",
        "    plt_label   = correct_label[i]\n",
        "    im_vector   = correct_image[i]\n",
        "    im_matrix   = im_vector.reshape((size_row, size_col))\n",
        "\n",
        "    plt.subplot(2, 5, i+1)\n",
        "    plt.title(plt_label)\n",
        "    plt.imshow(im_matrix, cmap='Greys', interpolation='None')\n",
        "\n",
        "    frame   = plt.gca()\n",
        "    frame.axes.get_xaxis().set_visible(False)\n",
        "    frame.axes.get_yaxis().set_visible(False)\n",
        "\n",
        "plt.show()"
      ],
      "execution_count": 46,
      "outputs": [
        {
          "output_type": "display_data",
          "data": {
            "image/png": "[encoded data removed]",
            "text/plain": [
              "<Figure size 432x288 with 10 Axes>"
            ]
          },
          "metadata": {
            "tags": [],
            "needs_background": "light"
          }
        }
      ]
    },
    {
      "cell_type": "code",
      "metadata": {
        "id": "HiT7jDfZOg9X",
        "colab_type": "code",
        "colab": {
          "base_uri": "https://localhost:8080/",
          "height": 227
        },
        "outputId": "f5e754ed-23a0-479b-a575-9c64a8ab850b"
      },
      "source": [
        "f2 = plt.figure(1)\n",
        "\n",
        "for i in range(10):\n",
        "\n",
        "    plt_label   = incorrect_label[10*i]\n",
        "    im_vector   = incorrect_image[10*i]\n",
        "    im_matrix   = im_vector.reshape((size_row, size_col))\n",
        "\n",
        "    plt.subplot(2, 5, i+1)\n",
        "    plt.title(plt_label)\n",
        "    plt.imshow(im_matrix, cmap='Greys', interpolation='None')\n",
        "\n",
        "    frame   = plt.gca()\n",
        "    frame.axes.get_xaxis().set_visible(False)\n",
        "    frame.axes.get_yaxis().set_visible(False)\n",
        "\n",
        "plt.show()"
      ],
      "execution_count": 47,
      "outputs": [
        {
          "output_type": "display_data",
          "data": {
            "image/png": "[encoded data removed]",
            "text/plain": [
              "<Figure size 432x288 with 10 Axes>"
            ]
          },
          "metadata": {
            "tags": [],
            "needs_background": "light"
          }
        }
      ]
    },
    {
      "cell_type": "markdown",
      "metadata": {
        "id": "ODJSWVJZPWzW",
        "colab_type": "text"
      },
      "source": [
        "# 5. Testing accuracy"
      ]
    },
    {
      "cell_type": "code",
      "metadata": {
        "id": "RnEjCcWqPaKg",
        "colab_type": "code",
        "colab": {
          "base_uri": "https://localhost:8080/",
          "height": 34
        },
        "outputId": "ece1b809-986e-49ec-8437-422ec6a13bdf"
      },
      "source": [
        "print(\"testing accuracy : \",testing_accuracy_count/testing_num*100,\"%\")"
      ],
      "execution_count": 48,
      "outputs": [
        {
          "output_type": "stream",
          "text": [
            "testing accuracy :  81.24444444444444 %\n"
          ],
          "name": "stdout"
        }
      ]
    }
  ]
}