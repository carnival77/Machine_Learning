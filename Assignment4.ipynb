{
  "nbformat": 4,
  "nbformat_minor": 0,
  "metadata": {
    "colab": {
      "name": "Assignment4.ipynb",
      "provenance": [],
      "collapsed_sections": [],
      "mount_file_id": "1vwBlYDJYQkl4QY5D5jdMs3xz1fe0jq8d",
      "authorship_tag": "ABX9TyNzgsZHA+xmYe3r4hL3X25K",
      "include_colab_link": true
    },
    "kernelspec": {
      "name": "python3",
      "display_name": "Python 3"
    }
  },
  "cells": [
    {
      "cell_type": "markdown",
      "metadata": {
        "id": "view-in-github",
        "colab_type": "text"
      },
      "source": [
        "<a href=\"https://colab.research.google.com/github/carnival77/Machine_Learning/blob/master/Assignment4.ipynb\" target=\"_parent\"><img src=\"https://colab.research.google.com/assets/colab-badge.svg\" alt=\"Open In Colab\"/></a>"
      ]
    },
    {
      "cell_type": "markdown",
      "metadata": {
        "id": "u9D_hw1xXEoL",
        "colab_type": "text"
      },
      "source": [
        "#**1. Plot the estimated parametered using the training dataset**"
      ]
    },
    {
      "cell_type": "markdown",
      "metadata": {
        "id": "ZCVzge5gXNTO",
        "colab_type": "text"
      },
      "source": [
        "\n",
        "\n",
        "*   plot the estimated parameters {(θ0,θ1,θ2,θ3)} at every iteration of gradient descent until convergence\n",
        "*   the colors for the parameters {(θ0,θ1,θ2,θ3)} should be black, red, green, blue, respectively\n",
        "*   the optimization is performed using the training dataset ('data_train.csv')\n"
      ]
    },
    {
      "cell_type": "code",
      "metadata": {
        "id": "PMrBtj-ZWleI",
        "colab_type": "code",
        "colab": {}
      },
      "source": [
        "import numpy as np\n",
        "import matplotlib.pyplot as plt\n",
        "import csv\n",
        "\n",
        "tr_xi_data_t=[]\n",
        "tr_yi_data_t=[]\n",
        "tr_zi_data_t=[]\n",
        "tr_hi_data_t=[]\n",
        "\n",
        "te_xi_data_t=[]\n",
        "te_yi_data_t=[]\n",
        "te_zi_data_t=[]\n",
        "te_hi_data_t=[]\n",
        "\n",
        "path = \"/content/drive/My Drive/Colab Notebooks/assignment4/data_train.csv\"\n",
        "data = np.genfromtxt(path, delimiter=',', dtype=None, encoding='UTF-8')\n",
        "\n",
        "xi_data = data[:,0]\n",
        "yi_data = data[:,1]\n",
        "zi_data = data[:,2]\n",
        "hi_data = data[:,3]\n",
        "\n",
        "with open('/content/drive/My Drive/Colab Notebooks/assignment4/data_train.csv', \n",
        "          newline='') as myfile:\n",
        "    reader  = csv.reader(myfile, delimiter=',')\n",
        "    ct = 1 \n",
        "    for i in reader:\n",
        "      tr_xi_data_t.append(i[0])\n",
        "      tr_yi_data_t.append(i[1])\n",
        "      tr_zi_data_t.append(i[2])\n",
        "      tr_hi_data_t.append(i[3])\n",
        "      ct += 1\n",
        "\n",
        "with open('/content/drive/My Drive/Colab Notebooks/assignment4/data_test.csv', newline='') as myfile:\n",
        "    reader  = csv.reader(myfile, delimiter=',')\n",
        "    ct = 1 \n",
        "    for i in reader:\n",
        "      te_xi_data_t.append(i[0])\n",
        "      te_yi_data_t.append(i[1])\n",
        "      te_zi_data_t.append(i[2])\n",
        "      te_hi_data_t.append(i[3])\n",
        "      ct += 1\n",
        "\n",
        "tr_xi_data = np.array(tr_xi_data_t,dtype=float)\n",
        "tr_yi_data = np.array(tr_yi_data_t,dtype=float)\n",
        "tr_zi_data = np.array(tr_zi_data_t,dtype=float)\n",
        "tr_hi_data = np.array(tr_hi_data_t,dtype=float)\n",
        "\n",
        "x_m = np.mean(tr_xi_data)\n",
        "x_max=np.max(tr_xi_data)\n",
        "x_min=np.min(tr_xi_data)\n",
        "x_range = x_max - x_min\n",
        "\n",
        "test1 = (tr_xi_data - x_m) / x_range\n",
        "tr_xi_data=test1\n",
        "\n",
        "y_m = np.mean(tr_yi_data)\n",
        "y_max=np.max(tr_yi_data)\n",
        "y_min=np.min(tr_yi_data)\n",
        "y_range = y_max - y_min\n",
        "\n",
        "test2 = (tr_yi_data - y_m) / y_range\n",
        "tr_yi_data=test2\n",
        "\n",
        "z_m = np.mean(tr_zi_data)\n",
        "z_max=np.max(tr_zi_data)\n",
        "z_min=np.min(tr_zi_data)\n",
        "z_range = z_max - z_min\n",
        "\n",
        "test3 = (tr_zi_data - x_m) / z_range\n",
        "tr_zi_data=test3\n",
        "\n",
        "h_m = np.mean(tr_hi_data)\n",
        "h_max=np.max(tr_hi_data)\n",
        "h_min=np.min(tr_hi_data)\n",
        "h_range = h_max - h_min\n",
        "\n",
        "test4 = (tr_hi_data - h_m) / h_range\n",
        "tr_hi_data=test4"
      ],
      "execution_count": 0,
      "outputs": []
    },
    {
      "cell_type": "markdown",
      "metadata": {
        "id": "siqQWL8zUE5E",
        "colab_type": "text"
      },
      "source": [
        "2) Linear Model ( Hypothesis )\n",
        "\n",
        "fθ​(x,y,z)=θ0​+θ1​x+θ2​y+θ3​z, where θ=(θ0,θ1,θ2,θ3) and θ0,θ1,θ2,θ3∈R"
      ]
    },
    {
      "cell_type": "markdown",
      "metadata": {
        "id": "9sD1EH6WU1ov",
        "colab_type": "text"
      },
      "source": [
        "theta 초기값\n",
        "\n",
        " 0 = 0 , 1 = 1, 2 = 1, 3 = 1"
      ]
    },
    {
      "cell_type": "code",
      "metadata": {
        "colab_type": "code",
        "id": "7moaul8T3cwu",
        "colab": {}
      },
      "source": [
        "theta_0 = 2.0\n",
        "theta_1 = 4.0\n",
        "theta_2 = 6.0\n",
        "theta_3 = 8.0"
      ],
      "execution_count": 0,
      "outputs": []
    },
    {
      "cell_type": "markdown",
      "metadata": {
        "id": "nbVBW4F25vNJ",
        "colab_type": "text"
      },
      "source": [
        "n_data = number of data\n",
        "\n",
        "steps = 1000 번의 학습 사이클. \n",
        "\n",
        "learning_rate = 0.01"
      ]
    },
    {
      "cell_type": "code",
      "metadata": {
        "id": "HaMB_MZbUkbZ",
        "colab_type": "code",
        "colab": {}
      },
      "source": [
        "n_data = len(tr_xi_data)\n",
        "steps = 1000\n",
        "learning_rate = 0.01"
      ],
      "execution_count": 0,
      "outputs": []
    },
    {
      "cell_type": "markdown",
      "metadata": {
        "id": "kZua-TlfXD--",
        "colab_type": "text"
      },
      "source": [
        "3) Objective Function\n",
        "\n",
        "OF = objective function\n",
        "J(θ0​,θ1​,θ2​,θ3​)=2m1​∑i=1m​(θ0​+θ1​x(i)+θ2​y(i)+θ3​z(i)−h(i))2\n",
        "\n",
        "\n",
        "\n",
        "4) Gradient Descent\n",
        "\n",
        "gradient_theta_0 : \n",
        "\n",
        "θ0(t+1)​:=θ0(t)​−αm1​∑i=1m​(fθ​(x(i),y(i),z(i))−h(i))\n",
        "\n",
        "gradient_theta_1 :\n",
        "\n",
        "θ1(t+1)​:=θ1(t)​−αm1​∑i=1m​(fθ​(x(i),y(i),z(i))−h(i))x(i)\n",
        "\n",
        "gradient_theta_2 : \n",
        "\n",
        "θ2(t+1)​:=θ2(t)​−αm1​∑i=1m​(fθ​(x(i),y(i),z(i))−h(i))y(i)\n",
        "\n",
        "gradient_theta_3 : \n",
        "\n",
        "θ3(t+1)​:=θ3(t)​−αm1​∑i=1m​(fθ​(x(i),y(i),z(i))−h(i))z(i)"
      ]
    },
    {
      "cell_type": "code",
      "metadata": {
        "id": "y4cQm58YVDNr",
        "colab_type": "code",
        "colab": {}
      },
      "source": [
        "arr_theta_0=[]\n",
        "arr_theta_1=[]\n",
        "arr_theta_2=[]\n",
        "arr_theta_3=[]\n",
        "\n",
        "learning_rate = 0.05\n",
        "\n",
        "steps = 500\n",
        "\n",
        "for i in range(steps):\n",
        "  hypothesis = theta_0 + theta_1*tr_xi_data + theta_2*tr_yi_data + theta_3*tr_zi_data\n",
        "  OF = np.sum((hypothesis - tr_hi_data)**2)/(2*n_data)\n",
        "\n",
        "  gradient_theta_0 = np.sum((hypothesis - tr_hi_data))/n_data\n",
        "  gradient_theta_1 = np.sum((hypothesis - tr_hi_data)*tr_xi_data)/n_data\n",
        "  gradient_theta_2 = np.sum((hypothesis - tr_hi_data)*tr_yi_data)/n_data\n",
        "  gradient_theta_3 = np.sum((hypothesis - tr_hi_data)*tr_zi_data)/n_data\n",
        "\n",
        "  arr_theta_0.append(theta_0)\n",
        "  arr_theta_1.append(theta_1)\n",
        "  arr_theta_2.append(theta_2)\n",
        "  arr_theta_3.append(theta_3)\n",
        "  \n",
        "  theta_0 -= learning_rate*gradient_theta_0\n",
        "  theta_1 -= learning_rate*gradient_theta_1\n",
        "  theta_2 -= learning_rate*gradient_theta_2\n",
        "  theta_3 -= learning_rate*gradient_theta_3"
      ],
      "execution_count": 0,
      "outputs": []
    },
    {
      "cell_type": "code",
      "metadata": {
        "id": "ZYFbxqM3ish7",
        "colab_type": "code",
        "outputId": "d242437c-21b2-4f24-c49a-e7bbd626bd1d",
        "colab": {
          "base_uri": "https://localhost:8080/",
          "height": 279
        }
      },
      "source": [
        "test0=np.array(arr_theta_0,dtype=float)\n",
        "test1=np.array(arr_theta_1,dtype=float)\n",
        "test2=np.array(arr_theta_2,dtype=float)\n",
        "test3=np.array(arr_theta_3,dtype=float)\n",
        "t=np.arange(0,800,step=1.6)\n",
        "plt.xlabel('t')\n",
        "plt.ylabel('theta_i')\n",
        "plt.plot(t,test0,color=\"black\",label=\"theta_0\")\n",
        "plt.plot(t,test1,color=\"red\",label=\"theta_1\")\n",
        "plt.plot(t,test2,color=\"green\",label=\"theta_2\")\n",
        "plt.plot(t,test3,color=\"blue\",label=\"theta_3\")\n",
        "plt.legend()\n",
        "plt.show()"
      ],
      "execution_count": 325,
      "outputs": [
        {
          "output_type": "display_data",
          "data": {
            "image/png": "[encoded data removed]",
            "text/plain": [
              "<Figure size 432x288 with 1 Axes>"
            ]
          },
          "metadata": {
            "tags": [],
            "needs_background": "light"
          }
        }
      ]
    }
  ]
}