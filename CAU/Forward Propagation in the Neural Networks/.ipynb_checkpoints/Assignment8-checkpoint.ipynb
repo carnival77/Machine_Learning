{
 "cells": [
  {
   "cell_type": "markdown",
   "metadata": {
    "colab_type": "text",
    "id": "RO9f7HuzsvQ9"
   },
   "source": [
    "#**1. Input Data**"
   ]
  },
  {
   "cell_type": "markdown",
   "metadata": {
    "colab_type": "text",
    "id": "xOqSLLhbsyte"
   },
   "source": [
    "* load the data file ('mnist_test.csv')\n",
    "* each row of the data consists of the label and the image pixel values in a vector form\n",
    "* the label is one of the 10 digits from 0 to 9\n",
    "* the image represents one of the 10 digits from 0 to 9 in grey scale and its size is 28x28"
   ]
  },
  {
   "cell_type": "code",
   "execution_count": 2,
   "metadata": {
    "colab": {},
    "colab_type": "code",
    "id": "PMrBtj-ZWleI"
   },
   "outputs": [
    {
     "ename": "SyntaxError",
     "evalue": "invalid syntax (<ipython-input-2-7a91062283ea>, line 1)",
     "output_type": "error",
     "traceback": [
      "\u001b[1;36m  File \u001b[1;32m\"<ipython-input-2-7a91062283ea>\"\u001b[1;36m, line \u001b[1;32m1\u001b[0m\n\u001b[1;33m    pip install numpy\u001b[0m\n\u001b[1;37m        ^\u001b[0m\n\u001b[1;31mSyntaxError\u001b[0m\u001b[1;31m:\u001b[0m invalid syntax\n"
     ]
    }
   ],
   "source": [
    "pip install numpy\n",
    "\n",
    "import numpy as np\n",
    "import matplotlib.pyplot as plt\n",
    "import csv\n",
    "\n",
    "file_data   = \"./mnist_test.csv\"\n",
    "handle_file = open(file_data, \"r\")\n",
    "data        = handle_file.readlines()\n",
    "handle_file.close()\n",
    "\n",
    "size_row    = 28    # height of the image\n",
    "size_col    = 28    # width of the image\n",
    "\n",
    "num_image   = len(data)\n",
    "count       = 0     # count for the number of images\n",
    "\n",
    "#\n",
    "# make a matrix each column of which represents an images in a vector form \n",
    "#\n",
    "list_image  = np.empty((size_row * size_col, num_image), dtype=float)\n",
    "list_label  = np.empty(num_image, dtype=int)\n",
    "\n",
    "## mine------------------\n",
    "\n",
    "arr_label=[]\n",
    "arr_image=[]\n",
    "## ----------------------\n",
    "\n",
    "for line in data:\n",
    "\n",
    "    line_data   = line.split(',')\n",
    "    label       = line_data[0]\n",
    "    im_vector   = np.asfarray(line_data[1:])\n",
    "\n",
    "    list_label[count]       = label\n",
    "    list_image[:, count]    = im_vector\n",
    "\n",
    "     ## mine----------------\n",
    "\n",
    "    arr_label.append(label)\n",
    "    arr_image.append(line_data[1:])\n",
    "\n",
    "     ##-------------------\n",
    "\n",
    "    count += 1\n",
    "\n",
    "\n",
    "\n",
    "# \n",
    "# plot first 100 images out of 10,000 with their labels\n",
    "# \n",
    "# f1 = plt.figure(1)\n",
    "\n",
    "# for i in range(100):\n",
    "\n",
    "#     label       = list_label[i]\n",
    "#     im_vector   = list_image[:, i]\n",
    "#     im_matrix   = im_vector.reshape((size_row, size_col))\n",
    "\n",
    "#     # plt.subplot(10, 10, i+1)\n",
    "#     plt.title(label)\n",
    "#     plt.imshow(im_matrix, cmap='Greys', interpolation='None')\n",
    "\n",
    "#     frame   = plt.gca()\n",
    "#     frame.axes.get_xaxis().set_visible(False)\n",
    "#     frame.axes.get_yaxis().set_visible(False)\n",
    "\n",
    "# plt.show()"
   ]
  },
  {
   "cell_type": "markdown",
   "metadata": {
    "colab_type": "text",
    "id": "-hMXvFDkOeMk"
   },
   "source": [
    "#**2. Average Image for Each Digit**\n",
    "#1. **Plot the average image**"
   ]
  },
  {
   "cell_type": "markdown",
   "metadata": {
    "colab_type": "text",
    "id": "ZLSIVEpfQVvn"
   },
   "source": [
    "\n",
    "\n",
    "* take the arithmatic average of the image data with the same label for each digit\n",
    "\n",
    "* plot the average images of the same label for each digit\n",
    "* arrange the subplots in 2x5 array for the 10 average images and present the label at the title of each subplot in the increasing order of the label\n"
   ]
  },
  {
   "cell_type": "code",
   "execution_count": null,
   "metadata": {
    "colab": {
     "base_uri": "https://localhost:8080/",
     "height": 282
    },
    "colab_type": "code",
    "executionInfo": {
     "elapsed": 10895,
     "status": "ok",
     "timestamp": 1589893011569,
     "user": {
      "displayName": "신동민",
      "photoUrl": "",
      "userId": "16407036952311297664"
     },
     "user_tz": -540
    },
    "id": "PZQTgq3fQdiC",
    "outputId": "dee9ec8b-98fd-44a2-fdc4-7bfa80f58065"
   },
   "outputs": [],
   "source": [
    "# 라벨 같은 이미지끼리 추리기\n",
    "\n",
    "cnt = 0\n",
    "label=['0','1','2','3','4','5','6','7','8','9']\n",
    "complete=0\n",
    "\n",
    "label_vector=[]\n",
    "\n",
    "for i in range(10):\n",
    "  label_vector.append([])\n",
    "\n",
    "while(complete<10):\n",
    "  for i in enumerate(arr_label):\n",
    "    if(i[1]==label[cnt]):\n",
    "        label_vector[cnt].append((label[cnt],arr_image[i[0]]))\n",
    "  cnt+=1\n",
    "  complete+=1\n",
    "\n",
    "# 벡터 평균 구하기\n",
    "\n",
    "print(label_vector[0][0]) # label+label_ele_vector\n",
    "\n",
    "print(label_vector[0][0][1]) # label_ele_vector\n",
    "\n",
    "# print(len(label_vector[0])) # label_ele_num. label 0\n",
    "\n",
    "label_ele_num=[] # 각 라벨 별 요소 개수\n",
    "\n",
    "for i in range(10):\n",
    "  label_ele_num.append(len(label_vector[i]))\n",
    "\n",
    "# print(label_ele_num)\n",
    "\n",
    "vectors = [] # 각 라벨별 벡터 리스트.\n",
    "\n",
    "for i in range(10):\n",
    "  vectors.append([])\n",
    "\n",
    "cnt=0\n",
    "\n",
    "while(cnt<10):\n",
    "\n",
    "  temp=[]\n",
    "\n",
    "  for i in range(28*28):\n",
    "    a=0\n",
    "    for j in range(label_ele_num[cnt]): \n",
    "      a+=int(label_vector[cnt][j][1][i])\n",
    "    temp.append(a)\n",
    "\n",
    "  vectors[cnt].append(temp)\n",
    "\n",
    "  cnt+=1\n",
    "\n",
    "cnt = 0\n",
    "\n",
    "avg_label_vector = [] # 각 라벨별 벡터의 평균 리스트\n",
    "\n",
    "for i in range(10):\n",
    "  avg_label_vector.append([])\n",
    "\n",
    "while(cnt<10):\n",
    "\n",
    "  temp=[]\n",
    "\n",
    "  for i in range(28*28):\n",
    "    a=0\n",
    "    for j in range(label_ele_num[cnt]): #980\n",
    "      a+=int(label_vector[cnt][j][1][i])\n",
    "    temp.append(a)\n",
    "\n",
    "  for i in range(28*28):\n",
    "    temp[i]/=label_ele_num[cnt]\n",
    "  avg_label_vector[cnt].append(temp)\n",
    "\n",
    "  cnt+=1\n",
    "\n",
    "\n",
    "# print(sum_label_vector)\n",
    "\n",
    "# for i in range(10):\n",
    "#   print(avg_label_vector[i])\n",
    "\n",
    "# for i in range(10):\n",
    "#   print(vectors[i])\n",
    "\n",
    "#------------------- 이미지 제시 ----------------------- \n",
    "\n",
    "num_image = 10\n",
    "count=0\n",
    "\n",
    "list_image  = np.empty((size_row * size_col, num_image), dtype=float)\n",
    "list_label  = np.empty(num_image, dtype=int)\n",
    "\n",
    "# im_vector=[]\n",
    "\n",
    "for i in range(10):\n",
    "\n",
    "    im_vector   = np.asfarray(avg_label_vector[i])\n",
    "\n",
    "    # print(im_vector)\n",
    "\n",
    "    # list_label[count]       = label\n",
    "    list_image[:, count]    = im_vector\n",
    "    # list_image[count]    = im_vector\n",
    "\n",
    "    count += 1\n",
    "\n",
    "# print(im_vector)\n",
    "# print(list_image)\n",
    "# print(len(list_image))\n",
    "\n",
    "## 그림으로 나타내기\n",
    "\n",
    "f2 = plt.figure(1)\n",
    "\n",
    "for i in range(10):\n",
    "\n",
    "    plt_label   = label[i]\n",
    "    im_vector   = list_image[:, i]\n",
    "    im_matrix   = im_vector.reshape((size_row, size_col))\n",
    "\n",
    "    plt.subplot(2, 5, i+1)\n",
    "    plt.title(plt_label)\n",
    "    plt.imshow(im_matrix, cmap='Greys', interpolation='None')\n",
    "\n",
    "    frame   = plt.gca()\n",
    "    frame.axes.get_xaxis().set_visible(False)\n",
    "    frame.axes.get_yaxis().set_visible(False)\n",
    "\n",
    "plt.show()"
   ]
  },
  {
   "cell_type": "markdown",
   "metadata": {
    "colab_type": "text",
    "id": "0YLJ2Q3wiwig"
   },
   "source": [
    "#**2. Present the output of the neural network with random weights**"
   ]
  },
  {
   "cell_type": "markdown",
   "metadata": {
    "colab_type": "text",
    "id": "Y1zWPBS6FkmC"
   },
   "source": [
    "* consider a neural network with a fully connected layer using a logistic unit without a bias\n",
    "* assign random values from the normal distribution N(0,1)\\mathcal{N}(0, 1)N(0,1) with mean 0 and standard deviation 1 to the weights of the fully connected layer using a logistic unit without a bias\n",
    "* compute the forward propagation and take the average of the output values for the images of the same label\n",
    "* present the average values for each label in the increasing order of the label"
   ]
  },
  {
   "cell_type": "code",
   "execution_count": null,
   "metadata": {
    "colab": {
     "base_uri": "https://localhost:8080/",
     "height": 34
    },
    "colab_type": "code",
    "executionInfo": {
     "elapsed": 1342,
     "status": "error",
     "timestamp": 1589892403679,
     "user": {
      "displayName": "신동민",
      "photoUrl": "",
      "userId": "16407036952311297664"
     },
     "user_tz": -540
    },
    "id": "fzrGMRLRFuL1",
    "outputId": "75e62886-77ab-4354-bc84-0bf4dab84cd8"
   },
   "outputs": [],
   "source": [
    "# avg_label_vector = [] # 각 라벨별 벡터의 평균 리스트\n",
    "\n",
    "# vectors = [] # 각 라벨별 벡터의 자릿수별 합 리스트.\n",
    "\n",
    "# label_ele_num=[] # 각 라벨 별 요소 개수\n",
    "\n",
    "# label=['0','1','2','3','4','5','6','7','8','9']\n",
    "\n",
    "# list_image\n",
    "# list_label\n",
    "\n",
    "# label_vector[0][0] # label+label_ele_vector. 0번째 라벨 집합의 0번째 요소.\n",
    "\n",
    "# print(label_vector[0][0][1]) # label_ele_vector. 0번째 라벨 집합의 0번째 요소의 벡터만\n",
    "\n",
    "num_image=10000\n",
    "\n",
    "# y = np.empty((size_row * size_col, num_image), dtype=float)\n",
    "\n",
    "all_z=[]\n",
    "\n",
    "for i in range(10):\n",
    "  all_z.append([])\n",
    "\n",
    "# all_z = np.empty((len(label),size_row * size_col, num_image), dtype=float)\n",
    "\n",
    "# all_z = np.empty((size_row * size_col, num_image), dtype=float)\n",
    "\n",
    "# for cnt in range(10):\n",
    "#   for ele_num in label_ele_num:\n",
    "#     z = np.empty((size_row * size_col, ele_num), dtype=float)\n",
    "#     all_z[cnt]=z\n",
    "\n",
    "np.random.seed(28*28)\n",
    "\n",
    "mu,sigma = 0.0,1.0\n",
    "\n",
    "rand_norm = np.random.normal(mu,sigma,size=28*28)\n",
    "\n",
    "cnt=0\n",
    "\n",
    "t=0\n",
    "\n",
    "while(cnt<10):\n",
    "\n",
    "  for i in range(label_ele_num[cnt]):\n",
    "\n",
    "    z = np.empty((size_row * size_col, label_ele_num[cnt]), dtype=float)\n",
    "\n",
    "    im_vector   = np.asfarray(label_vector[cnt][i][1])\n",
    "\n",
    "    theta_x_input = rand_norm*im_vector\n",
    "\n",
    "    y    = theta_x_input\n",
    "\n",
    "    sigmoid = 1/(1+np.exp(-y))\n",
    "\n",
    "    z[:,i]    = sigmoid\n",
    "\n",
    "    all_z[cnt].append(z)\n",
    "\n",
    "  cnt+=1\n",
    "\n",
    "cnt=0\n",
    "\n",
    "# print(len(z))\n",
    "# print(len(z[0]))\n",
    "# print(len(z[0][0]))\n",
    "\n",
    "# print(z[9])\n",
    "\n",
    "\n",
    "\n"
   ]
  },
  {
   "cell_type": "markdown",
   "metadata": {
    "colab_type": "text",
    "id": "NTix0_vxfM7J"
   },
   "source": [
    "#**Result**"
   ]
  },
  {
   "cell_type": "markdown",
   "metadata": {
    "colab_type": "text",
    "id": "ZEE6JgkFs90N"
   },
   "source": [
    "#**1. Plot the average image**"
   ]
  },
  {
   "cell_type": "markdown",
   "metadata": {
    "colab_type": "text",
    "id": "KSr9BZOis90S"
   },
   "source": [
    "* plot the average images of the same label for each digit\n",
    "* arrange the subplots in 2x5 array for the 10 average images and present the label at the title of each subplot in the increasing order of the label"
   ]
  },
  {
   "cell_type": "markdown",
   "metadata": {
    "colab_type": "text",
    "id": "54SAdJw3gEkf"
   },
   "source": [
    "##**2. Plot the training error with varying regularization parameters**"
   ]
  },
  {
   "cell_type": "code",
   "execution_count": null,
   "metadata": {
    "colab": {},
    "colab_type": "code",
    "id": "CWFBKd22S5uu"
   },
   "outputs": [],
   "source": [
    "# t=np.arange(0,10000,step=1)\n",
    "\n",
    "# plt.figure(figsize=(8, 8))\n",
    "\n",
    "# plt.xlabel('t')\n",
    "# plt.ylabel('J (training error)')\n",
    "\n",
    "# plt.plot(t,lambda_1_training_err,color=\"red\",label=\"lambda 1 over-fitting\")\n",
    "# plt.plot(t,lambda_2_training_err,color=\"green\",label=\"lambda 2 just-right\")\n",
    "# plt.plot(t,lambda_3_training_err,color=\"blue\",label=\"lambda 3 under-fitting\")\n",
    "\n",
    "# plt.legend()\n",
    "# plt.show()"
   ]
  }
 ],
 "metadata": {
  "accelerator": "TPU",
  "colab": {
   "authorship_tag": "ABX9TyOYkEG74mMELbL3YaQLFTCx",
   "collapsed_sections": [],
   "mount_file_id": "1nxNHGacESyZfmVr8Xu3ZNKnQTr2KgqU-",
   "name": "Assignment8.ipynb",
   "provenance": [
    {
     "file_id": "1vwBlYDJYQkl4QY5D5jdMs3xz1fe0jq8d",
     "timestamp": 1587344666341
    }
   ]
  },
  "kernelspec": {
   "display_name": "Python 3",
   "language": "python",
   "name": "python3"
  },
  "language_info": {
   "codemirror_mode": {
    "name": "ipython",
    "version": 3
   },
   "file_extension": ".py",
   "mimetype": "text/x-python",
   "name": "python",
   "nbconvert_exporter": "python",
   "pygments_lexer": "ipython3",
   "version": "3.8.2"
  }
 },
 "nbformat": 4,
 "nbformat_minor": 1
}
