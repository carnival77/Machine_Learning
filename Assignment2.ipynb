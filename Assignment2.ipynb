{
  "nbformat": 4,
  "nbformat_minor": 0,
  "metadata": {
    "colab": {
      "name": "Assignment2.ipynb",
      "provenance": [],
      "collapsed_sections": [],
      "mount_file_id": "1C8HbUzGNeRnD5AQO-Bil9HPx40n3dTrW",
      "authorship_tag": "ABX9TyPW3AGkfVZSzCKb4eS3u2hs",
      "include_colab_link": true
    },
    "kernelspec": {
      "name": "python3",
      "display_name": "Python 3"
    }
  },
  "cells": [
    {
      "cell_type": "markdown",
      "metadata": {
        "id": "view-in-github",
        "colab_type": "text"
      },
      "source": [
        "<a href=\"https://colab.research.google.com/github/carnival77/Machine_Learning/blob/master/Assignment2.ipynb\" target=\"_parent\"><img src=\"https://colab.research.google.com/assets/colab-badge.svg\" alt=\"Open In Colab\"/></a>"
      ]
    },
    {
      "cell_type": "markdown",
      "metadata": {
        "id": "4QY2-0_-KING",
        "colab_type": "text"
      },
      "source": [
        "#**1.Input Data**"
      ]
    },
    {
      "cell_type": "code",
      "metadata": {
        "id": "eSKPcuq3LspB",
        "colab_type": "code",
        "outputId": "0e627651-e81e-44d9-a439-518e06b8ad20",
        "colab": {
          "base_uri": "https://localhost:8080/",
          "height": 266
        }
      },
      "source": [
        "!pip install tensorflow==1.4\n",
        "!pip install colorama\n",
        "import matplotlib.pyplot as plt\n",
        "import numpy as np\n",
        "import tensorflow as tf\n",
        "\n",
        "# from colorama import init, Fore\n",
        "# init()"
      ],
      "execution_count": 192,
      "outputs": [
        {
          "output_type": "stream",
          "text": [
            "Requirement already satisfied: tensorflow==1.4 in /usr/local/lib/python3.6/dist-packages (1.4.0)\n",
            "Requirement already satisfied: wheel>=0.26 in /usr/local/lib/python3.6/dist-packages (from tensorflow==1.4) (0.34.2)\n",
            "Requirement already satisfied: six>=1.10.0 in /usr/local/lib/python3.6/dist-packages (from tensorflow==1.4) (1.12.0)\n",
            "Requirement already satisfied: enum34>=1.1.6 in /usr/local/lib/python3.6/dist-packages (from tensorflow==1.4) (1.1.10)\n",
            "Requirement already satisfied: numpy>=1.12.1 in /usr/local/lib/python3.6/dist-packages (from tensorflow==1.4) (1.18.2)\n",
            "Requirement already satisfied: tensorflow-tensorboard<0.5.0,>=0.4.0rc1 in /usr/local/lib/python3.6/dist-packages (from tensorflow==1.4) (0.4.0)\n",
            "Requirement already satisfied: protobuf>=3.3.0 in /usr/local/lib/python3.6/dist-packages (from tensorflow==1.4) (3.10.0)\n",
            "Requirement already satisfied: werkzeug>=0.11.10 in /usr/local/lib/python3.6/dist-packages (from tensorflow-tensorboard<0.5.0,>=0.4.0rc1->tensorflow==1.4) (1.0.0)\n",
            "Requirement already satisfied: bleach==1.5.0 in /usr/local/lib/python3.6/dist-packages (from tensorflow-tensorboard<0.5.0,>=0.4.0rc1->tensorflow==1.4) (1.5.0)\n",
            "Requirement already satisfied: markdown>=2.6.8 in /usr/local/lib/python3.6/dist-packages (from tensorflow-tensorboard<0.5.0,>=0.4.0rc1->tensorflow==1.4) (3.2.1)\n",
            "Requirement already satisfied: html5lib==0.9999999 in /usr/local/lib/python3.6/dist-packages (from tensorflow-tensorboard<0.5.0,>=0.4.0rc1->tensorflow==1.4) (0.9999999)\n",
            "Requirement already satisfied: setuptools in /usr/local/lib/python3.6/dist-packages (from protobuf>=3.3.0->tensorflow==1.4) (46.0.0)\n",
            "Requirement already satisfied: colorama in /usr/local/lib/python3.6/dist-packages (0.4.3)\n"
          ],
          "name": "stdout"
        }
      ]
    },
    {
      "cell_type": "markdown",
      "metadata": {
        "id": "jXCn7gOMaVv2",
        "colab_type": "text"
      },
      "source": [
        "#(1)\n",
        "m = 1000, a = 0.1, b = 0.4, σ = 0.03.\n",
        "\n",
        "y=y^​+n -> y​=ax+b+n where n ~ N(0,0.03^2) \n",
        "\n",
        "1000개의 실수 [x,y] 데이터 생성\n",
        "그 후 xi_arr, yi_arr 배열에 각각 저장.\n"
      ]
    },
    {
      "cell_type": "code",
      "metadata": {
        "id": "GMe1PVUDZeyl",
        "colab_type": "code",
        "colab": {}
      },
      "source": [
        "num_points = 1000\n",
        "vertors = []\n",
        "for i in range(num_points):\n",
        "  xi= np.random.normal(0.0,0.5) # random x value\n",
        "  y_hat = xi*0.1 + 0.4 # y_hat = 0.1*xi + 0.4\n",
        "  yi= y_hat + np.random.normal(0.0, 0.03) # y=y^​+n -> y^​=ax+b+n where n ~ N(0,0.03^2)\n",
        "  vertors.append([xi,yi]) # 1000개의 [x,y] 데이터 생성.\n",
        "xi_arr = [v[0] for v in vertors]\n",
        "yi_arr = [v[1] for v in vertors]\n",
        "  "
      ],
      "execution_count": 0,
      "outputs": []
    },
    {
      "cell_type": "markdown",
      "metadata": {
        "id": "q9VGPQVlRlKm",
        "colab_type": "text"
      },
      "source": [
        "#(2)\n",
        "straight line of linear function y_hat = 0.1*xi + 0.4 \n",
        "and data_set points"
      ]
    },
    {
      "cell_type": "code",
      "metadata": {
        "id": "hqLfooSZClNw",
        "colab_type": "code",
        "outputId": "d344a359-8c3c-49d1-db47-35c67cbc363d",
        "colab": {
          "base_uri": "https://localhost:8080/",
          "height": 265
        }
      },
      "source": [
        "plt.plot(xi_arr,yi_arr,\"ko\",label = \"Data points\")\n",
        "a_val = np.arange(-1.5,1.5,0.2)\n",
        "y=[0.1*x +0.4 for x in a_val]\n",
        "plt.plot(a_val,y,label=\"linear function\")\n",
        "plt.legend()\n",
        "plt.show()"
      ],
      "execution_count": 194,
      "outputs": [
        {
          "output_type": "display_data",
          "data": {
            "image/png": "[encoded data removed]",
            "text/plain": [
              "<Figure size 432x288 with 1 Axes>"
            ]
          },
          "metadata": {
            "tags": []
          }
        }
      ]
    },
    {
      "cell_type": "markdown",
      "metadata": {
        "id": "3aFZ1isaTKr2",
        "colab_type": "text"
      },
      "source": [
        "#**2. Output results**"
      ]
    },
    {
      "cell_type": "markdown",
      "metadata": {
        "id": "ohVaVw4CY-66",
        "colab_type": "text"
      },
      "source": [
        "W : theta_1 = -1 과 1 사이의 실수\n",
        "\n",
        "b : theta_0\n",
        "\n",
        "OF = objective function"
      ]
    },
    {
      "cell_type": "code",
      "metadata": {
        "id": "F69FXmsdTQaa",
        "colab_type": "code",
        "colab": {}
      },
      "source": [
        "W = tf.Variable(tf.random_uniform([1],-1.0,1.0))\n",
        "b=tf.Variable(tf.zeros([1]))\n",
        "y=xi_arr*W+b\n",
        "OF = tf.reduce_mean(tf.square(y-yi_arr))"
      ],
      "execution_count": 0,
      "outputs": []
    },
    {
      "cell_type": "markdown",
      "metadata": {
        "id": "iYnq1XFmcRlw",
        "colab_type": "text"
      },
      "source": [
        "Minimize gap using Gradient Descent \n",
        "\n",
        "Set learning rate with 0.5"
      ]
    },
    {
      "cell_type": "code",
      "metadata": {
        "id": "JtM4nswtY6z_",
        "colab_type": "code",
        "colab": {}
      },
      "source": [
        "optimizer = tf.train.GradientDescentOptimizer(0.5)\n",
        "train = optimizer.minimize(OF)\n",
        "init = tf.global_variables_initializer()\n",
        "sess = tf.Session()\n",
        "sess.run(init)"
      ],
      "execution_count": 0,
      "outputs": []
    },
    {
      "cell_type": "markdown",
      "metadata": {
        "id": "CZ0Iy_cJfTlC",
        "colab_type": "text"
      },
      "source": [
        "15회 반복"
      ]
    },
    {
      "cell_type": "code",
      "metadata": {
        "id": "8veBmyb_cwZQ",
        "colab_type": "code",
        "outputId": "2e86caca-e7f0-4962-f19d-e1f622abf2f1",
        "colab": {
          "base_uri": "https://localhost:8080/",
          "height": 265
        }
      },
      "source": [
        "X = tf.placeholder(tf.float32)\n",
        "Y = tf.placeholder(tf.float32)\n",
        "theta_0 = []\n",
        "theta_1=[]\n",
        "OF_val=[]\n",
        "for step in range(15):\n",
        "  sess.run(train)\n",
        "  theta_1.append(sess.run(W))\n",
        "  theta_0.append(sess.run(b))\n",
        "  OF_val.append([sess.run(OF,feed_dict={X: xi_arr, Y: yi_arr})])\n",
        "plt.plot(xi_arr,yi_arr,'ko',label=\"data points\")\n",
        "plt.plot(xi_arr,sess.run(W)*xi_arr + sess.run(b),color=\"red\",label=\"solution from linear regression\")\n",
        "plt.legend()\n",
        "plt.show()"
      ],
      "execution_count": 197,
      "outputs": [
        {
          "output_type": "display_data",
          "data": {
            "image/png": "[encoded data removed]",
            "text/plain": [
              "<Figure size 432x288 with 1 Axes>"
            ]
          },
          "metadata": {
            "tags": []
          }
        }
      ]
    },
    {
      "cell_type": "markdown",
      "metadata": {
        "id": "JKLYvPdrJ1Do",
        "colab_type": "text"
      },
      "source": [
        "1의 초기 가정된 linear function 과 linear regression 을 통해 얻은 solution 비교"
      ]
    },
    {
      "cell_type": "code",
      "metadata": {
        "id": "AX93uwfvJumt",
        "colab_type": "code",
        "colab": {
          "base_uri": "https://localhost:8080/",
          "height": 265
        },
        "outputId": "de1b8943-8a11-4e98-ee32-6edfe94010a8"
      },
      "source": [
        "a_val = np.arange(-1.5,1.5,0.2)\n",
        "y=[0.1*x +0.4 for x in a_val]\n",
        "for step in range(15):\n",
        "  sess.run(train)\n",
        "hypothesis = plt.plot(a_val,y,label=\"linear function\")\n",
        "solution = plt.plot(xi_arr,sess.run(W)*xi_arr + sess.run(b),color=\"red\",label=\"solution from linear regression\")\n",
        "plt.plot(xi_arr,yi_arr,'ko',label=\"data points\")\n",
        "plt.setp(solution,linewidth=2.0)\n",
        "plt.setp(hypothesis,linewidth=2.0)\n",
        "plt.legend()\n",
        "plt.show()"
      ],
      "execution_count": 198,
      "outputs": [
        {
          "output_type": "display_data",
          "data": {
            "image/png": "[encoded data removed]",
            "text/plain": [
              "<Figure size 432x288 with 1 Axes>"
            ]
          },
          "metadata": {
            "tags": []
          }
        }
      ]
    },
    {
      "cell_type": "markdown",
      "metadata": {
        "id": "ZyQtg-dRgf_1",
        "colab_type": "text"
      },
      "source": [
        "#**3.Plotting the energy values**"
      ]
    },
    {
      "cell_type": "markdown",
      "metadata": {
        "id": "VChIdOf4gp46",
        "colab_type": "text"
      },
      "source": [
        "the value of the objective function at every optimization step by the gradient descent algorithm"
      ]
    },
    {
      "cell_type": "code",
      "metadata": {
        "id": "PDN5tCWkMQmK",
        "colab_type": "code",
        "colab": {
          "base_uri": "https://localhost:8080/",
          "height": 560
        },
        "outputId": "a22b3eec-7e58-45f0-9743-907c99dd1948"
      },
      "source": [
        "for step in range(15):\n",
        "  print(step, OF_val[step])\n",
        "plt.scatter(theta_1,OF_val)\n",
        "plt.xlabel('theta_1')\n",
        "plt.ylabel('objective value')\n",
        "plt.title('changes of objective values by theta_1')\n",
        "plt.show()"
      ],
      "execution_count": 204,
      "outputs": [
        {
          "output_type": "stream",
          "text": [
            "0 [0.069617674]\n",
            "1 [0.03975462]\n",
            "2 [0.022869905]\n",
            "3 [0.013323203]\n",
            "4 [0.007925447]\n",
            "5 [0.0048735323]\n",
            "6 [0.003147966]\n",
            "7 [0.002172322]\n",
            "8 [0.0016206881]\n",
            "9 [0.0013087915]\n",
            "10 [0.0011324432]\n",
            "11 [0.0010327356]\n",
            "12 [0.00097636034]\n",
            "13 [0.0009444854]\n",
            "14 [0.00092646317]\n"
          ],
          "name": "stdout"
        },
        {
          "output_type": "display_data",
          "data": {
            "image/png": "[encoded data removed]",
            "text/plain": [
              "<Figure size 432x288 with 1 Axes>"
            ]
          },
          "metadata": {
            "tags": []
          }
        }
      ]
    },
    {
      "cell_type": "markdown",
      "metadata": {
        "id": "3a9U8lGeTKIg",
        "colab_type": "text"
      },
      "source": [
        "#**4.Plotting the model parameters**"
      ]
    },
    {
      "cell_type": "code",
      "metadata": {
        "id": "sKzY0BQhUOqb",
        "colab_type": "code",
        "colab": {
          "base_uri": "https://localhost:8080/",
          "height": 281
        },
        "outputId": "ca7f1556-aa39-47bb-ea7d-c968dd4a4b3d"
      },
      "source": [
        "for step in range(15):\n",
        "  print(step, theta_0[step],theta_1[step])"
      ],
      "execution_count": 201,
      "outputs": [
        {
          "output_type": "stream",
          "text": [
            "0 [0.40521795] [0.62448394]\n",
            "1 [0.4042405] [0.49392816]\n",
            "2 [0.40351793] [0.39575872]\n",
            "3 [0.40297464] [0.32194176]\n",
            "4 [0.4025661] [0.26643628]\n",
            "5 [0.40225893] [0.22469983]\n",
            "6 [0.40202793] [0.19331676]\n",
            "7 [0.40185425] [0.16971877]\n",
            "8 [0.40172365] [0.15197463]\n",
            "9 [0.40162545] [0.13863221]\n",
            "10 [0.4015516] [0.12859958]\n",
            "11 [0.40149608] [0.12105571]\n",
            "12 [0.40145433] [0.11538322]\n",
            "13 [0.40142295] [0.11111788]\n",
            "14 [0.40139934] [0.10791063]\n"
          ],
          "name": "stdout"
        }
      ]
    }
  ]
}