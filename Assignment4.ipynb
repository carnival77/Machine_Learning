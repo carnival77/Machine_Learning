{
  "nbformat": 4,
  "nbformat_minor": 0,
  "metadata": {
    "colab": {
      "name": "Assignment4.ipynb",
      "provenance": [],
      "mount_file_id": "1vwBlYDJYQkl4QY5D5jdMs3xz1fe0jq8d",
      "authorship_tag": "ABX9TyM2HuJdMeq41HcDfLROdjUc",
      "include_colab_link": true
    },
    "kernelspec": {
      "name": "python3",
      "display_name": "Python 3"
    }
  },
  "cells": [
    {
      "cell_type": "markdown",
      "metadata": {
        "id": "view-in-github",
        "colab_type": "text"
      },
      "source": [
        "<a href=\"https://colab.research.google.com/github/carnival77/Machine_Learning/blob/master/Assignment4.ipynb\" target=\"_parent\"><img src=\"https://colab.research.google.com/assets/colab-badge.svg\" alt=\"Open In Colab\"/></a>"
      ]
    },
    {
      "cell_type": "markdown",
      "metadata": {
        "id": "u9D_hw1xXEoL",
        "colab_type": "text"
      },
      "source": [
        "#**1. Plot the estimated parametered using the training dataset**"
      ]
    },
    {
      "cell_type": "markdown",
      "metadata": {
        "id": "ZCVzge5gXNTO",
        "colab_type": "text"
      },
      "source": [
        "\n",
        "\n",
        "*   plot the estimated parameters {(θ0,θ1,θ2,θ3)} at every iteration of gradient descent until convergence\n",
        "*   the colors for the parameters {(θ0,θ1,θ2,θ3)} should be black, red, green, blue, respectively\n",
        "*   the optimization is performed using the training dataset ('data_train.csv')\n"
      ]
    },
    {
      "cell_type": "code",
      "metadata": {
        "id": "PMrBtj-ZWleI",
        "colab_type": "code",
        "colab": {}
      },
      "source": [
        ""
      ],
      "execution_count": 0,
      "outputs": []
    },
    {
      "cell_type": "markdown",
      "metadata": {
        "id": "kZua-TlfXD--",
        "colab_type": "text"
      },
      "source": [
        ""
      ]
    }
  ]
}