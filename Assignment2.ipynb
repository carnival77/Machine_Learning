{
  "nbformat": 4,
  "nbformat_minor": 0,
  "metadata": {
    "colab": {
      "name": "Assignment2.ipynb",
      "provenance": [],
      "collapsed_sections": [],
      "mount_file_id": "1C8HbUzGNeRnD5AQO-Bil9HPx40n3dTrW",
      "authorship_tag": "ABX9TyOMHxtLLCWLUZN+BNvu0aP1",
      "include_colab_link": true
    },
    "kernelspec": {
      "name": "python3",
      "display_name": "Python 3"
    }
  },
  "cells": [
    {
      "cell_type": "markdown",
      "metadata": {
        "id": "view-in-github",
        "colab_type": "text"
      },
      "source": [
        "<a href=\"https://colab.research.google.com/github/carnival77/Machine_Learning/blob/master/Assignment2.ipynb\" target=\"_parent\"><img src=\"https://colab.research.google.com/assets/colab-badge.svg\" alt=\"Open In Colab\"/></a>"
      ]
    },
    {
      "cell_type": "markdown",
      "metadata": {
        "id": "4QY2-0_-KING",
        "colab_type": "text"
      },
      "source": [
        "#**1.Input Data**"
      ]
    },
    {
      "cell_type": "code",
      "metadata": {
        "id": "eSKPcuq3LspB",
        "colab_type": "code",
        "colab": {}
      },
      "source": [
        "import matplotlib.pyplot as plt\n",
        "import numpy as np\n",
        "import tensorflow as tf"
      ],
      "execution_count": 0,
      "outputs": []
    },
    {
      "cell_type": "markdown",
      "metadata": {
        "id": "jXCn7gOMaVv2",
        "colab_type": "text"
      },
      "source": [
        "#(1)\n",
        "m = 1000, a = 0.1, b = 0.4, σ = 0.03.\n",
        "\n",
        "y=y^​+n -> y​=ax+b+n where n ~ N(0,0.03^2) \n",
        "\n",
        "1000개의 실수 [x,y] 데이터 생성\n",
        "그 후 xi_arr, yi_arr 배열에 각각 저장.\n"
      ]
    },
    {
      "cell_type": "code",
      "metadata": {
        "id": "GMe1PVUDZeyl",
        "colab_type": "code",
        "colab": {}
      },
      "source": [
        "num_points = 1000\n",
        "vertors = []\n",
        "for i in range(num_points):\n",
        "  xi= np.random.normal(0.0,0.5) # random x value\n",
        "  y_hat = xi*0.1 + 0.4 # y_hat = 0.1*xi + 0.4\n",
        "  yi= y_hat + np.random.normal(0.0, 0.03) # y=y^​+n -> y^​=ax+b+n where n ~ N(0,0.03^2)\n",
        "  vertors.append([xi,yi]) # 1000개의 [x,y] 데이터 생성.\n",
        "xi_arr = [v[0] for v in vertors]\n",
        "yi_arr = [v[1] for v in vertors]\n",
        "  "
      ],
      "execution_count": 0,
      "outputs": []
    },
    {
      "cell_type": "markdown",
      "metadata": {
        "id": "q9VGPQVlRlKm",
        "colab_type": "text"
      },
      "source": [
        "#(2)\n",
        "straight line of linear function y_hat = 0.1*xi + 0.4 \n",
        "and data_set points"
      ]
    },
    {
      "cell_type": "code",
      "metadata": {
        "id": "hqLfooSZClNw",
        "colab_type": "code",
        "colab": {
          "base_uri": "https://localhost:8080/",
          "height": 265
        },
        "outputId": "f1452d48-2b68-495c-958b-999f329c5e88"
      },
      "source": [
        "plt.plot(xi_arr,yi_arr,\"ko\",label = \"Data points\")\n",
        "a_val = np.arange(-1.5,1.5,0.2)\n",
        "y=[0.1*x +0.4 for x in a_val]\n",
        "plt.plot(a_val,y,label=\"linear function\")\n",
        "plt.legend()\n",
        "plt.show()"
      ],
      "execution_count": 9,
      "outputs": [
        {
          "output_type": "display_data",
          "data": {
            "image/png": "[encoded data removed]",
            "text/plain": [
              "<Figure size 432x288 with 1 Axes>"
            ]
          },
          "metadata": {
            "tags": []
          }
        }
      ]
    },
    {
      "cell_type": "markdown",
      "metadata": {
        "id": "3aFZ1isaTKr2",
        "colab_type": "text"
      },
      "source": [
        "#**2. Output results**"
      ]
    },
    {
      "cell_type": "markdown",
      "metadata": {
        "id": "UWfpxdM_TRFr",
        "colab_type": "text"
      },
      "source": [
        "#(1) "
      ]
    },
    {
      "cell_type": "code",
      "metadata": {
        "id": "F69FXmsdTQaa",
        "colab_type": "code",
        "colab": {}
      },
      "source": [
        ""
      ],
      "execution_count": 0,
      "outputs": []
    }
  ]
}