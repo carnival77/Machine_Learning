{
  "nbformat": 4,
  "nbformat_minor": 0,
  "metadata": {
    "colab": {
      "name": "Assignment9.ipynb",
      "provenance": [],
      "collapsed_sections": [],
      "mount_file_id": "1DK98M02E7YrOzeBHy1fgbFMSKb0LF6Xh",
      "authorship_tag": "ABX9TyNI2+fRO8vVaf6s7yL3WuoC",
      "include_colab_link": true
    },
    "kernelspec": {
      "display_name": "Python 3",
      "language": "python",
      "name": "python3"
    },
    "language_info": {
      "codemirror_mode": {
        "name": "ipython",
        "version": 3
      },
      "file_extension": ".py",
      "mimetype": "text/x-python",
      "name": "python",
      "nbconvert_exporter": "python",
      "pygments_lexer": "ipython3",
      "version": "3.8.2"
    }
  },
  "cells": [
    {
      "cell_type": "markdown",
      "metadata": {
        "id": "view-in-github",
        "colab_type": "text"
      },
      "source": [
        "<a href=\"https://colab.research.google.com/github/carnival77/Machine_Learning/blob/master/Assignment9.ipynb\" target=\"_parent\"><img src=\"https://colab.research.google.com/assets/colab-badge.svg\" alt=\"Open In Colab\"/></a>"
      ]
    },
    {
      "cell_type": "markdown",
      "metadata": {
        "id": "RO9f7HuzsvQ9",
        "colab_type": "text"
      },
      "source": [
        "#**1. Input Data**"
      ]
    },
    {
      "cell_type": "markdown",
      "metadata": {
        "id": "xOqSLLhbsyte",
        "colab_type": "text"
      },
      "source": [
        "* load the data file ('mnist_test.csv')\n",
        "* each row of the data consists of the label and the image pixel values in a vector form\n",
        "* the label is one of the 10 digits from 0 to 9\n",
        "* the image represents one of the 10 digits from 0 to 9 in grey scale and its size is 28x28"
      ]
    },
    {
      "cell_type": "code",
      "metadata": {
        "id": "EN_AbyMGc3yk",
        "colab_type": "code",
        "colab": {}
      },
      "source": [
        "import numpy as np\n",
        "import matplotlib.pyplot as plt\n",
        "import csv\n",
        "\n",
        "file_data   = \"/content/drive/My Drive/Colab Notebooks/assignment9/mnist.csv\"\n",
        "handle_file = open(file_data, \"r\")\n",
        "data        = handle_file.readlines()\n",
        "handle_file.close()\n",
        "\n",
        "size_row    = 28    # height of the image\n",
        "size_col    = 28    # width of the image\n",
        "\n",
        "num_image   = len(data)\n",
        "count       = 0     # count for the number of images\n",
        "\n",
        "#\n",
        "# normalize the values of the input data to be [0, 1]\n",
        "#\n",
        "def normalize(data):\n",
        "\n",
        "    data_normalized = (data - min(data)) / (max(data) - min(data))\n",
        "\n",
        "    return(data_normalized)\n",
        "\n",
        "#\n",
        "# example of distance function between two vectors x and y\n",
        "#\n",
        "def distance(x, y):\n",
        "\n",
        "    d = (x - y) ** 2\n",
        "    s = np.sum(d)\n",
        "    # r = np.sqrt(s)\n",
        "\n",
        "    return(s)\n",
        "\n",
        "#\n",
        "# make a matrix each column of which represents an images in a vector form\n",
        "#\n",
        "# list_image  = np.empty((size_row * size_col, num_image), dtype=float)\n",
        "list_training_image = np.empty((size_row * size_col, 6000), dtype=float)\n",
        "list_testing_image = np.empty((size_row * size_col, 4000), dtype=float)\n",
        "\n",
        "# list_label  = np.empty(num_image, dtype=int)\n",
        "list_training_label  = np.empty(6000, dtype=int)\n",
        "list_testing_label  = np.empty(4000, dtype=int)\n",
        "\n",
        "for line in enumerate(data):\n",
        "\n",
        "  if(line[0]<6000):\n",
        "\n",
        "    line_data   = line[1].split(',')\n",
        "    label       = line_data[0]\n",
        "    im_vector   = np.asfarray(line_data[1:])\n",
        "    im_vector   = normalize(im_vector)\n",
        "\n",
        "    list_training_label[count]       = label\n",
        "    list_training_image[:, count]    = im_vector\n",
        "\n",
        "    count += 1\n",
        "  \n",
        "  else:\n",
        "    count = 0 \n",
        "  \n",
        "    line_data   = line[1].split(',')\n",
        "    label       = line_data[0]\n",
        "    im_vector   = np.asfarray(line_data[1:])\n",
        "    im_vector   = normalize(im_vector)\n",
        "\n",
        "    list_testing_label[count]       = label\n",
        "    list_testing_image[:, count]    = im_vector\n",
        "\n",
        "    count += 1\n",
        "\n",
        "# list_training_image : 784 x 6000\n",
        "# list_testing_image  : 784 x 4000"
      ],
      "execution_count": 0,
      "outputs": []
    },
    {
      "cell_type": "code",
      "metadata": {
        "id": "NUFJjp4W7FZe",
        "colab_type": "code",
        "colab": {}
      },
      "source": [
        "np.random.seed(0)\n",
        "\n",
        "def sigmoid(x):\n",
        "    return 1 / (1 +np.exp(-x))\n",
        "\n",
        "class Layer:\n",
        "  def __init__(self,n_neurons,n_inputs):\n",
        "    self.weights = np.random.randn(n_neurons,n_inputs)\n",
        "    self.biases = np.ones((1,n_neurons))\n",
        "  def forward(self,inputs):\n",
        "    for b,w in zip(self.biases, self.weights):\n",
        "      self.output = sigmoid(np.dot(w,inputs) + b)\n",
        "    return self.output\n",
        "\n",
        "\n",
        "# for b,w in zip(self.biases, self.weights):\n",
        "#   self.output = sigmoid(np.dot(w,inputs) + b)\n",
        "\n",
        "# self.output = sigmoid(np.dot(self.weights,inputs) + self.biases)"
      ],
      "execution_count": 0,
      "outputs": []
    },
    {
      "cell_type": "markdown",
      "metadata": {
        "id": "tSMqlR6wSqi5",
        "colab_type": "text"
      },
      "source": [
        "x = inputs ( T_list_training_image )\n",
        "\n",
        "y = layer1_output\n",
        "\n",
        "z = layer2_output\n",
        "\n",
        "h = layer3_output"
      ]
    },
    {
      "cell_type": "code",
      "metadata": {
        "id": "fkbA7MGQBFFE",
        "colab_type": "code",
        "colab": {
          "base_uri": "https://localhost:8080/",
          "height": 52
        },
        "outputId": "1cf36393-90f9-4831-cb1f-4ca1f38d01b7"
      },
      "source": [
        "layer1 = Layer(196,784)\n",
        "layer2 = Layer(49,196)\n",
        "layer3 = Layer(10,49)\n",
        "\n",
        "T_list_training_image = np.array(list_training_image).T # 6000 x 784. inputs x\n",
        "\n",
        "h_list=[]\n",
        "\n",
        "for i in range(6000):\n",
        "\n",
        "  y = layer1.forward(T_list_training_image[i])\n",
        "\n",
        "  # y = layer1.forward(list_training_image[i])\n",
        "\n",
        "  z = layer2.forward(y)\n",
        "\n",
        "  # h = layer3.forward(z)\n",
        "  h_list.append(layer3.forward(z))\n",
        "\n",
        "# print(h_list)\n",
        "\n",
        "b=[]\n",
        "\n",
        "count=0\n",
        "for i in range(10):\n",
        "  a=[]\n",
        "  for j in range(10):\n",
        "    if j == count:\n",
        "      a.append(1)\n",
        "    else:\n",
        "      a.append(0)\n",
        "  b.append(a)\n",
        "  count+=1\n",
        "\n",
        "label_filter = np.array(b)\n",
        "\n",
        "count = 0\n",
        "\n",
        "m= 6000\n",
        "\n",
        "OF=0\n",
        "\n",
        "for i in range(6000):\n",
        "\n",
        "  for j in range(10):\n",
        "\n",
        "    if list_training_label[i] == j:\n",
        "      OF += (-label_filter[j] * np.log10(h_list[i])) - ((1-label_filter[j]) * np.log10(1-h_list[i]))\n",
        "\n",
        "OF /= m\n",
        "\n",
        "# OF = np.sum(OF)\n",
        "\n",
        "print(OF)\n",
        "\n",
        "\n",
        "      \n",
        "\n",
        "# OF = np.sum((-list_training_label * np.log10(h_list)) - ((1-list_training_label) * np.log10(1-h_list)))/(m)\n",
        "\n",
        "\n",
        "  \n",
        "\n",
        "# test = layer1.weights\n",
        "\n",
        "# T_list_training_image = np.array(list_training_image).T\n",
        "\n",
        "# print(layer1.output)\n",
        "# print(d)"
      ],
      "execution_count": 54,
      "outputs": [
        {
          "output_type": "stream",
          "text": [
            "[1.29459356 1.24603615 1.27437266 1.28427425 1.28500408 1.29906852\n",
            " 1.28795301 1.28810568 1.28739368 1.28461291]\n"
          ],
          "name": "stdout"
        }
      ]
    },
    {
      "cell_type": "code",
      "metadata": {
        "id": "nCuyTUA1Czcl",
        "colab_type": "code",
        "colab": {}
      },
      "source": [
        "# print(len(T_list_training_image))\n",
        "# print(len(T_list_training_image[0]))\n",
        "\n",
        "# # print(list_training_image[0])"
      ],
      "execution_count": 0,
      "outputs": []
    },
    {
      "cell_type": "markdown",
      "metadata": {
        "colab_type": "text",
        "id": "-hMXvFDkOeMk"
      },
      "source": [
        "#**2. Average Image for Each Digit**\n",
        "#1. **Plot the average image**"
      ]
    },
    {
      "cell_type": "markdown",
      "metadata": {
        "colab_type": "text",
        "id": "ZLSIVEpfQVvn"
      },
      "source": [
        "\n",
        "\n",
        "* take the arithmatic average of the image data with the same label for each digit\n",
        "\n",
        "* plot the average images of the same label for each digit\n",
        "* arrange the subplots in 2x5 array for the 10 average images and present the label at the title of each subplot in the increasing order of the label\n"
      ]
    },
    {
      "cell_type": "code",
      "metadata": {
        "colab_type": "code",
        "id": "PZQTgq3fQdiC",
        "colab": {}
      },
      "source": [
        "# # 라벨 같은 이미지끼리 추리기\n",
        "\n",
        "# cnt = 0\n",
        "# label=['0','1','2','3','4','5','6','7','8','9']\n",
        "# complete=0\n",
        "\n",
        "# label_vector=[]\n",
        "\n",
        "# for i in range(10):\n",
        "#   label_vector.append([])\n",
        "\n",
        "# while(complete<10):\n",
        "#   for i in enumerate(arr_label):\n",
        "#     if(i[1]==label[cnt]):\n",
        "#         label_vector[cnt].append((label[cnt],arr_image[i[0]]))\n",
        "#   cnt+=1\n",
        "#   complete+=1\n",
        "\n",
        "# # 벡터 평균 구하기\n",
        "\n",
        "# # print(label_vector[0][0]) # label+label_ele_vector\n",
        "\n",
        "# # print(label_vector[0][0][1]) # label_ele_vector\n",
        "\n",
        "# # print(len(label_vector[0])) # label_ele_num. label 0\n",
        "\n",
        "# label_ele_num=[] # 각 라벨 별 요소 개수\n",
        "\n",
        "# for i in range(10):\n",
        "#   label_ele_num.append(len(label_vector[i]))\n",
        "\n",
        "# vectors = [] # 각 라벨별 벡터 리스트.\n",
        "\n",
        "# for i in range(10):\n",
        "#   vectors.append([])\n",
        "\n",
        "# cnt=0\n",
        "\n",
        "# while(cnt<10):\n",
        "\n",
        "#   temp=[]\n",
        "\n",
        "#   for i in range(28*28):\n",
        "#     a=0\n",
        "#     for j in range(label_ele_num[cnt]): \n",
        "#       a+=int(label_vector[cnt][j][1][i])\n",
        "#     temp.append(a)\n",
        "\n",
        "#   vectors[cnt].append(temp)\n",
        "\n",
        "#   cnt+=1\n",
        "\n",
        "# cnt = 0\n",
        "\n",
        "# avg_label_vector = [] # 각 라벨별 벡터의 평균 리스트\n",
        "\n",
        "# for i in range(10):\n",
        "#   avg_label_vector.append([])\n",
        "\n",
        "# while(cnt<10):\n",
        "\n",
        "#   temp=[]\n",
        "\n",
        "#   for i in range(28*28):\n",
        "#     a=0\n",
        "#     for j in range(label_ele_num[cnt]):\n",
        "#       a+=int(label_vector[cnt][j][1][i])\n",
        "#     temp.append(a)\n",
        "\n",
        "#   for i in range(28*28):\n",
        "#     temp[i]/=label_ele_num[cnt]\n",
        "#   avg_label_vector[cnt].append(temp)\n",
        "\n",
        "#   cnt+=1\n",
        "\n",
        "# #------------------- 이미지 제시 ----------------------- \n",
        "\n",
        "# num_image = 10\n",
        "# count=0\n",
        "\n",
        "# list_image  = np.empty((size_row * size_col, num_image), dtype=float)\n",
        "# list_label  = np.empty(num_image, dtype=int)\n",
        "\n",
        "# for i in range(10):\n",
        "\n",
        "#     im_vector   = np.asfarray(avg_label_vector[i])\n",
        "\n",
        "#     list_image[:, count]    = im_vector\n",
        "\n",
        "#     count += 1\n",
        "\n",
        "# ## 그림으로 나타내기\n",
        "\n",
        "# f2 = plt.figure(1)\n",
        "\n",
        "# for i in range(10):\n",
        "\n",
        "#     plt_label   = label[i]\n",
        "#     im_vector   = list_image[:, i]\n",
        "#     im_matrix   = im_vector.reshape((size_row, size_col))\n",
        "\n",
        "#     plt.subplot(2, 5, i+1)\n",
        "#     plt.title(plt_label)\n",
        "#     plt.imshow(im_matrix, cmap='Greys', interpolation='None')\n",
        "\n",
        "#     frame   = plt.gca()\n",
        "#     frame.axes.get_xaxis().set_visible(False)\n",
        "#     frame.axes.get_yaxis().set_visible(False)\n",
        "\n",
        "# plt.show()"
      ],
      "execution_count": 0,
      "outputs": []
    },
    {
      "cell_type": "markdown",
      "metadata": {
        "id": "0YLJ2Q3wiwig",
        "colab_type": "text"
      },
      "source": [
        "#**2. Present the output of the neural network with random weights**"
      ]
    },
    {
      "cell_type": "markdown",
      "metadata": {
        "colab_type": "text",
        "id": "Y1zWPBS6FkmC"
      },
      "source": [
        "* consider a neural network with a fully connected layer using a logistic unit without a bias\n",
        "* assign random values from the normal distribution N(0,1)\\mathcal{N}(0, 1)N(0,1) with mean 0 and standard deviation 1 to the weights of the fully connected layer using a logistic unit without a bias\n",
        "* compute the forward propagation and take the average of the output values for the images of the same label\n",
        "* present the average values for each label in the increasing order of the label"
      ]
    },
    {
      "cell_type": "code",
      "metadata": {
        "colab_type": "code",
        "id": "fzrGMRLRFuL1",
        "colab": {}
      },
      "source": [
        "# # avg_label_vector = [] # 각 라벨별 벡터의 평균 리스트\n",
        "\n",
        "# # vectors = [] # 각 라벨별 벡터의 자릿수별 합 리스트.\n",
        "\n",
        "# # label_ele_num=[] # 각 라벨 별 요소 개수\n",
        "\n",
        "# # label=['0','1','2','3','4','5','6','7','8','9']\n",
        "\n",
        "# # list_image\n",
        "# # list_label\n",
        "\n",
        "# # label_vector[0][0] # label+label_ele_vector. 0번째 라벨 집합의 0번째 요소.\n",
        "\n",
        "# # print(label_vector[0][0][1]) # label_ele_vector. 0번째 라벨 집합의 0번째 요소의 벡터만\n",
        "\n",
        "# num_image=10000\n",
        "\n",
        "# all_z=[]\n",
        "\n",
        "# for i in range(10):\n",
        "#   all_z.append([])\n",
        "\n",
        "# np.random.seed(28*28)\n",
        "\n",
        "# mu,sigma = 0.0,1.0\n",
        "\n",
        "# rand_norm = np.random.normal(mu,sigma,size=28*28)\n",
        "\n",
        "# cnt=0\n",
        "\n",
        "# t=0\n",
        "\n",
        "# while(cnt<10):\n",
        "\n",
        "#   for i in range(label_ele_num[cnt]):\n",
        "\n",
        "#     z = np.empty((size_row * size_col, label_ele_num[cnt]), dtype=float)\n",
        "\n",
        "#     im_vector   = np.asfarray(label_vector[cnt][i][1])\n",
        "\n",
        "#     theta_x_input = rand_norm*im_vector\n",
        "\n",
        "#     y    = theta_x_input\n",
        "\n",
        "#     sigmoid = 1/(1+np.exp(-y))\n",
        "\n",
        "#     z[:,i]    = sigmoid\n",
        "\n",
        "#   all_z[cnt].append(z)\n",
        "\n",
        "#   cnt+=1\n",
        "\n",
        "# cnt=0\n",
        "\n",
        "# result=[]\n",
        "\n",
        "# for i in range(10):\n",
        "#   result.append([])\n",
        "\n",
        "# for cnt in range(10):\n",
        "#   result[cnt]=np.mean(all_z[cnt])\n",
        "\n",
        "# for i in range(10):\n",
        "#   print(result[i])"
      ],
      "execution_count": 0,
      "outputs": []
    },
    {
      "cell_type": "markdown",
      "metadata": {
        "colab_type": "text",
        "id": "NTix0_vxfM7J"
      },
      "source": [
        "# Result"
      ]
    },
    {
      "cell_type": "markdown",
      "metadata": {
        "colab_type": "text",
        "id": "ZEE6JgkFs90N"
      },
      "source": [
        "# 1. Plot the average image"
      ]
    }
  ]
}