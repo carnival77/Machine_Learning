{
  "nbformat": 4,
  "nbformat_minor": 0,
  "metadata": {
    "colab": {
      "name": "Assignment5.ipynb",
      "provenance": [],
      "collapsed_sections": [],
      "mount_file_id": "10FvwdJVH7_lRDIthMS2JXMV0do7wJfwJ",
      "authorship_tag": "ABX9TyPmK1I1iG5ECmCAodCQiGUI",
      "include_colab_link": true
    },
    "kernelspec": {
      "name": "python3",
      "display_name": "Python 3"
    }
  },
  "cells": [
    {
      "cell_type": "markdown",
      "metadata": {
        "id": "view-in-github",
        "colab_type": "text"
      },
      "source": [
        "<a href=\"https://colab.research.google.com/github/carnival77/Machine_Learning/blob/master/Assignment5.ipynb\" target=\"_parent\"><img src=\"https://colab.research.google.com/assets/colab-badge.svg\" alt=\"Open In Colab\"/></a>"
      ]
    },
    {
      "cell_type": "markdown",
      "metadata": {
        "id": "u9D_hw1xXEoL",
        "colab_type": "text"
      },
      "source": [
        "#**1. Plot the training data**"
      ]
    },
    {
      "cell_type": "markdown",
      "metadata": {
        "id": "ZCVzge5gXNTO",
        "colab_type": "text"
      },
      "source": [
        "\n",
        "\n",
        "*   plot the training data points (x,y)(x, y)(x,y) with their labels lll in colors (blue for label 0 and red for label 1)\n"
      ]
    },
    {
      "cell_type": "markdown",
      "metadata": {
        "id": "xvFQ3B1QFGpx",
        "colab_type": "text"
      },
      "source": [
        "1. Training Data\n",
        "\n",
        "*   load the training data file ('data.txt')\n",
        "\n",
        "*   each row {(x(i),y(i),l(i))}\\{ (x^{(i)}, y^{(i)}, l^{(i)}) \\}{(x(i),y(i),l(i))} of the data consists of a 2-dimensional point (x,y)(x, y)(x,y) with its label lll\n",
        "\n",
        "\n",
        "*   x,y∈Rx, y \\in \\mathbb{R}x,y∈R and l∈{0,1}l \\in \\{0, 1\\}l∈{0,1}\n",
        "\n",
        "\n"
      ]
    },
    {
      "cell_type": "code",
      "metadata": {
        "id": "PMrBtj-ZWleI",
        "colab_type": "code",
        "outputId": "a692fb60-c858-4e45-c928-727693a1d3ff",
        "colab": {
          "base_uri": "https://localhost:8080/",
          "height": 483
        }
      },
      "source": [
        "import numpy as np\n",
        "import matplotlib.pyplot as plt\n",
        "import csv\n",
        "\n",
        "data    = np.genfromtxt(\"/content/drive/My Drive/Colab Notebooks/assignment5/data.txt\", delimiter=',')\n",
        "\n",
        "x       = data[:, 0]\n",
        "y       = data[:, 1]\n",
        "label   = data[:, 2]\n",
        "\n",
        "x_label0    = x[label == 0]\n",
        "x_label1    = x[label == 1]\n",
        "\n",
        "y_label0    = y[label == 0]\n",
        "y_label1    = y[label == 1]\n",
        "\n",
        "plt.figure(figsize=(8, 8))\n",
        "plt.scatter(x_label0, y_label0, alpha=0.3, c='b')\n",
        "plt.scatter(x_label1, y_label1, alpha=0.3, c='r')\n",
        "plt.show()\n"
      ],
      "execution_count": 264,
      "outputs": [
        {
          "output_type": "display_data",
          "data": {
            "image/png": "[encoded data removed]",
            "text/plain": [
              "<Figure size 576x576 with 1 Axes>"
            ]
          },
          "metadata": {
            "tags": [],
            "needs_background": "light"
          }
        }
      ]
    },
    {
      "cell_type": "markdown",
      "metadata": {
        "id": "-hMXvFDkOeMk",
        "colab_type": "text"
      },
      "source": [
        "#**2. Plot the estimated parameters**"
      ]
    },
    {
      "cell_type": "markdown",
      "metadata": {
        "id": "ZLSIVEpfQVvn",
        "colab_type": "text"
      },
      "source": [
        "\n",
        "\n",
        "*   plot the estimated parameters (θ0,θ1,θ2) at every iteration of gradient descent until convergence\n",
        "*   the colors for the parameters (θ0,θ1,θ2) should be red, green, blue, respectively\n",
        "\n"
      ]
    },
    {
      "cell_type": "markdown",
      "metadata": {
        "id": "JynW0XjvQcyk",
        "colab_type": "text"
      },
      "source": [
        "2. Logistic regression\n",
        "\n"
      ]
    },
    {
      "cell_type": "markdown",
      "metadata": {
        "id": "I7W7eib1EY2R",
        "colab_type": "text"
      },
      "source": [
        "theta 초기값\n",
        "\n",
        " theta_0 : 2.0\n",
        "\n",
        " theta_1 : 4.0\n",
        " \n",
        " theta_2 : 6.0"
      ]
    },
    {
      "cell_type": "code",
      "metadata": {
        "id": "PZQTgq3fQdiC",
        "colab_type": "code",
        "colab": {}
      },
      "source": [
        "theta_0 = 2.0\n",
        "theta_1 = 4.0\n",
        "theta_2 = 6.0"
      ],
      "execution_count": 0,
      "outputs": []
    },
    {
      "cell_type": "markdown",
      "metadata": {
        "id": "jIb_7YdtE0X3",
        "colab_type": "text"
      },
      "source": [
        "z=θ0+θ1x+θ2yz where θ0,θ1,θ2∈R\n",
        "\n"
      ]
    },
    {
      "cell_type": "code",
      "metadata": {
        "id": "TezP2EA9Fd_2",
        "colab_type": "code",
        "colab": {}
      },
      "source": [
        "z = theta_0 + theta_1*x + theta_2 *y\n",
        "\n",
        "# print(z)"
      ],
      "execution_count": 0,
      "outputs": []
    },
    {
      "cell_type": "markdown",
      "metadata": {
        "id": "Y1zWPBS6FkmC",
        "colab_type": "text"
      },
      "source": [
        "sigmoid : σ(z)=1/(1+exp(−z))"
      ]
    },
    {
      "cell_type": "code",
      "metadata": {
        "id": "fzrGMRLRFuL1",
        "colab_type": "code",
        "colab": {}
      },
      "source": [
        "sigmoid = 1/(1+np.exp(-z))\n",
        "\n",
        "np.set_printoptions(precision=3)\n",
        "\n",
        "# print(np.exp(-z))\n",
        "# print(np.exp(-z)[1])\n",
        "# print(1+np.exp(-z))\n",
        "# print((1+np.exp(-z))[1])\n",
        "# print(sigmoid)"
      ],
      "execution_count": 0,
      "outputs": []
    },
    {
      "cell_type": "markdown",
      "metadata": {
        "colab_type": "text",
        "id": "xokmJjVKHM05"
      },
      "source": [
        "3. Objective Function\n",
        "\n",
        "OF = objective function\n",
        "J(θ0​,θ1​,θ2​)=m1​∑i=1m​(−l(i)log(σ(z(i)))−(1−l(i))log(1−σ(z(i))))"
      ]
    },
    {
      "cell_type": "markdown",
      "metadata": {
        "id": "3NJCnqz9HekD",
        "colab_type": "text"
      },
      "source": [
        "4. Gradient Descent\n",
        "\n",
        "gradient_theta_0 : \n",
        "\n",
        "θ0(t+1)​:=θ0(t)​−αm1​∑i=1m​(σ(z(i))−l(i))\n",
        "\n",
        "gradient_theta_1 :\n",
        "\n",
        "θ1(t+1)​:=θ1(t)​−αm1​∑i=1m​(σ(z(i))−l(i))x(i)\n",
        "\n",
        "gradient_theta_2 : \n",
        "\n",
        "θ2(t+1)​:=θ2(t)​−αm1​∑i=1m​(σ(z(i))−l(i))y(i)"
      ]
    },
    {
      "cell_type": "markdown",
      "metadata": {
        "colab_type": "text",
        "id": "HOuDOCkCHOzt"
      },
      "source": [
        "m = number of data\n",
        "\n",
        "steps = 5000 번의 학습 사이클. \n",
        "\n",
        "learning_rate = 0.0005"
      ]
    },
    {
      "cell_type": "code",
      "metadata": {
        "colab_type": "code",
        "id": "EB5HPpJOHOzu",
        "colab": {}
      },
      "source": [
        "m = len(x)\n",
        "steps = 5000\n",
        "learning_rate = 0.0005"
      ],
      "execution_count": 0,
      "outputs": []
    },
    {
      "cell_type": "code",
      "metadata": {
        "id": "y4cQm58YVDNr",
        "colab_type": "code",
        "colab": {
          "base_uri": "https://localhost:8080/",
          "height": 72
        },
        "outputId": "2ff42a70-9cb3-4c43-a3f8-0fc2666fcc6f"
      },
      "source": [
        "with np.errstate(divide='ignore'):\n",
        "    np.float64(1.0) / 0.0\n",
        "\n",
        "arr_theta_0=[]\n",
        "arr_theta_1=[]\n",
        "arr_theta_2=[]\n",
        "arr_OF=[]\n",
        "\n",
        "theta_0 = 2.0\n",
        "theta_1 = 4.0\n",
        "theta_2 = 6.0\n",
        "\n",
        "# print(label)\n",
        "\n",
        "for i in range(steps):\n",
        "  z = theta_0 + theta_1*x + theta_2 *y\n",
        "  sigmoid = 1/(1+np.exp(-z))\n",
        "  # print((-label * np.log(sigmoid)) - (1-label) * np.log(1-sigmoid))\n",
        "  # print((-label * np.log(sigmoid)) )\n",
        "  # print(np.log(sigmoid))\n",
        "  # print(- (1-label) * np.log(1-sigmoid))\n",
        "\n",
        "  OF = np.sum((-label * np.log(sigmoid)) - ((1-label) * np.log(1-sigmoid)))/(m)\n",
        "\n",
        "  gradient_theta_0 = np.sum(sigmoid - label)/m\n",
        "  gradient_theta_1 = np.sum((sigmoid - label) * x)/m\n",
        "  gradient_theta_2 = np.sum((sigmoid - label) * y)/m\n",
        "\n",
        "  arr_theta_0.append(theta_0)\n",
        "  arr_theta_1.append(theta_1)\n",
        "  arr_theta_2.append(theta_2)\n",
        "  arr_OF.append(OF)\n",
        "\n",
        "  # print(OF)\n",
        "  \n",
        "  theta_0 -= learning_rate*gradient_theta_0\n",
        "  theta_1 -= learning_rate*gradient_theta_1\n",
        "  theta_2 -= learning_rate*gradient_theta_2"
      ],
      "execution_count": 269,
      "outputs": [
        {
          "output_type": "stream",
          "text": [
            "/usr/local/lib/python3.6/dist-packages/ipykernel_launcher.py:23: RuntimeWarning: divide by zero encountered in log\n",
            "/usr/local/lib/python3.6/dist-packages/ipykernel_launcher.py:23: RuntimeWarning: invalid value encountered in multiply\n"
          ],
          "name": "stderr"
        }
      ]
    },
    {
      "cell_type": "code",
      "metadata": {
        "id": "r_XBmF3jJRdc",
        "colab_type": "code",
        "colab": {
          "base_uri": "https://localhost:8080/",
          "height": 158
        },
        "outputId": "ed605b7a-e9ff-4b52-81b9-c8052af7a040"
      },
      "source": [
        "\n",
        "test0=np.array(arr_theta_0,dtype=float)\n",
        "test1=np.array(arr_theta_1,dtype=float)\n",
        "test2=np.array(arr_theta_2,dtype=float)\n",
        "\n",
        "# print(test0)\n",
        "# print(test1)\n",
        "# print(test2)\n",
        "\n",
        "t=np.arange(0,5000,step=1)\n",
        "\n",
        "plt.figure(figsize=(25, 5))\n",
        "plt.xlabel('t')\n",
        "plt.ylabel('theta_i')\n",
        "plt.plot(t,test0,color=\"red\",label=\"theta_0\")\n",
        "plt.plot(t,test1,color=\"green\",label=\"theta_1\")\n",
        "plt.plot(t,test2,color=\"blue\",label=\"theta_2\")\n",
        "\n",
        "plt.legend()\n",
        "plt.show()"
      ],
      "execution_count": 270,
      "outputs": [
        {
          "output_type": "display_data",
          "data": {
            "image/png": "[encoded data removed]",
            "text/plain": [
              "<Figure size 1800x360 with 1 Axes>"
            ]
          },
          "metadata": {
            "tags": [],
            "needs_background": "light"
          }
        }
      ]
    }
  ]
}