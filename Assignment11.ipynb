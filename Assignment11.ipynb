{
  "nbformat": 4,
  "nbformat_minor": 0,
  "metadata": {
    "colab": {
      "name": "Assignment11_new (1) (1).ipynb",
      "provenance": [],
      "collapsed_sections": [],
      "include_colab_link": true
    },
    "kernelspec": {
      "display_name": "Python 3",
      "language": "python",
      "name": "python3"
    },
    "language_info": {
      "codemirror_mode": {
        "name": "ipython",
        "version": 3
      },
      "file_extension": ".py",
      "mimetype": "text/x-python",
      "name": "python",
      "nbconvert_exporter": "python",
      "pygments_lexer": "ipython3",
      "version": "3.8.2"
    },
    "accelerator": "GPU"
  },
  "cells": [
    {
      "cell_type": "markdown",
      "metadata": {
        "id": "view-in-github",
        "colab_type": "text"
      },
      "source": [
        "<a href=\"https://colab.research.google.com/github/carnival77/Machine_Learning/blob/master/Assignment11.ipynb\" target=\"_parent\"><img src=\"https://colab.research.google.com/assets/colab-badge.svg\" alt=\"Open In Colab\"/></a>"
      ]
    },
    {
      "cell_type": "markdown",
      "metadata": {
        "id": "RO9f7HuzsvQ9",
        "colab_type": "text"
      },
      "source": [
        "#**1. Input Data**"
      ]
    },
    {
      "cell_type": "markdown",
      "metadata": {
        "id": "xOqSLLhbsyte",
        "colab_type": "text"
      },
      "source": [
        "* load the data file ('mnist_test.csv')\n",
        "* each row of the data consists of the label and the image pixel values in a vector form\n",
        "* the label is one of the 10 digits from 0 to 9\n",
        "* the image represents one of the 10 digits from 0 to 9 in grey scale and its size is 28x28"
      ]
    },
    {
      "cell_type": "code",
      "metadata": {
        "id": "sWdB6Q5_MxOv",
        "colab_type": "code",
        "colab": {
          "base_uri": "https://localhost:8080/",
          "height": 54
        },
        "outputId": "07f8a473-b317-4426-cdd6-eeafd59c8edc"
      },
      "source": [
        "from google.colab import drive\n",
        "drive.mount('/content/drive')"
      ],
      "execution_count": null,
      "outputs": [
        {
          "output_type": "stream",
          "text": [
            "Drive already mounted at /content/drive; to attempt to forcibly remount, call drive.mount(\"/content/drive\", force_remount=True).\n"
          ],
          "name": "stdout"
        }
      ]
    },
    {
      "cell_type": "code",
      "metadata": {
        "id": "KgfGbWlmnxdS",
        "colab_type": "code",
        "colab": {}
      },
      "source": [
        "# import pycuda.autoinit \n",
        "# import pycuda.driver as drv"
      ],
      "execution_count": null,
      "outputs": []
    },
    {
      "cell_type": "code",
      "metadata": {
        "id": "2xV9Upfc_uNv",
        "colab_type": "code",
        "colab": {
          "base_uri": "https://localhost:8080/",
          "height": 87
        },
        "outputId": "f9517e21-5065-48b3-9e6b-880abed7767e"
      },
      "source": [
        "import numpy as np\n",
        "# from numba import jit\n",
        "import re\n",
        "import nltk\n",
        "from sklearn.datasets import load_files\n",
        "nltk.download('stopwords')\n",
        "nltk.download('wordnet')\n",
        "import pickle\n",
        "from nltk.corpus import stopwords\n",
        "from nltk.stem import WordNetLemmatizer\n",
        "from sklearn.feature_extraction.text import CountVectorizer\n",
        "from sklearn.feature_extraction.text import TfidfTransformer\n",
        "from sklearn.model_selection import train_test_split\n",
        "# import numba as nb\n",
        "\n",
        "\n",
        "review_data = load_files(r\"/content/drive/My Drive/colab/movie_review\")\n",
        "X, y = review_data.data, review_data.target\n",
        "\n",
        "documents = []\n",
        "\n",
        "stemmer = WordNetLemmatizer()\n",
        "\n",
        "for sen in range(0, len(X)):\n",
        "    # Remove all the special characters\n",
        "    document = re.sub(r'\\W', ' ', str(X[sen]))\n",
        "    \n",
        "    # remove all single characters\n",
        "    document = re.sub(r'\\s+[a-zA-Z]\\s+', ' ', document)\n",
        "    \n",
        "    # Remove single characters from the start\n",
        "    document = re.sub(r'\\^[a-zA-Z]\\s+', ' ', document) \n",
        "    \n",
        "    # Substituting multiple spaces with single space\n",
        "    document = re.sub(r'\\s+', ' ', document, flags=re.I)\n",
        "    \n",
        "    # Removing prefixed 'b'\n",
        "    document = re.sub(r'^b\\s+', '', document)\n",
        "    \n",
        "    # Converting to Lowercase\n",
        "    document = document.lower()\n",
        "    \n",
        "    # Lemmatization\n",
        "    document = document.split()\n",
        "    document = [stemmer.lemmatize(word) for word in document]\n",
        "    document = ' '.join(document)\n",
        "    \n",
        "    documents.append(document)\n",
        "\n",
        "vectorizer = CountVectorizer(max_features=2000, min_df=5, max_df=0.7, stop_words=stopwords.words('english'))\n",
        "X = vectorizer.fit_transform(documents).toarray()\n",
        "\n",
        "tfidfconverter = TfidfTransformer()\n",
        "X = tfidfconverter.fit_transform(X).toarray()\n",
        "\n",
        "X_train, X_test, y_train, y_test = train_test_split(X, y, test_size=0.15, shuffle=False)"
      ],
      "execution_count": null,
      "outputs": [
        {
          "output_type": "stream",
          "text": [
            "[nltk_data] Downloading package stopwords to /root/nltk_data...\n",
            "[nltk_data]   Package stopwords is already up-to-date!\n",
            "[nltk_data] Downloading package wordnet to /root/nltk_data...\n",
            "[nltk_data]   Package wordnet is already up-to-date!\n"
          ],
          "name": "stdout"
        }
      ]
    },
    {
      "cell_type": "code",
      "metadata": {
        "id": "0EDxozzsKu2f",
        "colab_type": "code",
        "colab": {}
      },
      "source": [
        "# classifier = train_classifier(X_train, y_train)\n",
        "# y_pred_test = classifier.predict(X_test)\n",
        "# y_pred_train = classifier.predict(X_train)"
      ],
      "execution_count": null,
      "outputs": []
    },
    {
      "cell_type": "code",
      "metadata": {
        "id": "g8tj3_MFoVQr",
        "colab_type": "code",
        "colab": {}
      },
      "source": [
        "# def normalize(data):\n",
        "\n",
        "#     data_normalized = (data - min(data)) / (max(data) - min(data))\n",
        "\n",
        "#     return(data_normalized)"
      ],
      "execution_count": null,
      "outputs": []
    },
    {
      "cell_type": "code",
      "metadata": {
        "id": "jQxcX5-NpBH3",
        "colab_type": "code",
        "colab": {}
      },
      "source": [
        "def normalize(data_list):\n",
        "\n",
        "  new_data_list = []\n",
        "\n",
        "  normalized_data=0\n",
        "\n",
        "  for data in data_list:\n",
        "    normalized_data = (data - min(data)) / (max(data) - min(data))\n",
        "    # data_list[data[0]] = normalized_data\n",
        "    new_data_list.append(normalized_data)\n",
        "\n",
        "  result = np.array(new_data_list)\n",
        "\n",
        "  return(result)"
      ],
      "execution_count": null,
      "outputs": []
    },
    {
      "cell_type": "code",
      "metadata": {
        "id": "ybPjSg_xuE0P",
        "colab_type": "code",
        "colab": {}
      },
      "source": [
        "def standerdaze(data_list):\n",
        "\n",
        "  new_data_list = []\n",
        "\n",
        "  standerdazed_data=0\n",
        "\n",
        "  for data in data_list:\n",
        "    standerdazed_data = (data - np.mean(data)) / np.std(data)\n",
        "    new_data_list.append(standerdazed_data)\n",
        "\n",
        "  result = np.array(new_data_list)\n",
        "\n",
        "  return(result)"
      ],
      "execution_count": null,
      "outputs": []
    },
    {
      "cell_type": "code",
      "metadata": {
        "colab_type": "code",
        "id": "7CcoXuiO5sxd",
        "colab": {}
      },
      "source": [
        "X_train = np.array(X_train) # 1400 x 1500. inputs x\n",
        "\n",
        "X_test = np.array(X_test) # 600 x 1500. inputs x"
      ],
      "execution_count": null,
      "outputs": []
    },
    {
      "cell_type": "code",
      "metadata": {
        "id": "EN_AbyMGc3yk",
        "colab_type": "code",
        "colab": {}
      },
      "source": [
        "training_num = len(X_train) # 1400\n",
        "testing_num = len(X_test)   # 600"
      ],
      "execution_count": null,
      "outputs": []
    },
    {
      "cell_type": "code",
      "metadata": {
        "id": "9A0n4WKaoYCP",
        "colab_type": "code",
        "colab": {}
      },
      "source": [
        "normalized_X_train = normalize(X_train)\n",
        "normalized_X_test = normalize(X_test)"
      ],
      "execution_count": null,
      "outputs": []
    },
    {
      "cell_type": "code",
      "metadata": {
        "id": "OpJkesmevtTZ",
        "colab_type": "code",
        "colab": {}
      },
      "source": [
        "# print(sum(normalized_X_train[0]))\n",
        "# print(sum(X_train[0]))\n",
        "# print(sum(normalized_X_train[1]))\n",
        "# print(sum(X_train[1]))"
      ],
      "execution_count": null,
      "outputs": []
    },
    {
      "cell_type": "code",
      "metadata": {
        "id": "AbhM0q-0umIF",
        "colab_type": "code",
        "colab": {}
      },
      "source": [
        "standerdazed_X_train = standerdaze(normalized_X_train)\n",
        "standerdazed_X_test = standerdaze(normalized_X_test)"
      ],
      "execution_count": null,
      "outputs": []
    },
    {
      "cell_type": "code",
      "metadata": {
        "id": "U5lQQxJyux2n",
        "colab_type": "code",
        "colab": {}
      },
      "source": [
        "# print(sum(standerdazed_X_train[0]))\n",
        "# print(sum(X_train[0]))\n",
        "# print(np.std(X_train[0]))\n",
        "# print(np.mean(X_train[0]))\n",
        "# print(np.std(standerdazed_X_train[0]))\n",
        "# print(np.mean(standerdazed_X_train[0]))"
      ],
      "execution_count": null,
      "outputs": []
    },
    {
      "cell_type": "code",
      "metadata": {
        "id": "NUFJjp4W7FZe",
        "colab_type": "code",
        "colab": {}
      },
      "source": [
        "mu,sigma = 0.0,1.0\n",
        "\n",
        "def sigmoid(x):\n",
        "    return 1 / (1 +np.exp(-x))\n",
        "\n",
        "class Layer:\n",
        "  def __init__(self,n_neurons,n_inputs,n):\n",
        "    np.random.seed(n)\n",
        "    self.weights = np.random.normal(mu,sigma,(n_neurons ,n_inputs))\n",
        "    self.biases = np.zeros(n_neurons)\n",
        "  def forward(self,inputs, weights):\n",
        "    self.output = sigmoid(np.dot(weights,inputs) + self.biases)  \n",
        "    return self.output"
      ],
      "execution_count": null,
      "outputs": []
    },
    {
      "cell_type": "markdown",
      "metadata": {
        "id": "tSMqlR6wSqi5",
        "colab_type": "text"
      },
      "source": [
        "x = inputs ( T_list_training_image )\n",
        "\n",
        "y = layer1_output\n",
        "\n",
        "z = layer2_output\n",
        "\n",
        "h = layer3_output"
      ]
    },
    {
      "cell_type": "code",
      "metadata": {
        "id": "DI19fsrW3Zda",
        "colab_type": "code",
        "colab": {}
      },
      "source": [
        "a=2000 # 1_input\n",
        "b=400  # 2_input\n",
        "c=100  # 3_input\n",
        "d=10  # 4_input"
      ],
      "execution_count": null,
      "outputs": []
    },
    {
      "cell_type": "code",
      "metadata": {
        "id": "NhI8RCmuHGPf",
        "colab_type": "code",
        "colab": {}
      },
      "source": [
        "layer1 = Layer(b,a,1) # neuron , inputs\n",
        "layer2 = Layer(c,b,2)\n",
        "layer3 = Layer(d,c,3)\n",
        "layer4 = Layer(1,d,4)"
      ],
      "execution_count": null,
      "outputs": []
    },
    {
      "cell_type": "code",
      "metadata": {
        "id": "8b7Do795HMI7",
        "colab_type": "code",
        "colab": {}
      },
      "source": [
        "u = layer1.weights # b x a\n",
        "\n",
        "v = layer2.weights # c x b\n",
        "\n",
        "w = layer3.weights # d x c\n",
        "\n",
        "t = layer4.weights # 1 x d"
      ],
      "execution_count": null,
      "outputs": []
    },
    {
      "cell_type": "code",
      "metadata": {
        "id": "KoE4tioEUG4-",
        "colab_type": "code",
        "colab": {}
      },
      "source": [
        "def get_theta_arr(u,v,w,t):\n",
        "  # theta_arr=get_arr(a*b*c*d)\n",
        "  # num=0\n",
        "  theta_arr=[]\n",
        "  \n",
        "  for i in range(b):\n",
        "    for j in range(a):\n",
        "      theta_arr.append(u[i][j])\n",
        "      # num = num + 1\n",
        "  \n",
        "  for i in range(c):\n",
        "    for j in range(b):\n",
        "      theta_arr.append(v[i][j])\n",
        "      # num = num + 1\n",
        "\n",
        "  for i in range(d):\n",
        "    for j in range(c):\n",
        "      theta_arr.append(w[i][j])\n",
        "      # num = num + 1\n",
        "\n",
        "  for i in range(1):\n",
        "    for j in range(d):\n",
        "      theta_arr.append(t[i][j])\n",
        "      # num = num + 1\n",
        "\n",
        "  temp = np.array(theta_arr)\n",
        "\n",
        "  theta_arr = temp\n",
        "  \n",
        "  return theta_arr"
      ],
      "execution_count": null,
      "outputs": []
    },
    {
      "cell_type": "code",
      "metadata": {
        "id": "P1J_4fzooIvI",
        "colab_type": "code",
        "colab": {}
      },
      "source": [
        "# @nb.jit(nopython=True, parallel=True)\n",
        "# def Objective_function(get_OF,true_label,h,my_lambda,theta_arr,m,n):\n",
        "\n",
        "#   OF = get_OF+ (np.sum(np.dot(-true_label, np.log(h))\n",
        "#   - (np.dot((1-true_label),np.log(1-h))))/m \n",
        "#   + my_lambda/(2*n)*np.sum(theta_arr**2))\n",
        "\n",
        "#   return OF"
      ],
      "execution_count": null,
      "outputs": []
    },
    {
      "cell_type": "code",
      "metadata": {
        "id": "sH7raBV8oIiU",
        "colab_type": "code",
        "colab": {}
      },
      "source": [
        "def get_arr(m):\n",
        "  arr = [0 for i in range(m)]\n",
        "  return arr "
      ],
      "execution_count": null,
      "outputs": []
    },
    {
      "cell_type": "markdown",
      "metadata": {
        "id": "gbto4a-NVu6z",
        "colab_type": "text"
      },
      "source": [
        "training"
      ]
    },
    {
      "cell_type": "code",
      "metadata": {
        "id": "8JJK5DprzSxk",
        "colab_type": "code",
        "colab": {}
      },
      "source": [
        "learning_rate = 0.00001\n",
        "my_lambda = 0.00000001\n",
        "epoch= 23"
      ],
      "execution_count": null,
      "outputs": []
    },
    {
      "cell_type": "code",
      "metadata": {
        "id": "csEu7KKXzbn8",
        "colab_type": "code",
        "colab": {}
      },
      "source": [
        "training_arr_OF = get_arr(epoch)\n",
        "training_accuracy_rate_arr = get_arr(epoch)\n",
        "testing_arr_OF = get_arr(epoch)\n",
        "testing_accuracy_rate_arr = get_arr(epoch)\n",
        "y_pred_train = get_arr(len(y_train))\n",
        "y_pred_test = get_arr(len(y_test))\n",
        "theta_arr=get_arr(a*b + b*c + c*d + d*1)"
      ],
      "execution_count": null,
      "outputs": []
    },
    {
      "cell_type": "code",
      "metadata": {
        "id": "fkbA7MGQBFFE",
        "colab_type": "code",
        "colab": {}
      },
      "source": [
        "cnt=0\n",
        "\n",
        "num=0\n",
        "\n",
        "y_pred=0\n",
        "\n",
        "for e in range(epoch):\n",
        "\n",
        "  training_OF = 0\n",
        "\n",
        "  training_accuracy_count=0\n",
        "\n",
        "  testing_OF = 0\n",
        "\n",
        "  testing_accuracy_count=0\n",
        "\n",
        "  for i in range(training_num):\n",
        "\n",
        "    theta_arr = get_theta_arr(u, v, w, t)\n",
        "\n",
        "    # theta_arr=get_arr(a*b + b*c + c*d + d*1)\n",
        "    # num=0\n",
        "\n",
        "    # for i in range(b):\n",
        "    #   for j in range(a):\n",
        "    #     theta_arr[num]=(u[i][j])\n",
        "    #     num = num + 1\n",
        "    \n",
        "    # for i in range(c):\n",
        "    #   for j in range(b):\n",
        "    #     theta_arr[num]=(v[i][j])\n",
        "    #     num = num + 1\n",
        "\n",
        "    # for i in range(d):\n",
        "    #   for j in range(c):\n",
        "    #     theta_arr[num]=(w[i][j])\n",
        "    #     num = num + 1\n",
        "\n",
        "    # for i in range(1):\n",
        "    #   for j in range(d):\n",
        "    #     theta_arr[num]=(t[i][j])\n",
        "    #     num = num + 1\n",
        "\n",
        "    # temp = np.array(theta_arr)\n",
        "\n",
        "    # theta_arr = temp\n",
        "\n",
        "    n = len(theta_arr)\n",
        "\n",
        "    x = standerdazed_X_train[i] # 1500 x 1\n",
        "\n",
        "    y = layer1.forward(x,u) # 400 x 1\n",
        "\n",
        "    z = layer2.forward(y,v)  # 100 x 1\n",
        "\n",
        "    q = layer3.forward(z,w)  # 20 x 1\n",
        "\n",
        "    h = layer4.forward(q,t)  # 1 x 1\n",
        "\n",
        "    if h>=0.5:\n",
        "      y_pred = 1\n",
        "    else:\n",
        "      y_pred = 0\n",
        "\n",
        "    if e == epoch-1:\n",
        "      y_pred_train[i]=y_pred\n",
        "    \n",
        "    training_true_label = y_train[i]\n",
        "\n",
        "    if training_true_label == y_pred:\n",
        "      training_accuracy_count = training_accuracy_count + 1\n",
        "\n",
        "    training_OF = training_OF+ (np.sum(np.dot(-training_true_label, np.log(h))\n",
        "    - (np.dot((1-training_true_label),np.log(1-h))))/training_num \n",
        "    + my_lambda/(2*n)*np.sum(theta_arr**2))\n",
        "\n",
        "    t_q = q.reshape(1,10)\n",
        "\n",
        "    part1 = np.dot(h-training_true_label,t_q) # 1 x d\n",
        "\n",
        "    t = t - learning_rate * (part1 + my_lambda * t / n)\n",
        "    # w = w - learning_rate * part1\n",
        "    # d x 1\n",
        "\n",
        "    t_z = z.reshape(1,100)\n",
        "\n",
        "    t_t = np.array(t).T # d x 1\n",
        "\n",
        "    t_q = q.reshape(10,1)\n",
        "\n",
        "    t_part1 = part1.reshape(1,10)\n",
        "\n",
        "    part2 = np.dot(np.dot(t_t,t_part1), np.dot((1 - t_q),t_z )) # d x c\n",
        "\n",
        "    w = w - learning_rate * (part2 + my_lambda * w / n)\n",
        "    # v = v - learning_rate * part2\n",
        "    # v -= learning_rate * label_filter * (1 - h) * z * w * (1 - z) * y\n",
        "    # c x d\n",
        "\n",
        "    # t_part2 = np.array(part2).T # 196 x 49\n",
        "\n",
        "    t_y = y.reshape(1,400)\n",
        "\n",
        "    t_w = np.array(w).T # b x c\n",
        "\n",
        "    # part3 = np.dot(np.dot(t_part2,v),y * (1 - y))\n",
        "    # part3 = np.dot(np.dot(t_v,part2),(1 - y)) # 196 x 1\n",
        "\n",
        "    t_1_z = (1-z).reshape(100,1)\n",
        "\n",
        "    part3 = np.dot(np.dot(t_w,part2),np.dot(t_1_z,t_y)) # b x c\n",
        "\n",
        "    v = v - learning_rate * (part3 + my_lambda * v / n)\n",
        "    # u = u - learning_rate * (part4 + my_lambda * u / n)\n",
        "    # u = u - learning_rate * part4\n",
        "    # b x c\n",
        "\n",
        "    t_x = x.reshape(1,2000)\n",
        "\n",
        "    t_v = np.array(v).T # c x b\n",
        "\n",
        "    t_1_y = (1-y).reshape(400,1)\n",
        "\n",
        "    part4 = np.dot(np.dot(t_v,part3),np.dot(t_1_y,t_x)) # a x b\n",
        "\n",
        "    u = u - learning_rate * (part4 + my_lambda * u / n)\n",
        "    # a x b\n",
        "\n",
        "  for i in range(testing_num):\n",
        "\n",
        "    x = standerdazed_X_test[i] # 1500 x 1\n",
        "\n",
        "    y = layer1.forward(x,u) # 400 x 1\n",
        "\n",
        "    z = layer2.forward(y,v)  # 100 x 1\n",
        "\n",
        "    q = layer3.forward(z,w)  # 20 x 1\n",
        "\n",
        "    h = layer4.forward(q,t)  # 1 x 1\n",
        "\n",
        "    if h>=0.5:\n",
        "      y_pred = 1\n",
        "    else:\n",
        "      y_pred = 0\n",
        "\n",
        "    if e == epoch-1:\n",
        "      y_pred_test[i]=y_pred\n",
        "    \n",
        "    testing_true_label = y_test[i]\n",
        "\n",
        "    if testing_true_label == y_pred:\n",
        "      testing_accuracy_count = testing_accuracy_count + 1\n",
        "\n",
        "    testing_OF = testing_OF+ (np.sum(np.dot(-testing_true_label, np.log(h))\n",
        "    - (np.dot((1-testing_true_label),np.log(1-h))))/testing_num \n",
        "    + my_lambda/(2*n)*np.sum(theta_arr**2))\n",
        "\n",
        "  training_accuracy_rate_arr[cnt]=(training_accuracy_count/(training_num)*100)\n",
        "  training_arr_OF[cnt] = training_OF\n",
        "\n",
        "  testing_accuracy_rate_arr[cnt]=(testing_accuracy_count/(testing_num)*100)\n",
        "  testing_arr_OF[cnt] = (testing_OF)\n",
        "\n",
        "  print(training_arr_OF[cnt])\n",
        "  print(training_accuracy_rate_arr[cnt])\n",
        "  print(testing_arr_OF[cnt])\n",
        "  print(testing_accuracy_rate_arr[cnt])\n",
        "  print()\n",
        "\n",
        "  cnt = cnt+1\n",
        "\n",
        "# return [training_arr_OF,u,v,w,t,training_accuracy_count,training_accuracy_rate_arr,\n",
        "#         testing_arr_OF,testing_accuracy_count,testing_accuracy_rate_arr]"
      ],
      "execution_count": null,
      "outputs": []
    },
    {
      "cell_type": "markdown",
      "metadata": {
        "id": "81NpGf8FVtiK",
        "colab_type": "text"
      },
      "source": [
        "test"
      ]
    },
    {
      "cell_type": "markdown",
      "metadata": {
        "id": "DCAa8NCyEX0i",
        "colab_type": "text"
      },
      "source": [
        "Training loss curve"
      ]
    },
    {
      "cell_type": "code",
      "metadata": {
        "id": "2_CRsud_Xuu1",
        "colab_type": "code",
        "colab": {}
      },
      "source": [
        "del testing_arr_OF[-1]\n",
        "del training_arr_OF[-1]"
      ],
      "execution_count": null,
      "outputs": []
    },
    {
      "cell_type": "code",
      "metadata": {
        "id": "MJu2OpbW2pS3",
        "colab_type": "code",
        "colab": {}
      },
      "source": [
        "import matplotlib.pyplot as plt"
      ],
      "execution_count": null,
      "outputs": []
    },
    {
      "cell_type": "code",
      "metadata": {
        "id": "nCuyTUA1Czcl",
        "colab_type": "code",
        "colab": {
          "base_uri": "https://localhost:8080/",
          "height": 189
        },
        "outputId": "813e7bbe-5350-40bf-d674-2abe01807816"
      },
      "source": [
        "fig = plt.figure()\n",
        "# ax= fig.add_subplot(1,1,1)\n",
        "plt.figure(figsize=(18, 2))\n",
        "\n",
        "OF_training_loss_curve=np.array(training_arr_OF,dtype=float)\n",
        "OF_testing_loss_curve=np.array(testing_arr_OF,dtype=float)\n",
        "\n",
        "t1=np.arange(0,len(training_arr_OF),step=1)\n",
        "t2=np.arange(0,len(testing_arr_OF),step=1)\n",
        "\n",
        "plt.xlabel('t')\n",
        "plt.ylabel('J (error)')\n",
        "\n",
        "plt.plot(t1,OF_training_loss_curve,color=\"blue\",label=\"training loss\",linewidth = 3)\n",
        "plt.plot(t2,OF_testing_loss_curve,color=\"red\",label=\"testing loss\",linewidth = 3)\n",
        "\n",
        "plt.legend()\n",
        "plt.show()"
      ],
      "execution_count": null,
      "outputs": [
        {
          "output_type": "display_data",
          "data": {
            "text/plain": [
              "<Figure size 432x288 with 0 Axes>"
            ]
          },
          "metadata": {
            "tags": []
          }
        },
        {
          "output_type": "display_data",
          "data": {
            "image/png": "[encoded data removed]",
            "text/plain": [
              "<Figure size 1296x144 with 1 Axes>"
            ]
          },
          "metadata": {
            "tags": [],
            "needs_background": "light"
          }
        }
      ]
    },
    {
      "cell_type": "markdown",
      "metadata": {
        "id": "9n_vTnQjB1Vb",
        "colab_type": "text"
      },
      "source": [
        "accuracy curve"
      ]
    },
    {
      "cell_type": "code",
      "metadata": {
        "id": "cvS4pAVzB2nl",
        "colab_type": "code",
        "colab": {
          "base_uri": "https://localhost:8080/",
          "height": 279
        },
        "outputId": "8a51960a-f69a-47af-f087-698fb01a43e5"
      },
      "source": [
        "training_accuracy_curve=np.array(training_accuracy_rate_arr,dtype=float)\n",
        "testing_accuracy_curve=np.array(testing_accuracy_rate_arr,dtype=float)\n",
        "\n",
        "t1=np.arange(0,len(testing_arr_OF),step=1)\n",
        "t2=np.arange(0,len(testing_arr_OF),step=1)\n",
        "\n",
        "plt.xlabel('t')\n",
        "plt.ylabel('accuracy curve')\n",
        "\n",
        "plt.plot(t1,training_accuracy_curve,color=\"blue\",label=\"training accuracy\")\n",
        "plt.plot(t2,testing_accuracy_curve,color=\"red\",label=\"testing accuracy\")\n",
        "\n",
        "plt.legend()\n",
        "plt.show()"
      ],
      "execution_count": null,
      "outputs": [
        {
          "output_type": "display_data",
          "data": {
            "image/png": "[encoded data removed]",
            "text/plain": [
              "<Figure size 432x288 with 1 Axes>"
            ]
          },
          "metadata": {
            "tags": [],
            "needs_background": "light"
          }
        }
      ]
    },
    {
      "cell_type": "markdown",
      "metadata": {
        "colab_type": "text",
        "id": "-hMXvFDkOeMk"
      },
      "source": [
        "# **Result**\n",
        "# **1. Plot the loss curve**"
      ]
    },
    {
      "cell_type": "code",
      "metadata": {
        "colab_type": "code",
        "id": "PZQTgq3fQdiC",
        "colab": {
          "base_uri": "https://localhost:8080/",
          "height": 189
        },
        "outputId": "749b83fb-bb14-4c15-d594-9b0902a9a18f"
      },
      "source": [
        "fig = plt.figure()\n",
        "plt.figure(figsize=(18, 2))\n",
        "\n",
        "plt.xlabel('t')\n",
        "plt.ylabel('J (error)')\n",
        "\n",
        "plt.plot(t1,OF_training_loss_curve,color=\"blue\",label=\"training loss\",linewidth = 3)\n",
        "plt.plot(t2,OF_testing_loss_curve,color=\"red\",label=\"testing loss\",linewidth = 3)\n",
        "\n",
        "plt.legend()\n",
        "plt.show()"
      ],
      "execution_count": null,
      "outputs": [
        {
          "output_type": "display_data",
          "data": {
            "text/plain": [
              "<Figure size 432x288 with 0 Axes>"
            ]
          },
          "metadata": {
            "tags": []
          }
        },
        {
          "output_type": "display_data",
          "data": {
            "image/png": "[encoded data removed]",
            "text/plain": [
              "<Figure size 1296x144 with 1 Axes>"
            ]
          },
          "metadata": {
            "tags": [],
            "needs_background": "light"
          }
        }
      ]
    },
    {
      "cell_type": "markdown",
      "metadata": {
        "id": "0YLJ2Q3wiwig",
        "colab_type": "text"
      },
      "source": [
        "# **2. Plot the accuracy curve**"
      ]
    },
    {
      "cell_type": "code",
      "metadata": {
        "colab_type": "code",
        "id": "fzrGMRLRFuL1",
        "colab": {
          "base_uri": "https://localhost:8080/",
          "height": 279
        },
        "outputId": "e6af45e5-bfb5-45b8-ba88-6a71fad3036d"
      },
      "source": [
        "training_accuracy_curve=np.array(training_accuracy_rate_arr,dtype=float)\n",
        "testing_accuracy_curve=np.array(testing_accuracy_rate_arr,dtype=float)\n",
        "\n",
        "t1=np.arange(0,len(testing_arr_OF),step=1)\n",
        "t2=np.arange(0,len(testing_arr_OF),step=1)\n",
        "\n",
        "plt.xlabel('t')\n",
        "plt.ylabel('accuracy curve')\n",
        "\n",
        "plt.plot(t1,training_accuracy_curve,color=\"blue\",label=\"training accuracy\")\n",
        "plt.plot(t2,testing_accuracy_curve,color=\"red\",label=\"testing accuracy\")\n",
        "\n",
        "plt.legend()\n",
        "plt.show()"
      ],
      "execution_count": null,
      "outputs": [
        {
          "output_type": "display_data",
          "data": {
            "image/png": "[encoded data removed]",
            "text/plain": [
              "<Figure size 432x288 with 1 Axes>"
            ]
          },
          "metadata": {
            "tags": [],
            "needs_background": "light"
          }
        }
      ]
    },
    {
      "cell_type": "markdown",
      "metadata": {
        "colab_type": "text",
        "id": "ZEE6JgkFs90N"
      },
      "source": [
        "# **3. Plot the quantitative results**"
      ]
    },
    {
      "cell_type": "code",
      "metadata": {
        "id": "zegjeACdOWnH",
        "colab_type": "code",
        "colab": {
          "base_uri": "https://localhost:8080/",
          "height": 439
        },
        "outputId": "9ffbfd21-580b-4083-afab-33d224fcaaca"
      },
      "source": [
        "from sklearn.metrics import classification_report, confusion_matrix, accuracy_score\n",
        "\n",
        "print(confusion_matrix(y_train,y_pred_train))\n",
        "print(classification_report(y_train,y_pred_train))\n",
        "print(accuracy_score(y_train, y_pred_train))\n",
        "\n",
        "print(confusion_matrix(y_test,y_pred_test))\n",
        "print(classification_report(y_test,y_pred_test))\n",
        "print(accuracy_score(y_test, y_pred_test))"
      ],
      "execution_count": null,
      "outputs": [
        {
          "output_type": "stream",
          "text": [
            "[[778  64]\n",
            " [ 46 812]]\n",
            "              precision    recall  f1-score   support\n",
            "\n",
            "           0       0.94      0.92      0.93       842\n",
            "           1       0.93      0.95      0.94       858\n",
            "\n",
            "    accuracy                           0.94      1700\n",
            "   macro avg       0.94      0.94      0.94      1700\n",
            "weighted avg       0.94      0.94      0.94      1700\n",
            "\n",
            "0.9352941176470588\n",
            "[[158   0]\n",
            " [ 52  90]]\n",
            "              precision    recall  f1-score   support\n",
            "\n",
            "           0       0.75      1.00      0.86       158\n",
            "           1       1.00      0.63      0.78       142\n",
            "\n",
            "    accuracy                           0.83       300\n",
            "   macro avg       0.88      0.82      0.82       300\n",
            "weighted avg       0.87      0.83      0.82       300\n",
            "\n",
            "0.8266666666666667\n"
          ],
          "name": "stdout"
        }
      ]
    },
    {
      "cell_type": "markdown",
      "metadata": {
        "id": "ODJSWVJZPWzW",
        "colab_type": "text"
      },
      "source": [
        "# 4. Testing accuracy"
      ]
    },
    {
      "cell_type": "code",
      "metadata": {
        "id": "RnEjCcWqPaKg",
        "colab_type": "code",
        "colab": {
          "base_uri": "https://localhost:8080/",
          "height": 34
        },
        "outputId": "3b809f8f-72ec-4a4c-c99e-eec248d1c2a8"
      },
      "source": [
        "print(\"testing accuracy : \",testing_accuracy_rate_arr[-1],\"%\")"
      ],
      "execution_count": null,
      "outputs": [
        {
          "output_type": "stream",
          "text": [
            "testing accuracy :  82.66666666666667 %\n"
          ],
          "name": "stdout"
        }
      ]
    }
  ]
}