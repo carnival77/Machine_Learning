{
  "nbformat": 4,
  "nbformat_minor": 0,
  "metadata": {
    "colab": {
      "name": "Assignment3.ipynb",
      "provenance": [],
      "collapsed_sections": [],
      "mount_file_id": "1DNhTuTlxmhQdCvpia1ScjI6-G3HPqq4c",
      "authorship_tag": "ABX9TyPJp+DpngJnMwVVJbmJ3AYy",
      "include_colab_link": true
    },
    "kernelspec": {
      "name": "python3",
      "display_name": "Python 3"
    }
  },
  "cells": [
    {
      "cell_type": "markdown",
      "metadata": {
        "id": "view-in-github",
        "colab_type": "text"
      },
      "source": [
        "<a href=\"https://colab.research.google.com/github/carnival77/Machine_Learning/blob/master/Assignment3.ipynb\" target=\"_parent\"><img src=\"https://colab.research.google.com/assets/colab-badge.svg\" alt=\"Open In Colab\"/></a>"
      ]
    },
    {
      "cell_type": "markdown",
      "metadata": {
        "id": "19iOYzgVvJ59",
        "colab_type": "text"
      },
      "source": [
        "#**1. Input points**"
      ]
    },
    {
      "cell_type": "markdown",
      "metadata": {
        "id": "ecE4XXnQv1lm",
        "colab_type": "text"
      },
      "source": [
        "\n",
        "\n",
        "*  plot a set of points {(x(i),y(i))} that are loaded from 'data.csv' file (in black color)\n",
        "\n"
      ]
    },
    {
      "cell_type": "code",
      "metadata": {
        "id": "paTpFl0aaqn_",
        "colab_type": "code",
        "outputId": "569aa9f9-447d-4fb8-c0ac-04177db0bb4c",
        "colab": {
          "base_uri": "https://localhost:8080/",
          "height": 483
        }
      },
      "source": [
        "import numpy as np\n",
        "import matplotlib.pyplot as plt\n",
        "import csv\n",
        "\n",
        "path = \"/content/drive/My Drive/Colab Notebooks/data.csv\"\n",
        "data = np.genfromtxt(path,delimiter=',')\n",
        "\n",
        "xi_data = data[:,0]\n",
        "yi_data = data[:,1]\n",
        "\n",
        "plt.figure(figsize=(8,8))\n",
        "plt.scatter(xi_data,yi_data,color=\"black\")\n",
        "plt.show()"
      ],
      "execution_count": 1,
      "outputs": [
        {
          "output_type": "display_data",
          "data": {
            "image/png": "[encoded data removed]",
            "text/plain": [
              "<Figure size 576x576 with 1 Axes>"
            ]
          },
          "metadata": {
            "tags": []
          }
        }
      ]
    },
    {
      "cell_type": "markdown",
      "metadata": {
        "id": "N5GBW5CgvJJL",
        "colab_type": "text"
      },
      "source": [
        "#**2.Linear regression result**"
      ]
    },
    {
      "cell_type": "markdown",
      "metadata": {
        "id": "9kW5ibcLv0Bb",
        "colab_type": "text"
      },
      "source": [
        "\n",
        "*   plot a set of points {(x(i),y(i))} that are loaded from 'data.csv' file (in black color)\n",
        "\n"
      ]
    },
    {
      "cell_type": "code",
      "metadata": {
        "id": "5htSY3HVvmvw",
        "colab_type": "code",
        "colab": {}
      },
      "source": [
        "xi_data = data[:,0]\n",
        "yi_data = data[:,1]"
      ],
      "execution_count": 0,
      "outputs": []
    },
    {
      "cell_type": "markdown",
      "metadata": {
        "id": "2o6ZnBxawJ6O",
        "colab_type": "text"
      },
      "source": [
        "* plot a straight line obtained by the optimal linear regression based on the given set of points (in red color)\n"
      ]
    },
    {
      "cell_type": "markdown",
      "metadata": {
        "id": "d9xos03V40aa",
        "colab_type": "text"
      },
      "source": [
        "1. getting optimal solution by linear regression\n",
        "\n",
        "(1) Linear Model\n",
        "\n",
        "W (theta_1) = 1.0\n",
        "\n",
        "b (theta_0) = 0.0\n",
        "\n",
        "hypothesis = W*x + b = hθ​(x)=θ0​+θ1​x"
      ]
    },
    {
      "cell_type": "code",
      "metadata": {
        "id": "HYkag9046PFY",
        "colab_type": "code",
        "colab": {}
      },
      "source": [
        "W = 1.0\n",
        "b = 0.0"
      ],
      "execution_count": 0,
      "outputs": []
    },
    {
      "cell_type": "markdown",
      "metadata": {
        "id": "nbVBW4F25vNJ",
        "colab_type": "text"
      },
      "source": [
        "n_data = number of data\n",
        "\n",
        "steps = 1000 번의 학습 사이클. \n",
        "\n",
        "learning_rate = 0.03"
      ]
    },
    {
      "cell_type": "code",
      "metadata": {
        "id": "9j1NK0OHvmz0",
        "colab_type": "code",
        "colab": {}
      },
      "source": [
        "n_data = len(xi_data)\n",
        "steps = 5000\n",
        "learning_rate = 0.01"
      ],
      "execution_count": 0,
      "outputs": []
    },
    {
      "cell_type": "markdown",
      "metadata": {
        "id": "Llcd6tzN6qLh",
        "colab_type": "text"
      },
      "source": [
        "(2) Objective Function\n",
        "\n",
        "OF = objective function\n",
        " = J(θ)=2m1​∑i=1m​(hθ​(x(i))−y(i))2\n",
        "\n",
        "(3) Gradient Descent\n",
        "\n",
        "gradient_W : \n",
        "\n",
        "θ1(t+1)​:=θ1(t)​−αm1​∑i=1m​(hθ​(x(i))−y(i))x(i)\n",
        "\n",
        "gradient_b :\n",
        "\n",
        "θ0(t+1)​:=θ0(t)​−αm1​∑i=1m​(hθ​(x(i))−y(i))\n"
      ]
    },
    {
      "cell_type": "code",
      "metadata": {
        "id": "Sgj-eN3z6fbf",
        "colab_type": "code",
        "colab": {}
      },
      "source": [
        "W_array = []\n",
        "b_array=[]\n",
        "OF_array=[]\n",
        "\n",
        "for i in range(steps):\n",
        "  hypothesis = W*xi_data + b\n",
        "  OF = np.sum((hypothesis - yi_data)**2)/(2*n_data)\n",
        "  gradient_W = np.sum((hypothesis - yi_data)*xi_data)/n_data\n",
        "  gradient_b = np.sum((hypothesis - yi_data))/n_data\n",
        "  \n",
        "  W -= learning_rate*gradient_W\n",
        "  b -= learning_rate*gradient_b\n",
        "\n",
        "  W_array.append(W)\n",
        "  b_array.append(b)\n",
        "  OF_array.append(OF)\n",
        "\n",
        "\n",
        "  # if i % 100 == 0:\n",
        "  #       print('step ({:10d}/{:10d}) OF: {:10f}, W: {:10f}, b:{:10f}'.format(i, steps, OF, W, b))\n",
        "  #       print()\n"
      ],
      "execution_count": 0,
      "outputs": []
    },
    {
      "cell_type": "code",
      "metadata": {
        "id": "xwDQEWau60-O",
        "colab_type": "code",
        "outputId": "c1c29cce-0b31-4b20-beaa-0b3b25a5f420",
        "colab": {
          "base_uri": "https://localhost:8080/",
          "height": 265
        }
      },
      "source": [
        "y = [W*x + b for x in xi_data]\n",
        "plt.plot(xi_data,y,color=\"red\",label=\"linear regression result\")\n",
        "plt.legend()\n",
        "plt.show()"
      ],
      "execution_count": 6,
      "outputs": [
        {
          "output_type": "display_data",
          "data": {
            "image/png": "[encoded data removed]",
            "text/plain": [
              "<Figure size 432x288 with 1 Axes>"
            ]
          },
          "metadata": {
            "tags": []
          }
        }
      ]
    },
    {
      "cell_type": "markdown",
      "metadata": {
        "id": "0Vt-NEKvAG5U",
        "colab_type": "text"
      },
      "source": [
        "\n",
        "\n",
        "*   the estimated straight line (linear function) is superimposed on the set of points\n",
        "\n"
      ]
    },
    {
      "cell_type": "code",
      "metadata": {
        "id": "bk3zQxKN6fT6",
        "colab_type": "code",
        "outputId": "6eee0d53-08da-440c-c220-81a4cd861b96",
        "colab": {
          "base_uri": "https://localhost:8080/",
          "height": 483
        }
      },
      "source": [
        "plt.figure(figsize=(8,8))\n",
        "plt.scatter(xi_data,yi_data,color=\"black\")\n",
        "\n",
        "y = [W*x + b for x in xi_data]\n",
        "plt.plot(xi_data,y,color=\"red\",label=\"linear regression result\")\n",
        "plt.legend()\n",
        "plt.show()"
      ],
      "execution_count": 7,
      "outputs": [
        {
          "output_type": "display_data",
          "data": {
            "image/png": "[encoded data removed]",
            "text/plain": [
              "<Figure size 576x576 with 1 Axes>"
            ]
          },
          "metadata": {
            "tags": []
          }
        }
      ]
    },
    {
      "cell_type": "markdown",
      "metadata": {
        "id": "SCl95-JqRnco",
        "colab_type": "text"
      },
      "source": [
        "#**3. Plot the energy surface**"
      ]
    },
    {
      "cell_type": "markdown",
      "metadata": {
        "id": "u4Tfjw32RtHR",
        "colab_type": "text"
      },
      "source": [
        "\n",
        "\n",
        "*   plot the energy surface (θ0,θ1,J(θ0,θ1)) with the range of variables θ0=[−30:0.1:30] and θ1=[−30:0.1:30]\n",
        "\n"
      ]
    },
    {
      "cell_type": "code",
      "metadata": {
        "id": "hS3RRGRm3Gbr",
        "colab_type": "code",
        "colab": {}
      },
      "source": [
        "# 대안. 다만 실제 xi_data 를 고려하지 못하고, np.arange 로 랜덤으로 설정해야 함.\n",
        "\n",
        "# from matplotlib import cm\n",
        "# from mpl_toolkits.mplot3d import Axes3D\n",
        "\n",
        "# print(W,b)\n",
        "\n",
        "# # X =  np.arange(-100, 100, 1)\n",
        "# Y = W*X + b\n",
        "\n",
        "# print()\n",
        "\n",
        "# # beta_0 = beta_1 = np.arange(-100, 100, 1)\n",
        "\n",
        "# plt_beta_0, plt_beta_1 = np.meshgrid(beta_0, beta_1)\n",
        "\n",
        "# def calculate_mse(beta_0, beta_1):\n",
        "#     y_hat = beta_0 + beta_1 * X\n",
        "#     error = y_hat - y\n",
        "#     sse = np.sum(error ** 2)\n",
        "#     return ((1 / (2 * len(X))) * sse)\n",
        "\n",
        "# calculate_mse_v = np.vectorize(calculate_mse)\n",
        "# mse = calculate_mse_v(plt_beta_0, plt_beta_1).reshape(len(plt_beta_0), len(plt_beta_1))\n",
        "\n",
        "# fig = plt.figure(figsize=(10, 5))\n",
        "# ax = fig.gca(projection='3d')\n",
        "\n",
        "# surf = ax.plot_surface(plt_beta_0,\n",
        "#                        plt_beta_1,\n",
        "#                        mse,\n",
        "#                        cmap=cm.jet,\n",
        "#                        linewidth=0,\n",
        "#                        antialiased=False)\n",
        "# ax.set_xlabel(r'$\\hat{\\beta_0}$')\n",
        "# ax.set_ylabel(r'$\\hat{\\beta_1}$')\n",
        "# ax.set_zlabel(r'MSE')\n",
        "# fig.colorbar(surf, shrink=0.5, aspect=5)\n",
        "# plt.show()"
      ],
      "execution_count": 0,
      "outputs": []
    },
    {
      "cell_type": "code",
      "metadata": {
        "id": "_6KoxqUyn4FY",
        "colab_type": "code",
        "outputId": "7e7e7a08-8e4a-45a4-cc43-68ad1f1b8da0",
        "colab": {
          "base_uri": "https://localhost:8080/",
          "height": 259
        }
      },
      "source": [
        "from mpl_toolkits.mplot3d import Axes3D\n",
        "from matplotlib import cm\n",
        "import collections\n",
        "\n",
        "W=np.arange(-30,30,0.1)\n",
        "b=np.arange(-30,30,0.1)\n",
        "\n",
        "X, Y= np.meshgrid(W, b)\n",
        "\n",
        "W_10_60 = W.reshape(10,60,order='C')\n",
        "xi_data_20_10 = xi_data.reshape(20,10,order='C')\n",
        "\n",
        "hypothesis = np.dot(xi_data_20_10,W_10_60) + b\n",
        "# Z= np.sum((hypothesis - yi_data)**2)/(2*n_data)                             # points in the z axis\n",
        " \n",
        "# fig= plt.figure()\n",
        "# ax= fig.gca(projection='3d')             # 3d axes instance\n",
        "# surf= ax.plot_surface(X, Y, Z,          # data values (2D Arryas)\n",
        "#                        rstride=2,                   # row step size\n",
        "#                        cstride=2,                  # column step size\n",
        "#                        cmap=cm.RdPu,       # colour map\n",
        "#                        linewidth=1,               # wireframe line width\n",
        "#                        antialiased=True)\n",
        " \n",
        "# ax.set_title('Hyperbolic Paraboloid')       # title\n",
        "# ax.set_xlabel('x label')                            # x label\n",
        "# ax.set_ylabel('y label')                            # y label\n",
        "# ax.set_zlabel('z label')                            # z label\n",
        "# fig.colorbar(surf, shrink=0.5, aspect=5)  # colour bar\n",
        " \n",
        "# ax.view_init(elev=30,azim=70)               # elevation & angle\n",
        "# ax.dist=8                                                  # distance from the plot\n",
        "# plt.show()"
      ],
      "execution_count": 10,
      "outputs": [
        {
          "output_type": "error",
          "ename": "ValueError",
          "evalue": "ignored",
          "traceback": [
            "\u001b[0;31m---------------------------------------------------------------------------\u001b[0m",
            "\u001b[0;31mValueError\u001b[0m                                Traceback (most recent call last)",
            "\u001b[0;32m<ipython-input-10-0064006196ed>\u001b[0m in \u001b[0;36m<module>\u001b[0;34m()\u001b[0m\n\u001b[1;32m     11\u001b[0m \u001b[0mxi_data_20_10\u001b[0m \u001b[0;34m=\u001b[0m \u001b[0mxi_data\u001b[0m\u001b[0;34m.\u001b[0m\u001b[0mreshape\u001b[0m\u001b[0;34m(\u001b[0m\u001b[0;36m20\u001b[0m\u001b[0;34m,\u001b[0m\u001b[0;36m10\u001b[0m\u001b[0;34m,\u001b[0m\u001b[0morder\u001b[0m\u001b[0;34m=\u001b[0m\u001b[0;34m'C'\u001b[0m\u001b[0;34m)\u001b[0m\u001b[0;34m\u001b[0m\u001b[0;34m\u001b[0m\u001b[0m\n\u001b[1;32m     12\u001b[0m \u001b[0;34m\u001b[0m\u001b[0m\n\u001b[0;32m---> 13\u001b[0;31m \u001b[0mhypothesis\u001b[0m \u001b[0;34m=\u001b[0m \u001b[0mnp\u001b[0m\u001b[0;34m.\u001b[0m\u001b[0mdot\u001b[0m\u001b[0;34m(\u001b[0m\u001b[0mxi_data_20_10\u001b[0m\u001b[0;34m,\u001b[0m\u001b[0mW_10_60\u001b[0m\u001b[0;34m)\u001b[0m \u001b[0;34m+\u001b[0m \u001b[0mb\u001b[0m\u001b[0;34m\u001b[0m\u001b[0;34m\u001b[0m\u001b[0m\n\u001b[0m\u001b[1;32m     14\u001b[0m \u001b[0;31m# Z= np.sum((hypothesis - yi_data)**2)/(2*n_data)                             # points in the z axis\u001b[0m\u001b[0;34m\u001b[0m\u001b[0;34m\u001b[0m\u001b[0;34m\u001b[0m\u001b[0m\n\u001b[1;32m     15\u001b[0m \u001b[0;34m\u001b[0m\u001b[0m\n",
            "\u001b[0;31mValueError\u001b[0m: operands could not be broadcast together with shapes (20,60) (600,) "
          ]
        }
      ]
    },
    {
      "cell_type": "code",
      "metadata": {
        "id": "1yg3lnEURvg_",
        "colab_type": "code",
        "colab": {}
      },
      "source": [
        "# from mpl_toolkits.mplot3d import Axes3D\n",
        "# from matplotlib import cm\n",
        "# import collections\n",
        "\n",
        "# def error(m, b, points):\n",
        "#     totalError = 0\n",
        "#     for i in range(0, len(points)):\n",
        "#         totalError += (points[i].y - (m * points[i].x + b)) ** 2\n",
        "#     return totalError / float(len(points))\n",
        "\n",
        "# x=xi_data\n",
        "# y=yi_data\n",
        "# Point = collections.namedtuple('Point', ['x', 'y'])\n",
        "\n",
        "# print(Point)\n",
        "\n",
        "# m = b = np.arange(-30,30,0.1)\n",
        "# # noise = np.random.random(x.size)\n",
        "# # points = [Point(xp, m*xp+b+err) for xp,err in zip(x, noise)]\n",
        "# # points = [Point(xp, m*xp+b) for xp in x]\n",
        "\n",
        "# fig = plt.figure()\n",
        "# ax = fig.add_subplot(111, projection='3d')\n",
        "\n",
        "# # ms = np.linspace(2.0, 4.0, 10)\n",
        "# # bs = np.linspace(1.5, 2.5, 10)\n",
        "\n",
        "# ms = np.arange(-30, 30, 0.1)\n",
        "# bs = np.arange(-30, 30, 0.1)\n",
        "\n",
        "# M, B = np.meshgrid(ms, bs)\n",
        "# print(\"test1\")\n",
        "# zs = np.array([error(mp, bp, points) \n",
        "#                for mp, bp in zip(np.ravel(M), np.ravel(B))])\n",
        "# print(\"test2\")\n",
        "# Z = zs.reshape(M.shape)\n",
        "\n",
        "# ax.plot_surface(M, B, Z, rstride=1, cstride=1, color='b', alpha=0.5)\n",
        "\n",
        "# ax.set_xlabel('m')\n",
        "# ax.set_ylabel('b')\n",
        "# ax.set_zlabel('error')\n",
        "\n",
        "# plt.show()"
      ],
      "execution_count": 0,
      "outputs": []
    }
  ]
}