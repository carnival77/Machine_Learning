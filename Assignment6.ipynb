{
  "nbformat": 4,
  "nbformat_minor": 0,
  "metadata": {
    "colab": {
      "name": "Assignment6.ipynb",
      "provenance": [],
      "collapsed_sections": [],
      "mount_file_id": "1V6pQlmu9VEQel8L75J8S0dDodnL8U-Zr",
      "authorship_tag": "ABX9TyN1lU7jci8l2Y9GE6g/WNs1",
      "include_colab_link": true
    },
    "kernelspec": {
      "name": "python3",
      "display_name": "Python 3"
    }
  },
  "cells": [
    {
      "cell_type": "markdown",
      "metadata": {
        "id": "view-in-github",
        "colab_type": "text"
      },
      "source": [
        "<a href=\"https://colab.research.google.com/github/carnival77/Machine_Learning/blob/master/Assignment6.ipynb\" target=\"_parent\"><img src=\"https://colab.research.google.com/assets/colab-badge.svg\" alt=\"Open In Colab\"/></a>"
      ]
    },
    {
      "cell_type": "markdown",
      "metadata": {
        "id": "u9D_hw1xXEoL",
        "colab_type": "text"
      },
      "source": [
        "#**1. Plot the training data**"
      ]
    },
    {
      "cell_type": "markdown",
      "metadata": {
        "id": "ZCVzge5gXNTO",
        "colab_type": "text"
      },
      "source": [
        "\n",
        "\n",
        "*   plot the training data points (x,y) with their labels lll in colors (blue for label 0 and red for label 1)\n"
      ]
    },
    {
      "cell_type": "markdown",
      "metadata": {
        "id": "xvFQ3B1QFGpx",
        "colab_type": "text"
      },
      "source": [
        "1. Training Data\n",
        "\n",
        "*   load the training data file ('data-nonlinear.txt')\n",
        "\n",
        "*   each row {(x(i),y(i),l(i))} of the data consists of a 2-dimensional point (x,y) with its label l\n",
        "\n",
        "\n",
        "*   x,y∈R and l∈{0,1}\n",
        "\n",
        "\n"
      ]
    },
    {
      "cell_type": "code",
      "metadata": {
        "id": "PMrBtj-ZWleI",
        "colab_type": "code",
        "outputId": "a5926d53-be6f-400b-f5bc-2759f2d4d203",
        "colab": {
          "base_uri": "https://localhost:8080/",
          "height": 559
        }
      },
      "source": [
        "import numpy as np\n",
        "import matplotlib.pyplot as plt\n",
        "import csv\n",
        "\n",
        "data    = np.genfromtxt(\"/content/drive/My Drive/Colab Notebooks/assignment6/data-nonlinear.txt\", delimiter=',')\n",
        "\n",
        "x       = data[:, 0]\n",
        "y       = data[:, 1]\n",
        "label   = data[:, 2]\n",
        "\n",
        "x_label0    = x[label == 0]\n",
        "x_label1    = x[label == 1]\n",
        "\n",
        "y_label0    = y[label == 0]\n",
        "y_label1    = y[label == 1]\n",
        "\n",
        "plt.figure(figsize=(8, 8))\n",
        "plt.scatter(x_label0, y_label0, c='b')\n",
        "plt.scatter(x_label1, y_label1,c='r')\n",
        "plt.tight_layout()\n",
        "plt.gca().set_aspect('equal', adjustable='box')\n",
        "plt.show()\n"
      ],
      "execution_count": 5,
      "outputs": [
        {
          "output_type": "display_data",
          "data": {
            "image/png": "[encoded data removed]",
            "text/plain": [
              "<Figure size 576x576 with 1 Axes>"
            ]
          },
          "metadata": {
            "tags": [],
            "needs_background": "light"
          }
        }
      ]
    },
    {
      "cell_type": "markdown",
      "metadata": {
        "id": "-hMXvFDkOeMk",
        "colab_type": "text"
      },
      "source": [
        "#**2.Write down the high dimensional function g(x,y;θ)**"
      ]
    },
    {
      "cell_type": "markdown",
      "metadata": {
        "id": "ZLSIVEpfQVvn",
        "colab_type": "text"
      },
      "source": [
        "\n",
        "\n",
        "*   write down the equation for the non-linear function g(x,y;θ) used for the classifier in LaTeX format\n",
        "\n"
      ]
    },
    {
      "cell_type": "markdown",
      "metadata": {
        "id": "JynW0XjvQcyk",
        "colab_type": "text"
      },
      "source": [
        "2. Logistic regression\n",
        "\n"
      ]
    },
    {
      "cell_type": "markdown",
      "metadata": {
        "id": "I7W7eib1EY2R",
        "colab_type": "text"
      },
      "source": [
        "theta 초기값\n",
        "\n",
        " theta_0 : 2.0\n",
        "\n",
        " theta_1 : 4.0\n",
        " \n",
        " theta_2 : 6.0"
      ]
    },
    {
      "cell_type": "code",
      "metadata": {
        "id": "PZQTgq3fQdiC",
        "colab_type": "code",
        "colab": {}
      },
      "source": [
        "theta_0 = 2.0\n",
        "theta_1 = 4.0\n",
        "theta_2 = 6.0"
      ],
      "execution_count": 0,
      "outputs": []
    },
    {
      "cell_type": "markdown",
      "metadata": {
        "id": "jIb_7YdtE0X3",
        "colab_type": "text"
      },
      "source": [
        "z=θ0+θ1x+θ2yz where θ0,θ1,θ2∈R\n",
        "\n"
      ]
    },
    {
      "cell_type": "code",
      "metadata": {
        "id": "TezP2EA9Fd_2",
        "colab_type": "code",
        "colab": {
          "base_uri": "https://localhost:8080/",
          "height": 169
        },
        "outputId": "e54b5a09-e6ea-4dca-a310-05b7ac7deedd"
      },
      "source": [
        "z1 = theta_0 + theta_1*x + theta_2 *y"
      ],
      "execution_count": 3,
      "outputs": [
        {
          "output_type": "error",
          "ename": "NameError",
          "evalue": "ignored",
          "traceback": [
            "\u001b[0;31m---------------------------------------------------------------------------\u001b[0m",
            "\u001b[0;31mNameError\u001b[0m                                 Traceback (most recent call last)",
            "\u001b[0;32m<ipython-input-3-11ee9191f65e>\u001b[0m in \u001b[0;36m<module>\u001b[0;34m()\u001b[0m\n\u001b[0;32m----> 1\u001b[0;31m \u001b[0mz1\u001b[0m \u001b[0;34m=\u001b[0m \u001b[0mtheta_0\u001b[0m \u001b[0;34m+\u001b[0m \u001b[0mtheta_1\u001b[0m\u001b[0;34m*\u001b[0m\u001b[0mx\u001b[0m \u001b[0;34m+\u001b[0m \u001b[0mtheta_2\u001b[0m \u001b[0;34m*\u001b[0m\u001b[0my\u001b[0m\u001b[0;34m\u001b[0m\u001b[0;34m\u001b[0m\u001b[0m\n\u001b[0m",
            "\u001b[0;31mNameError\u001b[0m: name 'x' is not defined"
          ]
        }
      ]
    },
    {
      "cell_type": "markdown",
      "metadata": {
        "id": "Y1zWPBS6FkmC",
        "colab_type": "text"
      },
      "source": [
        "sigmoid : σ(z)=1/(1+exp(−z))"
      ]
    },
    {
      "cell_type": "code",
      "metadata": {
        "id": "fzrGMRLRFuL1",
        "colab_type": "code",
        "colab": {}
      },
      "source": [
        "sigmoid1 = 1/(1+np.exp(-z1))\n",
        "\n",
        "np.float64(sigmoid1)"
      ],
      "execution_count": 0,
      "outputs": []
    },
    {
      "cell_type": "markdown",
      "metadata": {
        "colab_type": "text",
        "id": "xokmJjVKHM05"
      },
      "source": [
        "3. Objective Function\n",
        "\n",
        "OF = objective function\n",
        "J(θ0​,θ1​,θ2​)=m1​∑i=1m​(−l(i)log(σ(z(i)))−(1−l(i))log(1−σ(z(i))))"
      ]
    },
    {
      "cell_type": "markdown",
      "metadata": {
        "id": "3NJCnqz9HekD",
        "colab_type": "text"
      },
      "source": [
        "4. Gradient Descent\n",
        "\n",
        "gradient_theta_0 : \n",
        "\n",
        "θ0(t+1)​:=θ0(t)​−αm1​∑i=1m​(σ(z(i))−l(i))\n",
        "\n",
        "gradient_theta_1 :\n",
        "\n",
        "θ1(t+1)​:=θ1(t)​−αm1​∑i=1m​(σ(z(i))−l(i))x(i)\n",
        "\n",
        "gradient_theta_2 : \n",
        "\n",
        "θ2(t+1)​:=θ2(t)​−αm1​∑i=1m​(σ(z(i))−l(i))y(i)"
      ]
    },
    {
      "cell_type": "markdown",
      "metadata": {
        "colab_type": "text",
        "id": "HOuDOCkCHOzt"
      },
      "source": [
        "m = number of data\n",
        "\n",
        "steps = 5000 번의 학습 사이클. \n",
        "\n",
        "learning_rate = 0.0005"
      ]
    },
    {
      "cell_type": "code",
      "metadata": {
        "colab_type": "code",
        "id": "EB5HPpJOHOzu",
        "colab": {}
      },
      "source": [
        "m = len(x)\n",
        "steps = 5000\n",
        "learning_rate = 0.0001"
      ],
      "execution_count": 0,
      "outputs": []
    },
    {
      "cell_type": "code",
      "metadata": {
        "id": "y4cQm58YVDNr",
        "colab_type": "code",
        "colab": {}
      },
      "source": [
        "arr_theta_0=[]\n",
        "arr_theta_1=[]\n",
        "arr_theta_2=[]\n",
        "arr_OF=[]\n",
        "\n",
        "for i in range(steps):\n",
        "  z2 = theta_0 + theta_1*x + theta_2 *y\n",
        "  sigmoid2 = 1/(1+np.exp(-z2))\n",
        "\n",
        "  OF = np.sum((-label * np.log10(sigmoid2)) - ((1-label) * np.log10(1-sigmoid2)))/(m)\n",
        "\n",
        "  gradient_theta_0 = np.sum(sigmoid2 - label)/m\n",
        "  gradient_theta_1 = np.sum((sigmoid2 - label) * x)/m\n",
        "  gradient_theta_2 = np.sum((sigmoid2 - label) * y)/m\n",
        "\n",
        "  arr_theta_0.append(theta_0)\n",
        "  arr_theta_1.append(theta_1)\n",
        "  arr_theta_2.append(theta_2)\n",
        "  arr_OF.append(OF)\n",
        "  \n",
        "  theta_0 -= learning_rate*gradient_theta_0\n",
        "  theta_1 -= learning_rate*gradient_theta_1\n",
        "  theta_2 -= learning_rate*gradient_theta_2"
      ],
      "execution_count": 0,
      "outputs": []
    },
    {
      "cell_type": "code",
      "metadata": {
        "id": "r_XBmF3jJRdc",
        "colab_type": "code",
        "colab": {}
      },
      "source": [
        "\n",
        "test0=np.array(arr_theta_0,dtype=float)\n",
        "test1=np.array(arr_theta_1,dtype=float)\n",
        "test2=np.array(arr_theta_2,dtype=float)\n",
        "\n",
        "t=np.arange(0,5000,step=1)\n",
        "\n",
        "plt.figure(figsize=(25, 15))\n",
        "plt.xlabel('t')\n",
        "plt.ylabel('theta_i')\n",
        "plt.plot(t,test0,color=\"red\",label=\"theta_0\")\n",
        "plt.plot(t,test1,color=\"green\",label=\"theta_1\")\n",
        "plt.plot(t,test2,color=\"blue\",label=\"theta_2\")\n",
        "\n",
        "plt.legend()\n",
        "plt.show()"
      ],
      "execution_count": 0,
      "outputs": []
    },
    {
      "cell_type": "markdown",
      "metadata": {
        "id": "EHLgPdXYruD0",
        "colab_type": "text"
      },
      "source": [
        "#**3. Plot the training error**"
      ]
    },
    {
      "cell_type": "markdown",
      "metadata": {
        "id": "_VLnmOmsrydE",
        "colab_type": "text"
      },
      "source": [
        "\n",
        "\n",
        "*   plot the training error J(θ0,θ1,θ2) at every iteration of gradient descent until convergence (in blue color)\n",
        "\n"
      ]
    },
    {
      "cell_type": "code",
      "metadata": {
        "id": "bREsyqOXr2Kp",
        "colab_type": "code",
        "colab": {}
      },
      "source": [
        "test5=np.array(arr_OF,dtype=float)\n",
        "\n",
        "t=np.arange(0,500,step=0.1)\n",
        "\n",
        "plt.xlabel('t')\n",
        "plt.ylabel('J (training error)')\n",
        "\n",
        "plt.plot(t,test5,color=\"blue\",label=\"J (training error)\")\n",
        "\n",
        "plt.legend()\n",
        "plt.show()"
      ],
      "execution_count": 0,
      "outputs": []
    },
    {
      "cell_type": "markdown",
      "metadata": {
        "id": "4seasXg2sh-x",
        "colab_type": "text"
      },
      "source": [
        "#**4. Plot the obtained classifier**"
      ]
    },
    {
      "cell_type": "markdown",
      "metadata": {
        "id": "y4XsQq9Qsmu2",
        "colab_type": "text"
      },
      "source": [
        "\n",
        "\n",
        "*   plot the classifier σ(z) where z=θ0+θ1x+θ2y with x=[30:0.5:100]x and y=[30:0.5:100]\n",
        "\n",
        "*   [a:t:b]denotes a range of values from a to b with a stepsize t\n",
        "\n",
        "*   use a colormap where blue is used for 0, red is used for 1, their weighted combination for a value between 0 and 1\n",
        "\n",
        "*   plot the training data points (x,y) with their labels l in colors (blue for label 0 and red for label 1) superimposed on the classifier"
      ]
    },
    {
      "cell_type": "code",
      "metadata": {
        "id": "oAi1WM_9uLgJ",
        "colab_type": "code",
        "colab": {}
      },
      "source": [
        "import matplotlib as mpl\n",
        "import matplotlib.colors as colors\n",
        "\n",
        "x_axis =y_axis= np.arange(30,100,step=0.5)\n",
        "\n",
        "X,Y = np.meshgrid(x_axis,y_axis)\n",
        "\n",
        "z3 = theta_0 + theta_1*X + theta_2 *Y\n",
        "\n",
        "sigmoid3 = 1/(1+np.exp(-z3))\n",
        "\n",
        "fig, ax = plt.subplots(1)\n",
        "\n",
        "ax.imshow(sigmoid3,aspect='auto',origin='lower',cmap=\"bwr_r\") \n",
        "\n",
        "fig.set_size_inches(6,7)\n",
        "\n",
        "plt.xlabel('x')\n",
        "plt.ylabel('y')\n",
        "\n",
        "plt.scatter(x_label0, y_label0,label=\"l=0\", c='b')\n",
        "plt.scatter(x_label1, y_label1,label=\"l=1\", c='r')\n",
        "\n",
        "plt.legend()\n",
        "plt.show()"
      ],
      "execution_count": 0,
      "outputs": []
    }
  ]
}