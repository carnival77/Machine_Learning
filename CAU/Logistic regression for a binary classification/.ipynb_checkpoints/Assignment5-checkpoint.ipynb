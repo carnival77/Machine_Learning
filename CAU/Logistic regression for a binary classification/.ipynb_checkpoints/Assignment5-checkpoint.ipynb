{
 "cells": [
  {
   "cell_type": "markdown",
   "metadata": {
    "colab_type": "text",
    "id": "u9D_hw1xXEoL"
   },
   "source": [
    "#**1. Plot the training data**"
   ]
  },
  {
   "cell_type": "markdown",
   "metadata": {
    "colab_type": "text",
    "id": "ZCVzge5gXNTO"
   },
   "source": [
    "\n",
    "\n",
    "*   plot the training data points (x,y)(x, y)(x,y) with their labels lll in colors (blue for label 0 and red for label 1)\n"
   ]
  },
  {
   "cell_type": "markdown",
   "metadata": {
    "colab_type": "text",
    "id": "xvFQ3B1QFGpx"
   },
   "source": [
    "1. Training Data\n",
    "\n",
    "*   load the training data file ('data.txt')\n",
    "\n",
    "*   each row {(x(i),y(i),l(i))}\\{ (x^{(i)}, y^{(i)}, l^{(i)}) \\}{(x(i),y(i),l(i))} of the data consists of a 2-dimensional point (x,y)(x, y)(x,y) with its label lll\n",
    "\n",
    "\n",
    "*   x,y∈Rx, y \\in \\mathbb{R}x,y∈R and l∈{0,1}l \\in \\{0, 1\\}l∈{0,1}\n",
    "\n",
    "\n"
   ]
  },
  {
   "cell_type": "code",
   "execution_count": 504,
   "metadata": {
    "colab": {
     "base_uri": "https://localhost:8080/",
     "height": 483
    },
    "colab_type": "code",
    "executionInfo": {
     "elapsed": 1085,
     "status": "ok",
     "timestamp": 1587457241325,
     "user": {
      "displayName": "신동민",
      "photoUrl": "",
      "userId": "16407036952311297664"
     },
     "user_tz": -540
    },
    "id": "PMrBtj-ZWleI",
    "outputId": "f1d34cbd-3973-4f71-fd95-e00ca16a8529"
   },
   "outputs": [
    {
     "data": {
      "image/png": "[encoded data removed]",
      "text/plain": [
       "<Figure size 576x576 with 1 Axes>"
      ]
     },
     "metadata": {
      "needs_background": "light",
      "tags": []
     },
     "output_type": "display_data"
    }
   ],
   "source": [
    "import numpy as np\n",
    "import matplotlib.pyplot as plt\n",
    "import csv\n",
    "\n",
    "data    = np.genfromtxt(\"/content/drive/My Drive/Colab Notebooks/assignment5/data.txt\", delimiter=',')\n",
    "\n",
    "x       = data[:, 0]\n",
    "y       = data[:, 1]\n",
    "label   = data[:, 2]\n",
    "\n",
    "x_label0    = x[label == 0]\n",
    "x_label1    = x[label == 1]\n",
    "\n",
    "y_label0    = y[label == 0]\n",
    "y_label1    = y[label == 1]\n",
    "\n",
    "plt.figure(figsize=(8, 8))\n",
    "plt.scatter(x_label0, y_label0, c='b')\n",
    "plt.scatter(x_label1, y_label1,c='r')\n",
    "plt.show()\n"
   ]
  },
  {
   "cell_type": "markdown",
   "metadata": {
    "colab_type": "text",
    "id": "-hMXvFDkOeMk"
   },
   "source": [
    "#**2. Plot the estimated parameters**"
   ]
  },
  {
   "cell_type": "markdown",
   "metadata": {
    "colab_type": "text",
    "id": "ZLSIVEpfQVvn"
   },
   "source": [
    "\n",
    "\n",
    "*   plot the estimated parameters (θ0,θ1,θ2) at every iteration of gradient descent until convergence\n",
    "*   the colors for the parameters (θ0,θ1,θ2) should be red, green, blue, respectively\n",
    "\n"
   ]
  },
  {
   "cell_type": "markdown",
   "metadata": {
    "colab_type": "text",
    "id": "JynW0XjvQcyk"
   },
   "source": [
    "2. Logistic regression\n",
    "\n"
   ]
  },
  {
   "cell_type": "markdown",
   "metadata": {
    "colab_type": "text",
    "id": "I7W7eib1EY2R"
   },
   "source": [
    "theta 초기값\n",
    "\n",
    " theta_0 : 2.0\n",
    "\n",
    " theta_1 : 4.0\n",
    " \n",
    " theta_2 : 6.0"
   ]
  },
  {
   "cell_type": "code",
   "execution_count": 0,
   "metadata": {
    "colab": {},
    "colab_type": "code",
    "id": "PZQTgq3fQdiC"
   },
   "outputs": [],
   "source": [
    "theta_0 = 2.0\n",
    "theta_1 = 4.0\n",
    "theta_2 = 6.0"
   ]
  },
  {
   "cell_type": "markdown",
   "metadata": {
    "colab_type": "text",
    "id": "jIb_7YdtE0X3"
   },
   "source": [
    "z=θ0+θ1x+θ2yz where θ0,θ1,θ2∈R\n",
    "\n"
   ]
  },
  {
   "cell_type": "code",
   "execution_count": 0,
   "metadata": {
    "colab": {},
    "colab_type": "code",
    "id": "TezP2EA9Fd_2"
   },
   "outputs": [],
   "source": [
    "z = theta_0 + theta_1*x + theta_2 *y\n",
    "\n",
    "# print(z)"
   ]
  },
  {
   "cell_type": "markdown",
   "metadata": {
    "colab_type": "text",
    "id": "Y1zWPBS6FkmC"
   },
   "source": [
    "sigmoid : σ(z)=1/(1+exp(−z))"
   ]
  },
  {
   "cell_type": "code",
   "execution_count": 0,
   "metadata": {
    "colab": {},
    "colab_type": "code",
    "id": "fzrGMRLRFuL1"
   },
   "outputs": [],
   "source": [
    "sigmoid = 1/(1+np.exp(-z))\n",
    "\n",
    "np.set_printoptions(precision=3)"
   ]
  },
  {
   "cell_type": "markdown",
   "metadata": {
    "colab_type": "text",
    "id": "xokmJjVKHM05"
   },
   "source": [
    "3. Objective Function\n",
    "\n",
    "OF = objective function\n",
    "J(θ0​,θ1​,θ2​)=m1​∑i=1m​(−l(i)log(σ(z(i)))−(1−l(i))log(1−σ(z(i))))"
   ]
  },
  {
   "cell_type": "markdown",
   "metadata": {
    "colab_type": "text",
    "id": "3NJCnqz9HekD"
   },
   "source": [
    "4. Gradient Descent\n",
    "\n",
    "gradient_theta_0 : \n",
    "\n",
    "θ0(t+1)​:=θ0(t)​−αm1​∑i=1m​(σ(z(i))−l(i))\n",
    "\n",
    "gradient_theta_1 :\n",
    "\n",
    "θ1(t+1)​:=θ1(t)​−αm1​∑i=1m​(σ(z(i))−l(i))x(i)\n",
    "\n",
    "gradient_theta_2 : \n",
    "\n",
    "θ2(t+1)​:=θ2(t)​−αm1​∑i=1m​(σ(z(i))−l(i))y(i)"
   ]
  },
  {
   "cell_type": "markdown",
   "metadata": {
    "colab_type": "text",
    "id": "HOuDOCkCHOzt"
   },
   "source": [
    "m = number of data\n",
    "\n",
    "steps = 5000 번의 학습 사이클. \n",
    "\n",
    "learning_rate = 0.0005"
   ]
  },
  {
   "cell_type": "code",
   "execution_count": 0,
   "metadata": {
    "colab": {},
    "colab_type": "code",
    "id": "EB5HPpJOHOzu"
   },
   "outputs": [],
   "source": [
    "m = len(x)\n",
    "steps = 5000\n",
    "learning_rate = 0.0005"
   ]
  },
  {
   "cell_type": "code",
   "execution_count": 509,
   "metadata": {
    "colab": {
     "base_uri": "https://localhost:8080/",
     "height": 107
    },
    "colab_type": "code",
    "executionInfo": {
     "elapsed": 1229,
     "status": "ok",
     "timestamp": 1587457241593,
     "user": {
      "displayName": "신동민",
      "photoUrl": "",
      "userId": "16407036952311297664"
     },
     "user_tz": -540
    },
    "id": "y4cQm58YVDNr",
    "outputId": "fef2fddd-6972-4cd2-c6e4-187bb157a759"
   },
   "outputs": [
    {
     "name": "stderr",
     "output_type": "stream",
     "text": [
      "/usr/local/lib/python3.6/dist-packages/ipykernel_launcher.py:16: RuntimeWarning: divide by zero encountered in log\n",
      "  app.launch_new_instance()\n",
      "/usr/local/lib/python3.6/dist-packages/ipykernel_launcher.py:16: RuntimeWarning: invalid value encountered in multiply\n",
      "  app.launch_new_instance()\n"
     ]
    }
   ],
   "source": [
    "arr_theta_0=[]\n",
    "arr_theta_1=[]\n",
    "arr_theta_2=[]\n",
    "arr_OF=[]\n",
    "\n",
    "theta_0 = 2.0\n",
    "theta_1 = 4.0\n",
    "theta_2 = 6.0\n",
    "\n",
    "# print(label)\n",
    "\n",
    "for i in range(steps):\n",
    "  z = theta_0 + theta_1*x + theta_2 *y\n",
    "  sigmoid = 1/(1+np.exp(-z))\n",
    "\n",
    "  OF = np.sum((-label * np.log(sigmoid)) - ((1-label) * np.log(1-sigmoid)))/(m)\n",
    "\n",
    "  gradient_theta_0 = np.sum(sigmoid - label)/m\n",
    "  gradient_theta_1 = np.sum((sigmoid - label) * x)/m\n",
    "  gradient_theta_2 = np.sum((sigmoid - label) * y)/m\n",
    "\n",
    "  arr_theta_0.append(theta_0)\n",
    "  arr_theta_1.append(theta_1)\n",
    "  arr_theta_2.append(theta_2)\n",
    "  arr_OF.append(OF)\n",
    "  \n",
    "  theta_0 -= learning_rate*gradient_theta_0\n",
    "  theta_1 -= learning_rate*gradient_theta_1\n",
    "  theta_2 -= learning_rate*gradient_theta_2"
   ]
  },
  {
   "cell_type": "code",
   "execution_count": 510,
   "metadata": {
    "colab": {
     "base_uri": "https://localhost:8080/",
     "height": 167
    },
    "colab_type": "code",
    "executionInfo": {
     "elapsed": 1648,
     "status": "ok",
     "timestamp": 1587457242042,
     "user": {
      "displayName": "신동민",
      "photoUrl": "",
      "userId": "16407036952311297664"
     },
     "user_tz": -540
    },
    "id": "r_XBmF3jJRdc",
    "outputId": "dcb893a9-23f5-46e0-b17a-f5dd425df947"
   },
   "outputs": [
    {
     "data": {
      "image/png": "[encoded data removed]",
      "text/plain": [
       "<Figure size 1800x360 with 1 Axes>"
      ]
     },
     "metadata": {
      "needs_background": "light",
      "tags": []
     },
     "output_type": "display_data"
    }
   ],
   "source": [
    "\n",
    "test0=np.array(arr_theta_0,dtype=float)\n",
    "test1=np.array(arr_theta_1,dtype=float)\n",
    "test2=np.array(arr_theta_2,dtype=float)\n",
    "\n",
    "t=np.arange(0,5000,step=1)\n",
    "\n",
    "plt.figure(figsize=(25, 5))\n",
    "plt.xlabel('t')\n",
    "plt.ylabel('theta_i')\n",
    "plt.plot(t,test0,color=\"red\",label=\"theta_0\")\n",
    "plt.plot(t,test1,color=\"green\",label=\"theta_1\")\n",
    "plt.plot(t,test2,color=\"blue\",label=\"theta_2\")\n",
    "\n",
    "plt.legend()\n",
    "plt.show()"
   ]
  },
  {
   "cell_type": "markdown",
   "metadata": {
    "colab_type": "text",
    "id": "EHLgPdXYruD0"
   },
   "source": [
    "#**3. Plot the training error**"
   ]
  },
  {
   "cell_type": "markdown",
   "metadata": {
    "colab_type": "text",
    "id": "_VLnmOmsrydE"
   },
   "source": [
    "\n",
    "\n",
    "*   plot the training error J(θ0,θ1,θ2) at every iteration of gradient descent until convergence (in blue color)\n",
    "\n"
   ]
  },
  {
   "cell_type": "code",
   "execution_count": 511,
   "metadata": {
    "colab": {
     "base_uri": "https://localhost:8080/",
     "height": 279
    },
    "colab_type": "code",
    "executionInfo": {
     "elapsed": 2410,
     "status": "ok",
     "timestamp": 1587457242850,
     "user": {
      "displayName": "신동민",
      "photoUrl": "",
      "userId": "16407036952311297664"
     },
     "user_tz": -540
    },
    "id": "bREsyqOXr2Kp",
    "outputId": "c665a38f-15fd-4de7-943f-f38285a9bf1a"
   },
   "outputs": [
    {
     "data": {
      "image/png": "[encoded data removed]",
      "text/plain": [
       "<Figure size 432x288 with 1 Axes>"
      ]
     },
     "metadata": {
      "needs_background": "light",
      "tags": []
     },
     "output_type": "display_data"
    }
   ],
   "source": [
    "test5=np.array(arr_OF,dtype=float)\n",
    "\n",
    "t=np.arange(0,500,step=0.1)\n",
    "\n",
    "plt.xlabel('t')\n",
    "plt.ylabel('J (training error)')\n",
    "\n",
    "plt.plot(t,test5,color=\"blue\",label=\"J (training error)\")\n",
    "\n",
    "plt.legend()\n",
    "plt.show()"
   ]
  },
  {
   "cell_type": "markdown",
   "metadata": {
    "colab_type": "text",
    "id": "4seasXg2sh-x"
   },
   "source": [
    "#**4. Plot the obtained classifier**"
   ]
  },
  {
   "cell_type": "markdown",
   "metadata": {
    "colab_type": "text",
    "id": "y4XsQq9Qsmu2"
   },
   "source": [
    "\n",
    "\n",
    "*   plot the classifier σ(z) where z=θ0+θ1x+θ2y with x=[30:0.5:100]x and y=[30:0.5:100]\n",
    "\n",
    "*   [a:t:b]denotes a range of values from a to b with a stepsize t\n",
    "\n",
    "*   use a colormap where blue is used for 0, red is used for 1, their weighted combination for a value between 0 and 1\n",
    "\n",
    "*   plot the training data points (x,y)(x, y)(x,y) with their labels lll in colors (blue for label 0 and red for label 1) superimposed on the classifier"
   ]
  },
  {
   "cell_type": "code",
   "execution_count": 516,
   "metadata": {
    "colab": {
     "base_uri": "https://localhost:8080/",
     "height": 442
    },
    "colab_type": "code",
    "executionInfo": {
     "elapsed": 2112,
     "status": "ok",
     "timestamp": 1587457366671,
     "user": {
      "displayName": "신동민",
      "photoUrl": "",
      "userId": "16407036952311297664"
     },
     "user_tz": -540
    },
    "id": "oAi1WM_9uLgJ",
    "outputId": "9ace109f-288f-4199-d45c-a047ad16636f"
   },
   "outputs": [
    {
     "data": {
      "image/png": "[encoded data removed]",
      "text/plain": [
       "<Figure size 432x504 with 1 Axes>"
      ]
     },
     "metadata": {
      "needs_background": "light",
      "tags": []
     },
     "output_type": "display_data"
    }
   ],
   "source": [
    "import matplotlib as mpl\n",
    "import matplotlib.colors as colors\n",
    "\n",
    "x_axis =y_axis= np.arange(30,100,step=0.5)\n",
    "\n",
    "X,Y = np.meshgrid(x_axis,y_axis)\n",
    "\n",
    "z = theta_0 + theta_1*X + theta_2 *Y\n",
    "\n",
    "sigmoid = 1/(1+np.exp(-z))\n",
    "\n",
    "fig, ax = plt.subplots(1)\n",
    "\n",
    "ax.imshow(sigmoid,aspect='auto',origin='lower',cmap=\"bwr_r\") \n",
    "\n",
    "fig.set_size_inches(6,7)\n",
    "\n",
    "plt.xlabel('x')\n",
    "plt.ylabel('y')\n",
    "\n",
    "plt.scatter(x_label0, y_label0,label=\"l=0\", c='b')\n",
    "plt.scatter(x_label1, y_label1,label=\"l=1\", c='r')\n",
    "\n",
    "plt.legend()\n",
    "plt.show()"
   ]
  }
 ],
 "metadata": {
  "colab": {
   "authorship_tag": "ABX9TyM1HgqjskISPyOhCpmrbFTE",
   "collapsed_sections": [],
   "mount_file_id": "10FvwdJVH7_lRDIthMS2JXMV0do7wJfwJ",
   "name": "Assignment5.ipynb",
   "provenance": [
    {
     "file_id": "1vwBlYDJYQkl4QY5D5jdMs3xz1fe0jq8d",
     "timestamp": 1587344666341
    }
   ]
  },
  "kernelspec": {
   "display_name": "Python 3",
   "language": "python",
   "name": "python3"
  },
  "language_info": {
   "codemirror_mode": {
    "name": "ipython",
    "version": 3
   },
   "file_extension": ".py",
   "mimetype": "text/x-python",
   "name": "python",
   "nbconvert_exporter": "python",
   "pygments_lexer": "ipython3",
   "version": "3.8.2"
  }
 },
 "nbformat": 4,
 "nbformat_minor": 1
}
