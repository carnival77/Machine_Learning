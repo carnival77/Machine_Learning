{
  "nbformat": 4,
  "nbformat_minor": 0,
  "metadata": {
    "colab": {
      "name": "Assignment9.ipynb",
      "provenance": [],
      "collapsed_sections": [],
      "mount_file_id": "1DK98M02E7YrOzeBHy1fgbFMSKb0LF6Xh",
      "authorship_tag": "ABX9TyPTFpATIA30UljoZQBFElB0",
      "include_colab_link": true
    },
    "kernelspec": {
      "display_name": "Python 3",
      "language": "python",
      "name": "python3"
    },
    "language_info": {
      "codemirror_mode": {
        "name": "ipython",
        "version": 3
      },
      "file_extension": ".py",
      "mimetype": "text/x-python",
      "name": "python",
      "nbconvert_exporter": "python",
      "pygments_lexer": "ipython3",
      "version": "3.8.2"
    }
  },
  "cells": [
    {
      "cell_type": "markdown",
      "metadata": {
        "id": "view-in-github",
        "colab_type": "text"
      },
      "source": [
        "<a href=\"https://colab.research.google.com/github/carnival77/Machine_Learning/blob/master/Assignment9.ipynb\" target=\"_parent\"><img src=\"https://colab.research.google.com/assets/colab-badge.svg\" alt=\"Open In Colab\"/></a>"
      ]
    },
    {
      "cell_type": "markdown",
      "metadata": {
        "id": "RO9f7HuzsvQ9",
        "colab_type": "text"
      },
      "source": [
        "#**1. Input Data**"
      ]
    },
    {
      "cell_type": "markdown",
      "metadata": {
        "id": "xOqSLLhbsyte",
        "colab_type": "text"
      },
      "source": [
        "* load the data file ('mnist_test.csv')\n",
        "* each row of the data consists of the label and the image pixel values in a vector form\n",
        "* the label is one of the 10 digits from 0 to 9\n",
        "* the image represents one of the 10 digits from 0 to 9 in grey scale and its size is 28x28"
      ]
    },
    {
      "cell_type": "code",
      "metadata": {
        "id": "EN_AbyMGc3yk",
        "colab_type": "code",
        "colab": {}
      },
      "source": [
        "import numpy as np\n",
        "import matplotlib.pyplot as plt\n",
        "import csv\n",
        "\n",
        "file_data   = \"/content/drive/My Drive/Colab Notebooks/assignment9/mnist.csv\"\n",
        "handle_file = open(file_data, \"r\")\n",
        "data        = handle_file.readlines()\n",
        "handle_file.close()\n",
        "\n",
        "size_row    = 28    # height of the image\n",
        "size_col    = 28    # width of the image\n",
        "\n",
        "num_image   = len(data)\n",
        "count       = 0     # count for the number of images\n",
        "\n",
        "#\n",
        "# normalize the values of the input data to be [0, 1]\n",
        "#\n",
        "def normalize(data):\n",
        "\n",
        "    data_normalized = (data - min(data)) / (max(data) - min(data))\n",
        "\n",
        "    return(data_normalized)\n",
        "\n",
        "#\n",
        "# example of distance function between two vectors x and y\n",
        "#\n",
        "def distance(x, y):\n",
        "\n",
        "    d = (x - y) ** 2\n",
        "    s = np.sum(d)\n",
        "    # r = np.sqrt(s)\n",
        "\n",
        "    return(s)\n",
        "\n",
        "#\n",
        "# make a matrix each column of which represents an images in a vector form\n",
        "#\n",
        "# list_image  = np.empty((size_row * size_col, num_image), dtype=float)\n",
        "list_training_image = np.empty((size_row * size_col, 6000), dtype=float)\n",
        "list_testing_image = np.empty((size_row * size_col, 4000), dtype=float)\n",
        "\n",
        "# list_label  = np.empty(num_image, dtype=int)\n",
        "list_training_label  = np.empty(6000, dtype=int)\n",
        "list_testing_label  = np.empty(4000, dtype=int)\n",
        "\n",
        "for line in enumerate(data):\n",
        "\n",
        "  if(line[0]<6000):\n",
        "\n",
        "    line_data   = line[1].split(',')\n",
        "    label       = line_data[0]\n",
        "    im_vector   = np.asfarray(line_data[1:])\n",
        "    im_vector   = normalize(im_vector)\n",
        "\n",
        "    list_training_label[count]       = label\n",
        "    list_training_image[:, count]    = im_vector\n",
        "\n",
        "    count += 1\n",
        "  \n",
        "  else:\n",
        "    count = 0 \n",
        "  \n",
        "    line_data   = line[1].split(',')\n",
        "    label       = line_data[0]\n",
        "    im_vector   = np.asfarray(line_data[1:])\n",
        "    im_vector   = normalize(im_vector)\n",
        "\n",
        "    list_testing_label[count]       = label\n",
        "    list_testing_image[:, count]    = im_vector\n",
        "\n",
        "    count += 1\n",
        "\n",
        "# list_training_image : 784 x 6000\n",
        "# list_testing_image  : 784 x 4000"
      ],
      "execution_count": 0,
      "outputs": []
    },
    {
      "cell_type": "code",
      "metadata": {
        "id": "NUFJjp4W7FZe",
        "colab_type": "code",
        "colab": {}
      },
      "source": [
        "# np.random.seed(0)\n",
        "\n",
        "mu,sigma = 0.0,1.0\n",
        "\n",
        "# rand_norm = np.random.normal(mu,sigma,size=28*28)\n",
        "\n",
        "def sigmoid(x):\n",
        "    return 1 / (1 +np.exp(-x))\n",
        "\n",
        "class Layer:\n",
        "  def __init__(self,n_neurons,n_inputs,n):\n",
        "    np.random.seed(n)\n",
        "    self.weights = np.random.normal(mu,sigma,(n_neurons ,n_inputs))\n",
        "    self.biases = np.zeros(n_neurons)\n",
        "  # def get_weights(self):\n",
        "  #   return self.weights\n",
        "  def forward(self,inputs, weights):\n",
        "    self.output = sigmoid(np.dot(weights,inputs) + self.biases)  \n",
        "    return self.output\n",
        "\n",
        "# self.biases = np.ones((1,n_neurons))\n",
        "\n",
        "# self.weights = np.random.randn(n_neurons,n_inputs)\n",
        "\n",
        "# for b,w in zip(self.biases, self.weights):\n",
        "#   self.output = sigmoid(np.dot(w,inputs) + b)\n",
        "\n",
        "# self.output = sigmoid(np.dot(self.weights,inputs) + self.biases)"
      ],
      "execution_count": 0,
      "outputs": []
    },
    {
      "cell_type": "markdown",
      "metadata": {
        "id": "tSMqlR6wSqi5",
        "colab_type": "text"
      },
      "source": [
        "x = inputs ( T_list_training_image )\n",
        "\n",
        "y = layer1_output\n",
        "\n",
        "z = layer2_output\n",
        "\n",
        "h = layer3_output"
      ]
    },
    {
      "cell_type": "code",
      "metadata": {
        "id": "NhI8RCmuHGPf",
        "colab_type": "code",
        "colab": {}
      },
      "source": [
        "layer1 = Layer(196,784,1)\n",
        "layer2 = Layer(49,196,2)\n",
        "layer3 = Layer(10,49,3)"
      ],
      "execution_count": 0,
      "outputs": []
    },
    {
      "cell_type": "code",
      "metadata": {
        "id": "8b7Do795HMI7",
        "colab_type": "code",
        "colab": {}
      },
      "source": [
        "T_list_training_image = np.array(list_training_image).T # 6000 x 784. inputs x\n",
        "\n",
        "T_list_testing_image = np.array(list_testing_image).T # 4000 x 784. inputs x\n",
        "\n",
        "u = layer1.weights # 196 x 784\n",
        "\n",
        "v = layer2.weights # 49 x 196\n",
        "\n",
        "w = layer3.weights # 10 x 49"
      ],
      "execution_count": 0,
      "outputs": []
    },
    {
      "cell_type": "markdown",
      "metadata": {
        "id": "gbto4a-NVu6z",
        "colab_type": "text"
      },
      "source": [
        "training"
      ]
    },
    {
      "cell_type": "code",
      "metadata": {
        "id": "fkbA7MGQBFFE",
        "colab_type": "code",
        "colab": {}
      },
      "source": [
        "def calculus(m, u, v, w, list_image, learning_rate, list_training_label):\n",
        "\n",
        "\n",
        "  correct_image=[]\n",
        "  correct_label=[]\n",
        "\n",
        "  incorrect_image=[]\n",
        "  incorrect_label=[]\n",
        "\n",
        "  arr_OF=[]\n",
        "  for i in range(m):\n",
        "    arr_OF.append([])\n",
        "\n",
        "  b=[]\n",
        "\n",
        "  count=0\n",
        "  for i in range(10):\n",
        "    a=[]\n",
        "    for j in range(10):\n",
        "      if j == count:\n",
        "        a.append(1)\n",
        "      else:\n",
        "        a.append(0)\n",
        "    b.append(a)\n",
        "    count+=1\n",
        "\n",
        "  label_filter = np.array(b)\n",
        "\n",
        "  OF = 0\n",
        "\n",
        "  accuracy_count = 0\n",
        "\n",
        "  accuracy_rate_arr=[]\n",
        "\n",
        "  for i in range(m):\n",
        "\n",
        "    h_max = 0\n",
        "    co_vs_inco=0\n",
        "    predict_label = 0\n",
        "\n",
        "    x = list_image[i] # 784 x 1\n",
        "\n",
        "    y = layer1.forward(x,u) # 196 x 1\n",
        "\n",
        "    # T_y = np.array(y).T\n",
        "\n",
        "    z = layer2.forward(y,v)  # 49 x 1\n",
        "\n",
        "    # T_z = np.array(z).T\n",
        "\n",
        "    h = layer3.forward(z,w)  # 10 x 1\n",
        "\n",
        "    h_max = np.max(h)\n",
        "\n",
        "    # print(h,h_max)\n",
        "\n",
        "    for a in enumerate(h):\n",
        "      if a[1] == h_max:\n",
        "        predict_label = a[0]\n",
        "\n",
        "    for j in range(10):\n",
        "\n",
        "      if list_training_label[i] == j:\n",
        "\n",
        "        co_vs_inco = 1\n",
        "        \n",
        "        arr_OF[i] = OF\n",
        "\n",
        "        if predict_label == j:\n",
        "          accuracy_count += 1\n",
        "          # print(predict_label,j)\n",
        "\n",
        "        accuracy_rate_arr.append(accuracy_count/m*100)\n",
        "\n",
        "        # OF += np.dot(-label_filter[j], np.log10(h)) - np.dot((1-label_filter[j]),np.log10(1-h))\n",
        "        OF = np.sum((-label_filter[j] * np.log10(h)) - ((1-label_filter[j]) * np.log10(1-h)))/m\n",
        "\n",
        "        T_label_filter = np.array(label_filter[j]).T\n",
        "\n",
        "        # h_label = - list_training_label[i] * (1-h)\n",
        "\n",
        "        # h_label = - T_label_filter * (1-h)\n",
        "\n",
        "        # h_label = h - T_label_filter\n",
        "\n",
        "        h_label = h - T_label_filter\n",
        "\n",
        "        h_label = h_label.reshape(10,1)\n",
        "\n",
        "        t_z1 = z.reshape(1,49)\n",
        "\n",
        "        part1 = np.dot(h_label,t_z1) # 10 x 49\n",
        "\n",
        "        w -= learning_rate * part1\n",
        "        # 10 x 49\n",
        "\n",
        "        t_y = y.reshape(1,196)\n",
        "\n",
        "        t_w = np.array(w).T # 49 x 10\n",
        "\n",
        "        # t_part1 = np.array(part1).T # 49 x 10\n",
        "\n",
        "        t_z2 = z.reshape(49,1)\n",
        "\n",
        "        part2 = np.dot(np.dot(t_w,part1), np.dot((1 - t_z2),t_y )) # 49 x 196\n",
        "\n",
        "        v -= learning_rate * part2\n",
        "        # v -= learning_rate * label_filter * (1 - h) * z * w * (1 - z) * y\n",
        "        # 49 x 196\n",
        "\n",
        "        t_part2 = np.array(part2).T # 196 x 49\n",
        "\n",
        "        t_x = x.reshape(1,784)\n",
        "\n",
        "        t_v = np.array(v).T # 196 x 49\n",
        "\n",
        "        # part3 = np.dot(np.dot(t_part2,v),y * (1 - y))\n",
        "        part3 = np.dot(np.dot(t_v,part2),(1 - y))\n",
        "\n",
        "        t_part3 = part3.reshape(196,1)\n",
        "\n",
        "        u -= learning_rate * np.dot(t_part3 ,t_x)\n",
        "        # u -= learning_rate * label_filter * (1 - h) * z * w * (1 - z) * y * v * y * (1 - y) * x\n",
        "        # u -= learning_rate * label_filter * (1 - h) * z * w * (1 - z) * v * y * (1 - y) * x\n",
        "        # 196 x 784\n",
        "\n",
        "        correct_image.append(x)\n",
        "        correct_label.append(j)\n",
        "\n",
        "        a = j\n",
        "\n",
        "        break\n",
        "\n",
        "      else:\n",
        "        incorrect_image.append(x)\n",
        "        incorrect_label.append(j)\n",
        "\n",
        "    # if co_vs_inco == 0 :\n",
        "      \n",
        "\n",
        "  return [arr_OF,u,v,w,accuracy_count,accuracy_rate_arr,correct_image,correct_label,incorrect_image,incorrect_label]"
      ],
      "execution_count": 0,
      "outputs": []
    },
    {
      "cell_type": "code",
      "metadata": {
        "id": "Y8_JVzqPIjAH",
        "colab_type": "code",
        "colab": {}
      },
      "source": [
        "learning_rate = 0.001\n",
        "\n",
        "training_result = calculus(6000,u,v,w,T_list_training_image,learning_rate, list_training_label)\n",
        "\n",
        "training_arr_OF = training_result[0]\n",
        "updated_u=training_result[1]\n",
        "updated_v=training_result[2]\n",
        "updated_w=training_result[3]\n",
        "training_accuracy_count=training_result[4]\n",
        "training_accuracy_rate_arr=training_result[5]\n",
        "correct_image=training_result[6]\n",
        "correct_label=training_result[7]\n",
        "incorrect_image=training_result[8]\n",
        "incorrect_label=training_result[9]\n",
        "\n",
        "# testing_arr_OF = calculus(4000,u,v,w,T_list_testing_image,learning_rate)\n",
        "\n",
        "# print(arr_OF)"
      ],
      "execution_count": 0,
      "outputs": []
    },
    {
      "cell_type": "markdown",
      "metadata": {
        "id": "81NpGf8FVtiK",
        "colab_type": "text"
      },
      "source": [
        "test"
      ]
    },
    {
      "cell_type": "code",
      "metadata": {
        "id": "jpOn-X5kumqF",
        "colab_type": "code",
        "colab": {}
      },
      "source": [
        "# correct_image = np.empty((size_row * size_col, 10), dtype=float)\n",
        "# correct_label = np.empty(10, dtype=int)\n",
        "\n",
        "# incorrect_image = np.empty((size_row * size_col, 10), dtype=float)\n",
        "# incorrect_label = np.empty(10, dtype=int)\n",
        "\n",
        "# correct_image=[]\n",
        "# correct_label=[]\n",
        "\n",
        "# incorrect_image=[]\n",
        "# incorrect_label=[]\n",
        "\n",
        "\n",
        "arr_OF=[]\n",
        "for i in range(4000):\n",
        "  arr_OF.append([])\n",
        "\n",
        "accuracy_rate_arr=[]\n",
        "accuracy_count=0\n",
        "\n",
        "count=0\n",
        "\n",
        "for i in range(4000):\n",
        "\n",
        "  co_decision=0\n",
        "\n",
        "  h_max = 0\n",
        "  predict_label = 0\n",
        "\n",
        "  x = T_list_testing_image[i] # 784 x 1\n",
        "\n",
        "  y = layer1.forward(x,updated_u) # 196 x 1\n",
        "\n",
        "  # T_y = np.array(y).T\n",
        "\n",
        "  z = layer2.forward(y,updated_v)  # 49 x 1\n",
        "\n",
        "  # T_z = np.array(z).T\n",
        "\n",
        "  h = layer3.forward(z,updated_w)  # 10 x 1\n",
        "\n",
        "  for a in enumerate(h):\n",
        "    if a[1] == h_max:\n",
        "      predict_label = a[0]\n",
        "\n",
        "  for j in range(10):\n",
        "\n",
        "      if list_training_label[i] == j:\n",
        "        \n",
        "        # OF += np.dot(-label_filter[j], np.log10(h)) - np.dot((1-label_filter[j]),np.log10(1-h))\n",
        "        OF = np.sum((-label_filter[j] * np.log10(h)) - ((1-label_filter[j]) * np.log10(1-h)))/m\n",
        "        \n",
        "        arr_OF[i] = OF\n",
        "\n",
        "        if predict_label == j:\n",
        "          accuracy_count += 1\n",
        "          co_decision = 1\n",
        "\n",
        "        accuracy_rate_arr.append(accuracy_count/4000*100)\n",
        "\n",
        "        break\n",
        "\n",
        "  # if co_decision == 0:\n",
        "  #   incorrect_image.append(x)\n",
        "  #   incorrect_label.append(j)\n",
        "\n",
        "        # correct_image.append(T_list_testing_image[i])\n",
        "        # correct_label.append(j)\n",
        "\n",
        "      # else:\n",
        "\n",
        "        # incorrect_image.append(T_list_testing_image[i])\n",
        "        # incorrect_label.append(j)\n",
        "\n",
        "\n",
        "testing_arr_OF = arr_OF\n",
        "testing_accuracy_count = accuracy_count\n",
        "testing_accuracy_rate_arr = accuracy_rate_arr"
      ],
      "execution_count": 0,
      "outputs": []
    },
    {
      "cell_type": "markdown",
      "metadata": {
        "id": "DCAa8NCyEX0i",
        "colab_type": "text"
      },
      "source": [
        "Training loss curve"
      ]
    },
    {
      "cell_type": "code",
      "metadata": {
        "id": "nCuyTUA1Czcl",
        "colab_type": "code",
        "colab": {
          "base_uri": "https://localhost:8080/",
          "height": 279
        },
        "outputId": "ebe3b18c-eb01-45d5-cad1-39d7d41fc227"
      },
      "source": [
        "fig = plt.figure()\n",
        "ax= fig.add_subplot(1,1,1)\n",
        "\n",
        "OF_training_loss_curve=np.array(training_arr_OF,dtype=float)\n",
        "OF_testing_loss_curve=np.array(testing_arr_OF,dtype=float)\n",
        "\n",
        "t1=np.arange(0,6000,step=1)\n",
        "t2=np.arange(0,4000,step=1)\n",
        "\n",
        "plt.xlabel('t')\n",
        "plt.ylabel('J (error)')\n",
        "\n",
        "plt.plot(t1,OF_training_loss_curve,color=\"blue\",label=\"training loss\",alpha=0.6,linewidth=3)\n",
        "plt.plot(t2,OF_testing_loss_curve,color=\"red\",label=\"testing loss\",alpha=0.5,linewidth=3)\n",
        "ax.set_ylim([0.0,0.011])\n",
        "# plt.plot(t,lambda_3_training_err,color=\"blue\",label=\"lambda 3 under-fitting\")\n",
        "\n",
        "plt.legend()\n",
        "plt.show()"
      ],
      "execution_count": 1321,
      "outputs": [
        {
          "output_type": "display_data",
          "data": {
            "image/png": "[encoded data removed]",
            "text/plain": [
              "<Figure size 432x288 with 1 Axes>"
            ]
          },
          "metadata": {
            "tags": [],
            "needs_background": "light"
          }
        }
      ]
    },
    {
      "cell_type": "markdown",
      "metadata": {
        "id": "9n_vTnQjB1Vb",
        "colab_type": "text"
      },
      "source": [
        "accuracy curve"
      ]
    },
    {
      "cell_type": "code",
      "metadata": {
        "id": "cvS4pAVzB2nl",
        "colab_type": "code",
        "colab": {
          "base_uri": "https://localhost:8080/",
          "height": 279
        },
        "outputId": "71052097-cfb0-4f1a-f786-fba6739a7da0"
      },
      "source": [
        "training_accuracy_curve=np.array(training_accuracy_rate_arr,dtype=float)\n",
        "testing_accuracy_curve=np.array(testing_accuracy_rate_arr,dtype=float)\n",
        "\n",
        "t1=np.arange(0,6000,step=1)\n",
        "t2=np.arange(0,4000,step=1)\n",
        "\n",
        "plt.xlabel('t')\n",
        "plt.ylabel('accuracy curve')\n",
        "\n",
        "plt.plot(t1,training_accuracy_curve,color=\"blue\",label=\"training accuracy\")\n",
        "plt.plot(t2,testing_accuracy_curve,color=\"red\",label=\"testing accuracy\")\n",
        "# plt.plot(t,lambda_3_training_err,color=\"blue\",label=\"lambda 3 under-fitting\")\n",
        "\n",
        "plt.legend()\n",
        "plt.show()"
      ],
      "execution_count": 1322,
      "outputs": [
        {
          "output_type": "display_data",
          "data": {
            "image/png": "[encoded data removed]",
            "text/plain": [
              "<Figure size 432x288 with 1 Axes>"
            ]
          },
          "metadata": {
            "tags": [],
            "needs_background": "light"
          }
        }
      ]
    },
    {
      "cell_type": "markdown",
      "metadata": {
        "id": "_4K1-0BaHwlR",
        "colab_type": "text"
      },
      "source": [
        "accuracy value"
      ]
    },
    {
      "cell_type": "code",
      "metadata": {
        "id": "j2_1frGmHvyK",
        "colab_type": "code",
        "colab": {
          "base_uri": "https://localhost:8080/",
          "height": 52
        },
        "outputId": "99bd1638-7e76-47f2-88e8-1bdc08db21e0"
      },
      "source": [
        "print(\"training accuracy : \",training_accuracy_count/6000*100,\"%\")\n",
        "print(\"testing accuracy : \",testing_accuracy_count/4000*100,\"%\")"
      ],
      "execution_count": 1323,
      "outputs": [
        {
          "output_type": "stream",
          "text": [
            "training accuracy :  62.73333333333333 %\n",
            "testing accuracy :  9.25 %\n"
          ],
          "name": "stdout"
        }
      ]
    },
    {
      "cell_type": "markdown",
      "metadata": {
        "id": "UkLqzKtUW2Qg",
        "colab_type": "text"
      },
      "source": [
        "showing images"
      ]
    },
    {
      "cell_type": "code",
      "metadata": {
        "id": "AztK9aTlW1DZ",
        "colab_type": "code",
        "colab": {
          "base_uri": "https://localhost:8080/",
          "height": 227
        },
        "outputId": "80896f21-d024-4c07-e733-2ac61391e0a3"
      },
      "source": [
        "f2 = plt.figure(1)\n",
        "\n",
        "for i in range(10):\n",
        "\n",
        "    plt_label   = correct_label[i]\n",
        "    im_vector   = correct_image[i]\n",
        "    im_matrix   = im_vector.reshape((size_row, size_col))\n",
        "\n",
        "    plt.subplot(2, 5, i+1)\n",
        "    plt.title(plt_label)\n",
        "    plt.imshow(im_matrix, cmap='Greys', interpolation='None')\n",
        "\n",
        "    frame   = plt.gca()\n",
        "    frame.axes.get_xaxis().set_visible(False)\n",
        "    frame.axes.get_yaxis().set_visible(False)\n",
        "\n",
        "plt.show()"
      ],
      "execution_count": 1324,
      "outputs": [
        {
          "output_type": "display_data",
          "data": {
            "image/png": "[encoded data removed]",
            "text/plain": [
              "<Figure size 432x288 with 10 Axes>"
            ]
          },
          "metadata": {
            "tags": [],
            "needs_background": "light"
          }
        }
      ]
    },
    {
      "cell_type": "code",
      "metadata": {
        "id": "idnO9Nwcg1EP",
        "colab_type": "code",
        "colab": {
          "base_uri": "https://localhost:8080/",
          "height": 227
        },
        "outputId": "fc61fb3d-d6b5-45c9-883d-23ca187e9053"
      },
      "source": [
        "f2 = plt.figure(1)\n",
        "\n",
        "for i in range(10):\n",
        "\n",
        "    plt_label   = incorrect_label[10*i]\n",
        "    im_vector   = incorrect_image[10*i]\n",
        "    im_matrix   = im_vector.reshape((size_row, size_col))\n",
        "\n",
        "    plt.subplot(2, 5, i+1)\n",
        "    plt.title(plt_label)\n",
        "    plt.imshow(im_matrix, cmap='Greys', interpolation='None')\n",
        "\n",
        "    frame   = plt.gca()\n",
        "    frame.axes.get_xaxis().set_visible(False)\n",
        "    frame.axes.get_yaxis().set_visible(False)\n",
        "\n",
        "plt.show()"
      ],
      "execution_count": 1333,
      "outputs": [
        {
          "output_type": "display_data",
          "data": {
            "image/png": "[encoded data removed]",
            "text/plain": [
              "<Figure size 432x288 with 10 Axes>"
            ]
          },
          "metadata": {
            "tags": [],
            "needs_background": "light"
          }
        }
      ]
    },
    {
      "cell_type": "code",
      "metadata": {
        "id": "67ZAmtKPts0C",
        "colab_type": "code",
        "colab": {}
      },
      "source": [
        "# def calculus(m, u, v, w, list_image, learning_rate):\n",
        "\n",
        "#   arr_OF=[]\n",
        "#   for i in range(m):\n",
        "#     arr_OF.append([])\n",
        "\n",
        "#   OF = 0\n",
        "\n",
        "#   for i in range(m):\n",
        "\n",
        "#     result_forward = feed_forward(u,v,w,list_image)\n",
        "\n",
        "#     y = result_forward[0]\n",
        "#     z = result_forward[1]\n",
        "#     h = result_forward[2]\n",
        "\n",
        "#     for j in range(10):\n",
        "\n",
        "#       if list_training_label[i] == j:\n",
        "        \n",
        "#         # OF += np.dot(-label_filter[j], np.log10(h)) - np.dot((1-label_filter[j]),np.log10(1-h))\n",
        "#         OF = np.sum((-label_filter[j] * np.log10(h)) - ((1-label_filter[j]) * np.log10(1-h)))/m\n",
        "        \n",
        "#         arr_OF[i] = OF\n",
        "\n",
        "#         result_bp = back_propagation(u,v,w,y,z,h,learning_rate)\n",
        "\n",
        "#         u = result_bp[0]\n",
        "#         v = result_bp[1]\n",
        "#         w = result_bp[2]\n",
        "\n",
        "#         # T_label_filter = np.array(label_filter[j]).T\n",
        "\n",
        "#         # # h_label = - list_training_label[i] * (1-h)\n",
        "\n",
        "#         # # h_label = - T_label_filter * (1-h)\n",
        "\n",
        "#         # # h_label = h - T_label_filter\n",
        "\n",
        "#         # h_label = h - T_label_filter\n",
        "\n",
        "#         # h_label = h_label.reshape(10,1)\n",
        "\n",
        "#         # t_z1 = z.reshape(1,49)\n",
        "\n",
        "#         # part1 = np.dot(h_label,t_z1) # 10 x 49\n",
        "\n",
        "#         # w -= learning_rate * part1\n",
        "#         # # 10 x 49\n",
        "\n",
        "#         # t_y = y.reshape(1,196)\n",
        "\n",
        "#         # t_part1 = np.array(part1).T # 49 x 10\n",
        "\n",
        "#         # t_z2 = z.reshape(49,1)\n",
        "\n",
        "#         # part2 = np.dot(np.dot(t_part1,w), np.dot((1 - t_z2),t_y )) # 49 x 196\n",
        "\n",
        "#         # v -= learning_rate * part2\n",
        "#         # # v -= learning_rate * label_filter * (1 - h) * z * w * (1 - z) * y\n",
        "#         # # 49 x 196\n",
        "\n",
        "#         # t_part2 = np.array(part2).T # 196 x 49\n",
        "\n",
        "#         # t_x = x.reshape(1,784)\n",
        "\n",
        "#         # part3 = np.dot(np.dot(t_part2,v),y * (1 - y))\n",
        "\n",
        "#         # t_part3 = part3.reshape(196,1)\n",
        "\n",
        "#         # u -= learning_rate * np.dot(t_part3 ,t_x)\n",
        "#         # # u -= learning_rate * label_filter * (1 - h) * z * w * (1 - z) * y * v * y * (1 - y) * x\n",
        "#         # # 196 x 784\n",
        "\n",
        "#   return arr_OF"
      ],
      "execution_count": 0,
      "outputs": []
    },
    {
      "cell_type": "code",
      "metadata": {
        "id": "6Ri3Ez04twl6",
        "colab_type": "code",
        "colab": {}
      },
      "source": [
        "# def back_propagation(u,v,w,y,z,h,learning_rate):\n",
        "\n",
        "#   b=[]\n",
        "\n",
        "#   count=0\n",
        "#   for i in range(10):\n",
        "#     a=[]\n",
        "#     for j in range(10):\n",
        "#       if j == count:\n",
        "#         a.append(1)\n",
        "#       else:\n",
        "#         a.append(0)\n",
        "#     b.append(a)\n",
        "#     count+=1\n",
        "\n",
        "#   label_filter = np.array(b)\n",
        "\n",
        "#   T_label_filter = np.array(label_filter[j]).T\n",
        "\n",
        "#   # h_label = - list_training_label[i] * (1-h)\n",
        "\n",
        "#   # h_label = - T_label_filter * (1-h)\n",
        "\n",
        "#   # h_label = h - T_label_filter\n",
        "\n",
        "#   h_label = h - T_label_filter\n",
        "\n",
        "#   h_label = h_label.reshape(10,1)\n",
        "\n",
        "#   t_z1 = z.reshape(1,49)\n",
        "\n",
        "#   part1 = np.dot(h_label,t_z1) # 10 x 49\n",
        "\n",
        "#   w -= learning_rate * part1\n",
        "#   # 10 x 49\n",
        "\n",
        "#   t_y = y.reshape(1,196)\n",
        "\n",
        "#   t_part1 = np.array(part1).T # 49 x 10\n",
        "\n",
        "#   t_z2 = z.reshape(49,1)\n",
        "\n",
        "#   part2 = np.dot(np.dot(t_part1,w), np.dot((1 - t_z2),t_y )) # 49 x 196\n",
        "\n",
        "#   v -= learning_rate * part2\n",
        "#   # v -= learning_rate * label_filter * (1 - h) * z * w * (1 - z) * y\n",
        "#   # 49 x 196\n",
        "\n",
        "#   t_part2 = np.array(part2).T # 196 x 49\n",
        "\n",
        "#   t_x = x.reshape(1,784)\n",
        "\n",
        "#   part3 = np.dot(np.dot(t_part2,v),y * (1 - y))\n",
        "\n",
        "#   t_part3 = part3.reshape(196,1)\n",
        "\n",
        "#   u -= learning_rate * np.dot(t_part3 ,t_x)\n",
        "#   # u -= learning_rate * label_filter * (1 - h) * z * w * (1 - z) * y * v * y * (1 - y) * x\n",
        "#   # 196 x 784\n",
        "\n",
        "#   return [u,v,w]"
      ],
      "execution_count": 0,
      "outputs": []
    },
    {
      "cell_type": "code",
      "metadata": {
        "id": "X4yYLmYqtzfL",
        "colab_type": "code",
        "colab": {}
      },
      "source": [
        "# def feed_forward(u,v,w,list_image): \n",
        "\n",
        "#   x = list_image[i] # 784 x 1\n",
        "\n",
        "#   y = layer1.forward(x,u) # 196 x 1\n",
        "\n",
        "#   # T_y = np.array(y).T\n",
        "\n",
        "#   z = layer2.forward(y,v)  # 49 x 1\n",
        "\n",
        "#   # T_z = np.array(z).T\n",
        "\n",
        "#   h = layer3.forward(z,w)  # 10 x 1\n",
        "\n",
        "#   return [y,z,h]"
      ],
      "execution_count": 0,
      "outputs": []
    },
    {
      "cell_type": "markdown",
      "metadata": {
        "id": "vToeeIJCuMJA",
        "colab_type": "text"
      },
      "source": [
        "백업"
      ]
    },
    {
      "cell_type": "code",
      "metadata": {
        "id": "xh6aWBGduKgy",
        "colab_type": "code",
        "colab": {}
      },
      "source": [
        "# def calculus(m, u, v, w, list_image, learning_rate):\n",
        "\n",
        "#   arr_OF=[]\n",
        "#   for i in range(6000):\n",
        "#     arr_OF.append([])\n",
        "\n",
        "#   b=[]\n",
        "\n",
        "#   count=0\n",
        "#   for i in range(10):\n",
        "#     a=[]\n",
        "#     for j in range(10):\n",
        "#       if j == count:\n",
        "#         a.append(1)\n",
        "#       else:\n",
        "#         a.append(0)\n",
        "#     b.append(a)\n",
        "#     count+=1\n",
        "\n",
        "#   label_filter = np.array(b)\n",
        "\n",
        "#   OF = 0 \n",
        "\n",
        "#   for i in range(m):\n",
        "\n",
        "#     x = list_image[i] # 784 x 1\n",
        "\n",
        "#     y = layer1.forward(x,u) # 196 x 1\n",
        "\n",
        "#     # T_y = np.array(y).T\n",
        "\n",
        "#     z = layer2.forward(y,v)  # 49 x 1\n",
        "\n",
        "#     # T_z = np.array(z).T\n",
        "\n",
        "#     h = layer3.forward(z,w)  # 10 x 1\n",
        "\n",
        "#     for j in range(10):\n",
        "\n",
        "#       if list_training_label[i] == j:\n",
        "        \n",
        "#         # OF += np.dot(-label_filter[j], np.log10(h)) - np.dot((1-label_filter[j]),np.log10(1-h))\n",
        "#         OF = np.sum((-label_filter[j] * np.log10(h)) - ((1-label_filter[j]) * np.log10(1-h)))/m\n",
        "        \n",
        "#         arr_OF[i] = OF\n",
        "\n",
        "#         T_label_filter = np.array(label_filter[j]).T\n",
        "\n",
        "#         # h_label = - list_training_label[i] * (1-h)\n",
        "\n",
        "#         # h_label = - T_label_filter * (1-h)\n",
        "\n",
        "#         # h_label = h - T_label_filter\n",
        "\n",
        "#         h_label = h - T_label_filter\n",
        "\n",
        "#         h_label = h_label.reshape(10,1)\n",
        "\n",
        "#         t_z1 = z.reshape(1,49)\n",
        "\n",
        "#         part1 = np.dot(h_label,t_z1) # 10 x 49\n",
        "\n",
        "#         w -= learning_rate * part1\n",
        "#         # 10 x 49\n",
        "\n",
        "#         t_y = y.reshape(1,196)\n",
        "\n",
        "#         t_part1 = np.array(part1).T # 49 x 10\n",
        "\n",
        "#         t_z2 = z.reshape(49,1)\n",
        "\n",
        "#         part2 = np.dot(np.dot(t_part1,w), np.dot((1 - t_z2),t_y )) # 49 x 196\n",
        "\n",
        "#         v -= learning_rate * part2\n",
        "#         # v -= learning_rate * label_filter * (1 - h) * z * w * (1 - z) * y\n",
        "#         # 49 x 196\n",
        "\n",
        "#         t_part2 = np.array(part2).T # 196 x 49\n",
        "\n",
        "#         t_x = x.reshape(1,784)\n",
        "\n",
        "#         part3 = np.dot(np.dot(t_part2,v),y * (1 - y))\n",
        "\n",
        "#         t_part3 = part3.reshape(196,1)\n",
        "\n",
        "#         u -= learning_rate * np.dot(t_part3 ,t_x)\n",
        "#         # u -= learning_rate * label_filter * (1 - h) * z * w * (1 - z) * y * v * y * (1 - y) * x\n",
        "#         # 196 x 784\n",
        "\n",
        "#   return arr_OF"
      ],
      "execution_count": 0,
      "outputs": []
    },
    {
      "cell_type": "markdown",
      "metadata": {
        "colab_type": "text",
        "id": "-hMXvFDkOeMk"
      },
      "source": [
        "#**Result**\n",
        "#**1. Plot the loss curve**"
      ]
    },
    {
      "cell_type": "code",
      "metadata": {
        "colab_type": "code",
        "id": "PZQTgq3fQdiC",
        "colab": {
          "base_uri": "https://localhost:8080/",
          "height": 279
        },
        "outputId": "91731d15-3cd9-402f-b8d2-7914ea39ac87"
      },
      "source": [
        "fig = plt.figure()\n",
        "ax= fig.add_subplot(1,1,1)\n",
        "\n",
        "OF_training_loss_curve=np.array(training_arr_OF,dtype=float)\n",
        "OF_testing_loss_curve=np.array(testing_arr_OF,dtype=float)\n",
        "\n",
        "t1=np.arange(0,6000,step=1)\n",
        "t2=np.arange(0,4000,step=1)\n",
        "\n",
        "plt.xlabel('t')\n",
        "plt.ylabel('J (error)')\n",
        "\n",
        "plt.plot(t1,OF_training_loss_curve,color=\"blue\",label=\"training loss\",alpha=0.6,linewidth=3)\n",
        "plt.plot(t2,OF_testing_loss_curve,color=\"red\",label=\"testing loss\",alpha=0.5,linewidth=3)\n",
        "ax.set_ylim([0.0,0.011])\n",
        "# plt.plot(t,lambda_3_training_err,color=\"blue\",label=\"lambda 3 under-fitting\")\n",
        "\n",
        "plt.legend()\n",
        "plt.show()"
      ],
      "execution_count": 1334,
      "outputs": [
        {
          "output_type": "display_data",
          "data": {
            "image/png": "[encoded data removed]",
            "text/plain": [
              "<Figure size 432x288 with 1 Axes>"
            ]
          },
          "metadata": {
            "tags": [],
            "needs_background": "light"
          }
        }
      ]
    },
    {
      "cell_type": "markdown",
      "metadata": {
        "id": "0YLJ2Q3wiwig",
        "colab_type": "text"
      },
      "source": [
        "#**2. Plot the accuracy curve**"
      ]
    },
    {
      "cell_type": "code",
      "metadata": {
        "colab_type": "code",
        "id": "fzrGMRLRFuL1",
        "colab": {
          "base_uri": "https://localhost:8080/",
          "height": 279
        },
        "outputId": "7eb4d022-fc7f-4189-f1d4-4770064b6056"
      },
      "source": [
        "training_accuracy_curve=np.array(training_accuracy_rate_arr,dtype=float)\n",
        "testing_accuracy_curve=np.array(testing_accuracy_rate_arr,dtype=float)\n",
        "\n",
        "t1=np.arange(0,6000,step=1)\n",
        "t2=np.arange(0,4000,step=1)\n",
        "\n",
        "plt.xlabel('t')\n",
        "plt.ylabel('accuracy curve')\n",
        "\n",
        "plt.plot(t1,training_accuracy_curve,color=\"blue\",label=\"training accuracy\")\n",
        "plt.plot(t2,testing_accuracy_curve,color=\"red\",label=\"testing accuracy\")\n",
        "# plt.plot(t,lambda_3_training_err,color=\"blue\",label=\"lambda 3 under-fitting\")\n",
        "\n",
        "plt.legend()\n",
        "plt.show()"
      ],
      "execution_count": 1335,
      "outputs": [
        {
          "output_type": "display_data",
          "data": {
            "image/png": "[encoded data removed]",
            "text/plain": [
              "<Figure size 432x288 with 1 Axes>"
            ]
          },
          "metadata": {
            "tags": [],
            "needs_background": "light"
          }
        }
      ]
    },
    {
      "cell_type": "markdown",
      "metadata": {
        "colab_type": "text",
        "id": "ZEE6JgkFs90N"
      },
      "source": [
        "# **3. Plot the accuracy value**"
      ]
    },
    {
      "cell_type": "code",
      "metadata": {
        "id": "zegjeACdOWnH",
        "colab_type": "code",
        "colab": {
          "base_uri": "https://localhost:8080/",
          "height": 52
        },
        "outputId": "1ad5bce4-f368-43d3-ed4c-de96b6fd694e"
      },
      "source": [
        "print(\"training accuracy : \",training_accuracy_count/6000*100,\"%\")\n",
        "print(\"testing accuracy : \",testing_accuracy_count/4000*100,\"%\")"
      ],
      "execution_count": 1336,
      "outputs": [
        {
          "output_type": "stream",
          "text": [
            "training accuracy :  62.73333333333333 %\n",
            "testing accuracy :  9.25 %\n"
          ],
          "name": "stdout"
        }
      ]
    },
    {
      "cell_type": "markdown",
      "metadata": {
        "id": "uFrKaQroOaxR",
        "colab_type": "text"
      },
      "source": [
        "#**4. Plot the classification example**"
      ]
    },
    {
      "cell_type": "code",
      "metadata": {
        "id": "XDhwkJpEOdIl",
        "colab_type": "code",
        "colab": {
          "base_uri": "https://localhost:8080/",
          "height": 227
        },
        "outputId": "d6b5ab25-34b4-454a-db28-2c2c878e7eaf"
      },
      "source": [
        "f2 = plt.figure(1)\n",
        "\n",
        "for i in range(10):\n",
        "\n",
        "    plt_label   = correct_label[i]\n",
        "    im_vector   = correct_image[i]\n",
        "    im_matrix   = im_vector.reshape((size_row, size_col))\n",
        "\n",
        "    plt.subplot(2, 5, i+1)\n",
        "    plt.title(plt_label)\n",
        "    plt.imshow(im_matrix, cmap='Greys', interpolation='None')\n",
        "\n",
        "    frame   = plt.gca()\n",
        "    frame.axes.get_xaxis().set_visible(False)\n",
        "    frame.axes.get_yaxis().set_visible(False)\n",
        "\n",
        "plt.show()"
      ],
      "execution_count": 1337,
      "outputs": [
        {
          "output_type": "display_data",
          "data": {
            "image/png": "[encoded data removed]",
            "text/plain": [
              "<Figure size 432x288 with 10 Axes>"
            ]
          },
          "metadata": {
            "tags": [],
            "needs_background": "light"
          }
        }
      ]
    },
    {
      "cell_type": "code",
      "metadata": {
        "id": "HiT7jDfZOg9X",
        "colab_type": "code",
        "colab": {
          "base_uri": "https://localhost:8080/",
          "height": 227
        },
        "outputId": "160ad12e-7010-4c8c-e2dd-856aff324632"
      },
      "source": [
        "f2 = plt.figure(1)\n",
        "\n",
        "for i in range(10):\n",
        "\n",
        "    plt_label   = incorrect_label[10*i]\n",
        "    im_vector   = incorrect_image[10*i]\n",
        "    im_matrix   = im_vector.reshape((size_row, size_col))\n",
        "\n",
        "    plt.subplot(2, 5, i+1)\n",
        "    plt.title(plt_label)\n",
        "    plt.imshow(im_matrix, cmap='Greys', interpolation='None')\n",
        "\n",
        "    frame   = plt.gca()\n",
        "    frame.axes.get_xaxis().set_visible(False)\n",
        "    frame.axes.get_yaxis().set_visible(False)\n",
        "\n",
        "plt.show()"
      ],
      "execution_count": 1338,
      "outputs": [
        {
          "output_type": "display_data",
          "data": {
            "image/png": "[encoded data removed]",
            "text/plain": [
              "<Figure size 432x288 with 10 Axes>"
            ]
          },
          "metadata": {
            "tags": [],
            "needs_background": "light"
          }
        }
      ]
    }
  ]
}