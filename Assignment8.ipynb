{
  "nbformat": 4,
  "nbformat_minor": 0,
  "metadata": {
    "colab": {
      "name": "Assignment8.ipynb",
      "provenance": [],
      "collapsed_sections": [],
      "mount_file_id": "1nxNHGacESyZfmVr8Xu3ZNKnQTr2KgqU-",
      "authorship_tag": "ABX9TyORtFw+i6Tq0+4DhF7aRqSl",
      "include_colab_link": true
    },
    "kernelspec": {
      "display_name": "Python 3",
      "language": "python",
      "name": "python3"
    },
    "language_info": {
      "codemirror_mode": {
        "name": "ipython",
        "version": 3
      },
      "file_extension": ".py",
      "mimetype": "text/x-python",
      "name": "python",
      "nbconvert_exporter": "python",
      "pygments_lexer": "ipython3",
      "version": "3.8.2"
    },
    "accelerator": "TPU"
  },
  "cells": [
    {
      "cell_type": "markdown",
      "metadata": {
        "id": "view-in-github",
        "colab_type": "text"
      },
      "source": [
        "<a href=\"https://colab.research.google.com/github/carnival77/Machine_Learning/blob/master/Assignment8.ipynb\" target=\"_parent\"><img src=\"https://colab.research.google.com/assets/colab-badge.svg\" alt=\"Open In Colab\"/></a>"
      ]
    },
    {
      "cell_type": "markdown",
      "metadata": {
        "id": "RO9f7HuzsvQ9",
        "colab_type": "text"
      },
      "source": [
        "#**1. Input Data**"
      ]
    },
    {
      "cell_type": "markdown",
      "metadata": {
        "id": "xOqSLLhbsyte",
        "colab_type": "text"
      },
      "source": [
        "* load the data file ('mnist_test.csv')\n",
        "* each row of the data consists of the label and the image pixel values in a vector form\n",
        "* the label is one of the 10 digits from 0 to 9\n",
        "* the image represents one of the 10 digits from 0 to 9 in grey scale and its size is 28x28"
      ]
    },
    {
      "cell_type": "code",
      "metadata": {
        "colab_type": "code",
        "id": "PMrBtj-ZWleI",
        "colab": {}
      },
      "source": [
        "import numpy as np\n",
        "import matplotlib.pyplot as plt\n",
        "import csv\n",
        "\n",
        "file_data   = \"/content/drive/My Drive/Colab Notebooks/assignment8/mnist_test.csv\"\n",
        "handle_file = open(file_data, \"r\")\n",
        "data        = handle_file.readlines()\n",
        "handle_file.close()\n",
        "\n",
        "size_row    = 28    # height of the image\n",
        "size_col    = 28    # width of the image\n",
        "\n",
        "num_image   = len(data)\n",
        "count       = 0     # count for the number of images\n",
        "\n",
        "#\n",
        "# make a matrix each column of which represents an images in a vector form \n",
        "#\n",
        "list_image  = np.empty((size_row * size_col, num_image), dtype=float)\n",
        "list_label  = np.empty(num_image, dtype=int)\n",
        "\n",
        "## mine------------------\n",
        "\n",
        "arr_label=[]\n",
        "arr_image=[]\n",
        "## ----------------------\n",
        "\n",
        "for line in data:\n",
        "\n",
        "    line_data   = line.split(',')\n",
        "    label       = line_data[0]\n",
        "    im_vector   = np.asfarray(line_data[1:])\n",
        "\n",
        "    list_label[count]       = label\n",
        "    list_image[:, count]    = im_vector\n",
        "\n",
        "     ## mine----------------\n",
        "\n",
        "    arr_label.append(label)\n",
        "    arr_image.append(line_data[1:])\n",
        "\n",
        "     ##-------------------\n",
        "\n",
        "    count += 1\n",
        "\n",
        "\n",
        "\n",
        "# \n",
        "# plot first 100 images out of 10,000 with their labels\n",
        "# \n",
        "# f1 = plt.figure(1)\n",
        "\n",
        "# for i in range(100):\n",
        "\n",
        "#     label       = list_label[i]\n",
        "#     im_vector   = list_image[:, i]\n",
        "#     im_matrix   = im_vector.reshape((size_row, size_col))\n",
        "\n",
        "#     # plt.subplot(10, 10, i+1)\n",
        "#     plt.title(label)\n",
        "#     plt.imshow(im_matrix, cmap='Greys', interpolation='None')\n",
        "\n",
        "#     frame   = plt.gca()\n",
        "#     frame.axes.get_xaxis().set_visible(False)\n",
        "#     frame.axes.get_yaxis().set_visible(False)\n",
        "\n",
        "# plt.show()"
      ],
      "execution_count": 0,
      "outputs": []
    },
    {
      "cell_type": "markdown",
      "metadata": {
        "colab_type": "text",
        "id": "-hMXvFDkOeMk"
      },
      "source": [
        "#**2. Average Image for Each Digit**\n",
        "#1. **Plot the average image**"
      ]
    },
    {
      "cell_type": "markdown",
      "metadata": {
        "colab_type": "text",
        "id": "ZLSIVEpfQVvn"
      },
      "source": [
        "\n",
        "\n",
        "* take the arithmatic average of the image data with the same label for each digit\n",
        "\n",
        "* plot the average images of the same label for each digit\n",
        "* arrange the subplots in 2x5 array for the 10 average images and present the label at the title of each subplot in the increasing order of the label\n"
      ]
    },
    {
      "cell_type": "code",
      "metadata": {
        "colab_type": "code",
        "id": "PZQTgq3fQdiC",
        "outputId": "55f77a99-2f98-4680-aa5e-5e159966b670",
        "colab": {
          "base_uri": "https://localhost:8080/",
          "height": 282
        }
      },
      "source": [
        "# 라벨 같은 이미지끼리 추리기\n",
        "\n",
        "cnt = 0\n",
        "label=['0','1','2','3','4','5','6','7','8','9']\n",
        "complete=0\n",
        "\n",
        "label_vector=[]\n",
        "\n",
        "for i in range(10):\n",
        "  label_vector.append([])\n",
        "\n",
        "while(complete<10):\n",
        "  for i in enumerate(arr_label):\n",
        "    if(i[1]==label[cnt]):\n",
        "        label_vector[cnt].append((label[cnt],arr_image[i[0]]))\n",
        "  cnt+=1\n",
        "  complete+=1\n",
        "\n",
        "# 벡터 평균 구하기\n",
        "\n",
        "print(label_vector[0][0]) # label+label_ele_vector\n",
        "\n",
        "print(label_vector[0][0][1]) # label_ele_vector\n",
        "\n",
        "# print(len(label_vector[0])) # label_ele_num. label 0\n",
        "\n",
        "label_ele_num=[] # 각 라벨 별 요소 개수\n",
        "\n",
        "for i in range(10):\n",
        "  label_ele_num.append(len(label_vector[i]))\n",
        "\n",
        "# print(label_ele_num)\n",
        "\n",
        "vectors = [] # 각 라벨별 벡터 리스트.\n",
        "\n",
        "for i in range(10):\n",
        "  vectors.append([])\n",
        "\n",
        "cnt=0\n",
        "\n",
        "while(cnt<10):\n",
        "\n",
        "  temp=[]\n",
        "\n",
        "  for i in range(28*28):\n",
        "    a=0\n",
        "    for j in range(label_ele_num[cnt]): \n",
        "      a+=int(label_vector[cnt][j][1][i])\n",
        "    temp.append(a)\n",
        "\n",
        "  vectors[cnt].append(temp)\n",
        "\n",
        "  cnt+=1\n",
        "\n",
        "cnt = 0\n",
        "\n",
        "avg_label_vector = [] # 각 라벨별 벡터의 평균 리스트\n",
        "\n",
        "for i in range(10):\n",
        "  avg_label_vector.append([])\n",
        "\n",
        "while(cnt<10):\n",
        "\n",
        "  temp=[]\n",
        "\n",
        "  for i in range(28*28):\n",
        "    a=0\n",
        "    for j in range(label_ele_num[cnt]):\n",
        "      a+=int(label_vector[cnt][j][1][i])\n",
        "    temp.append(a)\n",
        "\n",
        "  for i in range(28*28):\n",
        "    temp[i]/=label_ele_num[cnt]\n",
        "  avg_label_vector[cnt].append(temp)\n",
        "\n",
        "  cnt+=1\n",
        "\n",
        "#------------------- 이미지 제시 ----------------------- \n",
        "\n",
        "num_image = 10\n",
        "count=0\n",
        "\n",
        "list_image  = np.empty((size_row * size_col, num_image), dtype=float)\n",
        "list_label  = np.empty(num_image, dtype=int)\n",
        "\n",
        "# im_vector=[]\n",
        "\n",
        "for i in range(10):\n",
        "\n",
        "    im_vector   = np.asfarray(avg_label_vector[i])\n",
        "\n",
        "    # print(im_vector)\n",
        "\n",
        "    # list_label[count]       = label\n",
        "    list_image[:, count]    = im_vector\n",
        "\n",
        "    count += 1\n",
        "\n",
        "# print(im_vector)\n",
        "# print(list_image)\n",
        "# print(len(list_image))\n",
        "\n",
        "## 그림으로 나타내기\n",
        "\n",
        "f2 = plt.figure(1)\n",
        "\n",
        "for i in range(10):\n",
        "\n",
        "    plt_label   = label[i]\n",
        "    im_vector   = list_image[:, i]\n",
        "    im_matrix   = im_vector.reshape((size_row, size_col))\n",
        "\n",
        "    plt.subplot(2, 5, i+1)\n",
        "    plt.title(plt_label)\n",
        "    plt.imshow(im_matrix, cmap='Greys', interpolation='None')\n",
        "\n",
        "    frame   = plt.gca()\n",
        "    frame.axes.get_xaxis().set_visible(False)\n",
        "    frame.axes.get_yaxis().set_visible(False)\n",
        "\n",
        "plt.show()"
      ],
      "execution_count": 9,
      "outputs": [
        {
          "output_type": "stream",
          "text": [
            "('0', ['0', '0', '0', '0', '0', '0', '0', '0', '0', '0', '0', '0', '0', '0', '0', '0', '0', '0', '0', '0', '0', '0', '0', '0', '0', '0', '0', '0', '0', '0', '0', '0', '0', '0', '0', '0', '0', '0', '0', '0', '0', '0', '0', '0', '0', '0', '0', '0', '0', '0', '0', '0', '0', '0', '0', '0', '0', '0', '0', '0', '0', '0', '0', '0', '0', '0', '0', '0', '0', '0', '0', '0', '0', '0', '0', '0', '0', '0', '0', '0', '0', '0', '0', '0', '0', '0', '0', '0', '0', '0', '0', '0', '0', '0', '0', '0', '0', '0', '0', '0', '0', '0', '0', '0', '0', '0', '0', '0', '0', '0', '0', '0', '0', '0', '0', '0', '0', '0', '0', '0', '0', '0', '0', '0', '11', '150', '253', '202', '31', '0', '0', '0', '0', '0', '0', '0', '0', '0', '0', '0', '0', '0', '0', '0', '0', '0', '0', '0', '0', '0', '0', '0', '37', '251', '251', '253', '107', '0', '0', '0', '0', '0', '0', '0', '0', '0', '0', '0', '0', '0', '0', '0', '0', '0', '0', '0', '0', '0', '0', '21', '197', '251', '251', '253', '107', '0', '0', '0', '0', '0', '0', '0', '0', '0', '0', '0', '0', '0', '0', '0', '0', '0', '0', '0', '0', '0', '110', '190', '251', '251', '251', '253', '169', '109', '62', '0', '0', '0', '0', '0', '0', '0', '0', '0', '0', '0', '0', '0', '0', '0', '0', '0', '0', '0', '253', '251', '251', '251', '251', '253', '251', '251', '220', '51', '0', '0', '0', '0', '0', '0', '0', '0', '0', '0', '0', '0', '0', '0', '0', '0', '0', '182', '255', '253', '253', '253', '253', '234', '222', '253', '253', '253', '0', '0', '0', '0', '0', '0', '0', '0', '0', '0', '0', '0', '0', '0', '0', '0', '63', '221', '253', '251', '251', '251', '147', '77', '62', '128', '251', '251', '105', '0', '0', '0', '0', '0', '0', '0', '0', '0', '0', '0', '0', '0', '0', '32', '231', '251', '253', '251', '220', '137', '10', '0', '0', '31', '230', '251', '243', '113', '5', '0', '0', '0', '0', '0', '0', '0', '0', '0', '0', '0', '0', '37', '251', '251', '253', '188', '20', '0', '0', '0', '0', '0', '109', '251', '253', '251', '35', '0', '0', '0', '0', '0', '0', '0', '0', '0', '0', '0', '0', '37', '251', '251', '201', '30', '0', '0', '0', '0', '0', '0', '31', '200', '253', '251', '35', '0', '0', '0', '0', '0', '0', '0', '0', '0', '0', '0', '0', '37', '253', '253', '0', '0', '0', '0', '0', '0', '0', '0', '32', '202', '255', '253', '164', '0', '0', '0', '0', '0', '0', '0', '0', '0', '0', '0', '0', '140', '251', '251', '0', '0', '0', '0', '0', '0', '0', '0', '109', '251', '253', '251', '35', '0', '0', '0', '0', '0', '0', '0', '0', '0', '0', '0', '0', '217', '251', '251', '0', '0', '0', '0', '0', '0', '21', '63', '231', '251', '253', '230', '30', '0', '0', '0', '0', '0', '0', '0', '0', '0', '0', '0', '0', '217', '251', '251', '0', '0', '0', '0', '0', '0', '144', '251', '251', '251', '221', '61', '0', '0', '0', '0', '0', '0', '0', '0', '0', '0', '0', '0', '0', '217', '251', '251', '0', '0', '0', '0', '0', '182', '221', '251', '251', '251', '180', '0', '0', '0', '0', '0', '0', '0', '0', '0', '0', '0', '0', '0', '0', '218', '253', '253', '73', '73', '228', '253', '253', '255', '253', '253', '253', '253', '0', '0', '0', '0', '0', '0', '0', '0', '0', '0', '0', '0', '0', '0', '0', '113', '251', '251', '253', '251', '251', '251', '251', '253', '251', '251', '251', '147', '0', '0', '0', '0', '0', '0', '0', '0', '0', '0', '0', '0', '0', '0', '0', '31', '230', '251', '253', '251', '251', '251', '251', '253', '230', '189', '35', '10', '0', '0', '0', '0', '0', '0', '0', '0', '0', '0', '0', '0', '0', '0', '0', '0', '62', '142', '253', '251', '251', '251', '251', '253', '107', '0', '0', '0', '0', '0', '0', '0', '0', '0', '0', '0', '0', '0', '0', '0', '0', '0', '0', '0', '0', '0', '72', '174', '251', '173', '71', '72', '30', '0', '0', '0', '0', '0', '0', '0', '0', '0', '0', '0', '0', '0', '0', '0', '0', '0', '0', '0', '0', '0', '0', '0', '0', '0', '0', '0', '0', '0', '0', '0', '0', '0', '0', '0', '0', '0', '0', '0', '0', '0', '0', '0', '0', '0', '0', '0', '0', '0', '0', '0', '0', '0', '0', '0', '0', '0', '0', '0', '0', '0', '0', '0', '0', '0', '0', '0', '0', '0', '0', '0', '0', '0', '0', '0', '0', '0', '0', '0', '0', '0', '0', '0', '0', '0', '0', '0', '0', '0', '0', '0', '0', '0', '0', '0', '0', '0', '0', '0', '0', '0', '0', '0', '0', '0', '0', '0', '0', '0', '0', '0', '0', '0', '0', '0', '0', '0', '0', '0', '0', '0', '0', '0\\n'])\n",
            "['0', '0', '0', '0', '0', '0', '0', '0', '0', '0', '0', '0', '0', '0', '0', '0', '0', '0', '0', '0', '0', '0', '0', '0', '0', '0', '0', '0', '0', '0', '0', '0', '0', '0', '0', '0', '0', '0', '0', '0', '0', '0', '0', '0', '0', '0', '0', '0', '0', '0', '0', '0', '0', '0', '0', '0', '0', '0', '0', '0', '0', '0', '0', '0', '0', '0', '0', '0', '0', '0', '0', '0', '0', '0', '0', '0', '0', '0', '0', '0', '0', '0', '0', '0', '0', '0', '0', '0', '0', '0', '0', '0', '0', '0', '0', '0', '0', '0', '0', '0', '0', '0', '0', '0', '0', '0', '0', '0', '0', '0', '0', '0', '0', '0', '0', '0', '0', '0', '0', '0', '0', '0', '0', '0', '11', '150', '253', '202', '31', '0', '0', '0', '0', '0', '0', '0', '0', '0', '0', '0', '0', '0', '0', '0', '0', '0', '0', '0', '0', '0', '0', '0', '37', '251', '251', '253', '107', '0', '0', '0', '0', '0', '0', '0', '0', '0', '0', '0', '0', '0', '0', '0', '0', '0', '0', '0', '0', '0', '0', '21', '197', '251', '251', '253', '107', '0', '0', '0', '0', '0', '0', '0', '0', '0', '0', '0', '0', '0', '0', '0', '0', '0', '0', '0', '0', '0', '110', '190', '251', '251', '251', '253', '169', '109', '62', '0', '0', '0', '0', '0', '0', '0', '0', '0', '0', '0', '0', '0', '0', '0', '0', '0', '0', '0', '253', '251', '251', '251', '251', '253', '251', '251', '220', '51', '0', '0', '0', '0', '0', '0', '0', '0', '0', '0', '0', '0', '0', '0', '0', '0', '0', '182', '255', '253', '253', '253', '253', '234', '222', '253', '253', '253', '0', '0', '0', '0', '0', '0', '0', '0', '0', '0', '0', '0', '0', '0', '0', '0', '63', '221', '253', '251', '251', '251', '147', '77', '62', '128', '251', '251', '105', '0', '0', '0', '0', '0', '0', '0', '0', '0', '0', '0', '0', '0', '0', '32', '231', '251', '253', '251', '220', '137', '10', '0', '0', '31', '230', '251', '243', '113', '5', '0', '0', '0', '0', '0', '0', '0', '0', '0', '0', '0', '0', '37', '251', '251', '253', '188', '20', '0', '0', '0', '0', '0', '109', '251', '253', '251', '35', '0', '0', '0', '0', '0', '0', '0', '0', '0', '0', '0', '0', '37', '251', '251', '201', '30', '0', '0', '0', '0', '0', '0', '31', '200', '253', '251', '35', '0', '0', '0', '0', '0', '0', '0', '0', '0', '0', '0', '0', '37', '253', '253', '0', '0', '0', '0', '0', '0', '0', '0', '32', '202', '255', '253', '164', '0', '0', '0', '0', '0', '0', '0', '0', '0', '0', '0', '0', '140', '251', '251', '0', '0', '0', '0', '0', '0', '0', '0', '109', '251', '253', '251', '35', '0', '0', '0', '0', '0', '0', '0', '0', '0', '0', '0', '0', '217', '251', '251', '0', '0', '0', '0', '0', '0', '21', '63', '231', '251', '253', '230', '30', '0', '0', '0', '0', '0', '0', '0', '0', '0', '0', '0', '0', '217', '251', '251', '0', '0', '0', '0', '0', '0', '144', '251', '251', '251', '221', '61', '0', '0', '0', '0', '0', '0', '0', '0', '0', '0', '0', '0', '0', '217', '251', '251', '0', '0', '0', '0', '0', '182', '221', '251', '251', '251', '180', '0', '0', '0', '0', '0', '0', '0', '0', '0', '0', '0', '0', '0', '0', '218', '253', '253', '73', '73', '228', '253', '253', '255', '253', '253', '253', '253', '0', '0', '0', '0', '0', '0', '0', '0', '0', '0', '0', '0', '0', '0', '0', '113', '251', '251', '253', '251', '251', '251', '251', '253', '251', '251', '251', '147', '0', '0', '0', '0', '0', '0', '0', '0', '0', '0', '0', '0', '0', '0', '0', '31', '230', '251', '253', '251', '251', '251', '251', '253', '230', '189', '35', '10', '0', '0', '0', '0', '0', '0', '0', '0', '0', '0', '0', '0', '0', '0', '0', '0', '62', '142', '253', '251', '251', '251', '251', '253', '107', '0', '0', '0', '0', '0', '0', '0', '0', '0', '0', '0', '0', '0', '0', '0', '0', '0', '0', '0', '0', '0', '72', '174', '251', '173', '71', '72', '30', '0', '0', '0', '0', '0', '0', '0', '0', '0', '0', '0', '0', '0', '0', '0', '0', '0', '0', '0', '0', '0', '0', '0', '0', '0', '0', '0', '0', '0', '0', '0', '0', '0', '0', '0', '0', '0', '0', '0', '0', '0', '0', '0', '0', '0', '0', '0', '0', '0', '0', '0', '0', '0', '0', '0', '0', '0', '0', '0', '0', '0', '0', '0', '0', '0', '0', '0', '0', '0', '0', '0', '0', '0', '0', '0', '0', '0', '0', '0', '0', '0', '0', '0', '0', '0', '0', '0', '0', '0', '0', '0', '0', '0', '0', '0', '0', '0', '0', '0', '0', '0', '0', '0', '0', '0', '0', '0', '0', '0', '0', '0', '0', '0', '0', '0', '0', '0', '0', '0', '0', '0', '0', '0\\n']\n"
          ],
          "name": "stdout"
        },
        {
          "output_type": "display_data",
          "data": {
            "image/png": "[encoded data removed]",
            "text/plain": [
              "<Figure size 432x288 with 10 Axes>"
            ]
          },
          "metadata": {
            "tags": [],
            "needs_background": "light"
          }
        }
      ]
    },
    {
      "cell_type": "markdown",
      "metadata": {
        "id": "0YLJ2Q3wiwig",
        "colab_type": "text"
      },
      "source": [
        "#**2. Present the output of the neural network with random weights**"
      ]
    },
    {
      "cell_type": "markdown",
      "metadata": {
        "colab_type": "text",
        "id": "Y1zWPBS6FkmC"
      },
      "source": [
        "* consider a neural network with a fully connected layer using a logistic unit without a bias\n",
        "* assign random values from the normal distribution N(0,1)\\mathcal{N}(0, 1)N(0,1) with mean 0 and standard deviation 1 to the weights of the fully connected layer using a logistic unit without a bias\n",
        "* compute the forward propagation and take the average of the output values for the images of the same label\n",
        "* present the average values for each label in the increasing order of the label"
      ]
    },
    {
      "cell_type": "code",
      "metadata": {
        "colab_type": "code",
        "id": "fzrGMRLRFuL1",
        "outputId": "86e817ca-ee9c-4c32-c451-56a5f3b282bb",
        "colab": {
          "base_uri": "https://localhost:8080/",
          "height": 210
        }
      },
      "source": [
        "# avg_label_vector = [] # 각 라벨별 벡터의 평균 리스트\n",
        "\n",
        "# vectors = [] # 각 라벨별 벡터의 자릿수별 합 리스트.\n",
        "\n",
        "# label_ele_num=[] # 각 라벨 별 요소 개수\n",
        "\n",
        "# label=['0','1','2','3','4','5','6','7','8','9']\n",
        "\n",
        "# list_image\n",
        "# list_label\n",
        "\n",
        "# label_vector[0][0] # label+label_ele_vector. 0번째 라벨 집합의 0번째 요소.\n",
        "\n",
        "# print(label_vector[0][0][1]) # label_ele_vector. 0번째 라벨 집합의 0번째 요소의 벡터만\n",
        "\n",
        "num_image=10000\n",
        "\n",
        "# y = np.empty((size_row * size_col, num_image), dtype=float)\n",
        "\n",
        "all_z=[]\n",
        "\n",
        "for i in range(10):\n",
        "  all_z.append([])\n",
        "\n",
        "# all_z = np.empty((len(label),size_row * size_col, num_image), dtype=float)\n",
        "\n",
        "# all_z = np.empty((size_row * size_col, num_image), dtype=float)\n",
        "\n",
        "# for cnt in range(10):\n",
        "#   for ele_num in label_ele_num:\n",
        "#     z = np.empty((size_row * size_col, ele_num), dtype=float)\n",
        "#     all_z[cnt]=z\n",
        "\n",
        "np.random.seed(28*28)\n",
        "\n",
        "mu,sigma = 0.0,1.0\n",
        "\n",
        "rand_norm = np.random.normal(mu,sigma,size=28*28)\n",
        "\n",
        "# rand_norm = np.random.randn(28*28)\n",
        "\n",
        "cnt=0\n",
        "\n",
        "t=0\n",
        "\n",
        "while(cnt<10):\n",
        "\n",
        "  for i in range(label_ele_num[cnt]):\n",
        "\n",
        "    z = np.empty((size_row * size_col, label_ele_num[cnt]), dtype=float)\n",
        "\n",
        "    im_vector   = np.asfarray(label_vector[cnt][i][1])\n",
        "\n",
        "    theta_x_input = rand_norm*im_vector\n",
        "\n",
        "    y    = theta_x_input\n",
        "\n",
        "    sigmoid = 1/(1+np.exp(-y))\n",
        "\n",
        "    z[:,i]    = sigmoid\n",
        "\n",
        "  all_z[cnt].append(z)\n",
        "\n",
        "  cnt+=1\n",
        "\n",
        "cnt=0\n",
        "\n",
        "# print(all_z[2])\n",
        "\n",
        "# print(len(all_z))\n",
        "# print(len(all_z[3])) ## 1. label   2. ?  3. input 개수(28*28)  4. 각 라벨의 개수\n",
        "# print(len(all_z[5][0]))\n",
        "# print(len(all_z[2][0][0]))\n",
        "\n",
        "result=[]\n",
        "\n",
        "for i in range(10):\n",
        "  result.append([])\n",
        "\n",
        "for cnt in range(10):\n",
        "  result[cnt]=np.mean(all_z[cnt])\n",
        "\n",
        "\n",
        "# np.set_printoptions(precision=3)\n",
        "\n",
        "for i in range(10):\n",
        "  print(result[i])\n",
        "\n",
        "# for i in range(10):\n",
        "#   print('%.5f' % result[i])\n",
        "\n",
        "# print(round(result[3],2))\n",
        "\n",
        "\n",
        "\n"
      ],
      "execution_count": 10,
      "outputs": [
        {
          "output_type": "stream",
          "text": [
            "/usr/local/lib/python3.6/dist-packages/ipykernel_launcher.py:58: RuntimeWarning: overflow encountered in exp\n"
          ],
          "name": "stderr"
        },
        {
          "output_type": "stream",
          "text": [
            "0.3713067022132664\n",
            "7.17368959365948\n",
            "25.985576630788128\n",
            "23.229710825917973\n",
            "24.125027810502125\n",
            "0.5033397175694522\n",
            "0.5004449231049528\n",
            "0.4610540814991186\n",
            "0.5042263486678821\n",
            "8.007944659893003\n"
          ],
          "name": "stdout"
        }
      ]
    },
    {
      "cell_type": "markdown",
      "metadata": {
        "colab_type": "text",
        "id": "NTix0_vxfM7J"
      },
      "source": [
        "#**Result**"
      ]
    },
    {
      "cell_type": "markdown",
      "metadata": {
        "colab_type": "text",
        "id": "ZEE6JgkFs90N"
      },
      "source": [
        "#**1. Plot the average image**"
      ]
    },
    {
      "cell_type": "markdown",
      "metadata": {
        "colab_type": "text",
        "id": "KSr9BZOis90S"
      },
      "source": [
        "* plot the average images of the same label for each digit\n",
        "* arrange the subplots in 2x5 array for the 10 average images and present the label at the title of each subplot in the increasing order of the label"
      ]
    },
    {
      "cell_type": "code",
      "metadata": {
        "id": "4Ll0jjVrZPDv",
        "colab_type": "code",
        "colab": {
          "base_uri": "https://localhost:8080/",
          "height": 437
        },
        "outputId": "572777ec-52cc-4d1e-b105-880b81ee3c30"
      },
      "source": [
        "f2 = plt.figure(1)\n",
        "\n",
        "for i in range(10):\n",
        "\n",
        "    plt_label   = label[i]\n",
        "    im_vector   = list_image[:, i]\n",
        "    im_matrix   = im_vector.reshape((size_row, size_col))\n",
        "\n",
        "    plt.subplot(2, 5, i+1)\n",
        "    plt.title(plt_label)\n",
        "    plt.imshow(im_matrix, cmap='Greys', interpolation='None')\n",
        "\n",
        "    frame   = plt.gca()\n",
        "    frame.axes.get_xaxis().set_visible(False)\n",
        "    frame.axes.get_yaxis().set_visible(False)\n",
        "\n",
        "plt.show()"
      ],
      "execution_count": 11,
      "outputs": [
        {
          "output_type": "display_data",
          "data": {
            "image/png": "[encoded data removed]",
            "text/plain": [
              "<Figure size 432x288 with 10 Axes>"
            ]
          },
          "metadata": {
            "tags": [],
            "needs_background": "light"
          }
        },
        {
          "output_type": "display_data",
          "data": {
            "image/png": "[encoded data removed]",
            "text/plain": [
              "<Figure size 432x288 with 10 Axes>"
            ]
          },
          "metadata": {
            "tags": [],
            "needs_background": "light"
          }
        }
      ]
    },
    {
      "cell_type": "markdown",
      "metadata": {
        "colab_type": "text",
        "id": "54SAdJw3gEkf"
      },
      "source": [
        "#**2. Present the output of the neural network with random weights**"
      ]
    },
    {
      "cell_type": "code",
      "metadata": {
        "id": "CWFBKd22S5uu",
        "colab_type": "code",
        "colab": {
          "base_uri": "https://localhost:8080/",
          "height": 369
        },
        "outputId": "265b30ee-d387-4c41-d182-8fe0d1183869"
      },
      "source": [
        "for i in range(10):\n",
        "  print(result[i])"
      ],
      "execution_count": 12,
      "outputs": [
        {
          "output_type": "stream",
          "text": [
            "14.124141803121349\n",
            "26.462983910806194\n",
            "26.04981995166299\n",
            "23.20877477823157\n",
            "24.072651360940633\n",
            "0.5033397175694522\n",
            "22.619904972918818\n",
            "0.25254662696088304\n",
            "0.5042263486678821\n",
            "0.25183131267106035\n",
            "0.3713067022132664\n",
            "7.17368959365948\n",
            "25.985576630788128\n",
            "23.229710825917973\n",
            "24.125027810502125\n",
            "0.5033397175694522\n",
            "0.5004449231049528\n",
            "0.4610540814991186\n",
            "0.5042263486678821\n",
            "8.007944659893003\n"
          ],
          "name": "stdout"
        }
      ]
    }
  ]
}